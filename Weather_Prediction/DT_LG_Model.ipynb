{
  "cells": [
    {
      "cell_type": "markdown",
      "metadata": {
        "id": "7Gt760cACDmx"
      },
      "source": []
    },
    {
      "cell_type": "markdown",
      "metadata": {
        "id": "2UUCwBEaCXyK"
      },
      "source": [
        "# **Weather Prediction**\n",
        "### Group Number : 07\n",
        "### EG/2020/3956 - Hariharasakthy N.\n",
        "### EG/2020/4119 - Praveenan J.\n"
      ]
    },
    {
      "cell_type": "code",
      "execution_count": 199,
      "metadata": {
        "id": "fiZpZSh1CmIn"
      },
      "outputs": [],
      "source": [
        "#Importing the required Libraries\n",
        "import pandas as pd\n",
        "import numpy as np\n",
        "import matplotlib.pyplot as plt\n",
        "import seaborn as sns\n",
        "from sklearn.tree import DecisionTreeClassifier\n",
        "from imblearn.over_sampling import RandomOverSampler\n",
        "from sklearn.metrics import classification_report,ConfusionMatrixDisplay\n",
        "from sklearn.feature_selection import SelectKBest\n",
        "from sklearn.preprocessing import LabelEncoder\n",
        "from sklearn.preprocessing import MinMaxScaler\n",
        "from sklearn.model_selection import train_test_split\n",
        "%matplotlib inline"
      ]
    },
    {
      "cell_type": "code",
      "execution_count": 200,
      "metadata": {
        "colab": {
          "base_uri": "https://localhost:8080/",
          "height": 347
        },
        "id": "GzD3wQ1FFqj7",
        "outputId": "108ad1b3-e44d-4cc0-cded-0d0644f12a79"
      },
      "outputs": [
        {
          "data": {
            "text/html": [
              "<div>\n",
              "<style scoped>\n",
              "    .dataframe tbody tr th:only-of-type {\n",
              "        vertical-align: middle;\n",
              "    }\n",
              "\n",
              "    .dataframe tbody tr th {\n",
              "        vertical-align: top;\n",
              "    }\n",
              "\n",
              "    .dataframe thead th {\n",
              "        text-align: right;\n",
              "    }\n",
              "</style>\n",
              "<table border=\"1\" class=\"dataframe\">\n",
              "  <thead>\n",
              "    <tr style=\"text-align: right;\">\n",
              "      <th></th>\n",
              "      <th>Date/Time</th>\n",
              "      <th>Temp_C</th>\n",
              "      <th>Dew Point Temp_C</th>\n",
              "      <th>Rel Hum_%</th>\n",
              "      <th>Wind Speed_km/h</th>\n",
              "      <th>Visibility_km</th>\n",
              "      <th>Press_kPa</th>\n",
              "      <th>Weather</th>\n",
              "    </tr>\n",
              "  </thead>\n",
              "  <tbody>\n",
              "    <tr>\n",
              "      <th>0</th>\n",
              "      <td>1/1/2012 0:00</td>\n",
              "      <td>-1.8</td>\n",
              "      <td>-3.9</td>\n",
              "      <td>86</td>\n",
              "      <td>4</td>\n",
              "      <td>8.0</td>\n",
              "      <td>101.24</td>\n",
              "      <td>Fog</td>\n",
              "    </tr>\n",
              "    <tr>\n",
              "      <th>1</th>\n",
              "      <td>1/1/2012 1:00</td>\n",
              "      <td>-1.8</td>\n",
              "      <td>-3.7</td>\n",
              "      <td>87</td>\n",
              "      <td>4</td>\n",
              "      <td>8.0</td>\n",
              "      <td>101.24</td>\n",
              "      <td>Fog</td>\n",
              "    </tr>\n",
              "    <tr>\n",
              "      <th>2</th>\n",
              "      <td>1/1/2012 2:00</td>\n",
              "      <td>-1.8</td>\n",
              "      <td>-3.4</td>\n",
              "      <td>89</td>\n",
              "      <td>7</td>\n",
              "      <td>4.0</td>\n",
              "      <td>101.26</td>\n",
              "      <td>Freezing Drizzle,Fog</td>\n",
              "    </tr>\n",
              "    <tr>\n",
              "      <th>3</th>\n",
              "      <td>1/1/2012 3:00</td>\n",
              "      <td>-1.5</td>\n",
              "      <td>-3.2</td>\n",
              "      <td>88</td>\n",
              "      <td>6</td>\n",
              "      <td>4.0</td>\n",
              "      <td>101.27</td>\n",
              "      <td>Freezing Drizzle,Fog</td>\n",
              "    </tr>\n",
              "    <tr>\n",
              "      <th>4</th>\n",
              "      <td>1/1/2012 4:00</td>\n",
              "      <td>-1.5</td>\n",
              "      <td>-3.3</td>\n",
              "      <td>88</td>\n",
              "      <td>7</td>\n",
              "      <td>4.8</td>\n",
              "      <td>101.23</td>\n",
              "      <td>Fog</td>\n",
              "    </tr>\n",
              "  </tbody>\n",
              "</table>\n",
              "</div>"
            ],
            "text/plain": [
              "       Date/Time  Temp_C  Dew Point Temp_C  Rel Hum_%  Wind Speed_km/h  \\\n",
              "0  1/1/2012 0:00    -1.8              -3.9         86                4   \n",
              "1  1/1/2012 1:00    -1.8              -3.7         87                4   \n",
              "2  1/1/2012 2:00    -1.8              -3.4         89                7   \n",
              "3  1/1/2012 3:00    -1.5              -3.2         88                6   \n",
              "4  1/1/2012 4:00    -1.5              -3.3         88                7   \n",
              "\n",
              "   Visibility_km  Press_kPa               Weather  \n",
              "0            8.0     101.24                   Fog  \n",
              "1            8.0     101.24                   Fog  \n",
              "2            4.0     101.26  Freezing Drizzle,Fog  \n",
              "3            4.0     101.27  Freezing Drizzle,Fog  \n",
              "4            4.8     101.23                   Fog  "
            ]
          },
          "execution_count": 200,
          "metadata": {},
          "output_type": "execute_result"
        }
      ],
      "source": [
        "#Read the data file using pandas\n",
        "data=pd.read_csv('Weather_Data.csv')\n",
        "\n",
        "#Display top 5 data in the dataset\n",
        "data.head()"
      ]
    },
    {
      "cell_type": "code",
      "execution_count": 201,
      "metadata": {
        "colab": {
          "base_uri": "https://localhost:8080/"
        },
        "id": "oQDs-iIqHUkS",
        "outputId": "c113b10a-0d10-46f5-8c80-07ada734f1ce"
      },
      "outputs": [
        {
          "data": {
            "text/plain": [
              "(8784, 8)"
            ]
          },
          "execution_count": 201,
          "metadata": {},
          "output_type": "execute_result"
        }
      ],
      "source": [
        "#(Row ,Column)\n",
        "data.shape"
      ]
    },
    {
      "cell_type": "code",
      "execution_count": 202,
      "metadata": {
        "colab": {
          "base_uri": "https://localhost:8080/"
        },
        "id": "xED6BRHJIj2i",
        "outputId": "3e4b16dd-13d7-4454-f408-aa5cf7e6cb45"
      },
      "outputs": [
        {
          "data": {
            "text/plain": [
              "Index(['Date/Time', 'Temp_C', 'Dew Point Temp_C', 'Rel Hum_%',\n",
              "       'Wind Speed_km/h', 'Visibility_km', 'Press_kPa', 'Weather'],\n",
              "      dtype='object')"
            ]
          },
          "execution_count": 202,
          "metadata": {},
          "output_type": "execute_result"
        }
      ],
      "source": [
        "#To display  column names of the dataset\n",
        "data.columns"
      ]
    },
    {
      "cell_type": "code",
      "execution_count": 203,
      "metadata": {
        "colab": {
          "base_uri": "https://localhost:8080/"
        },
        "id": "b58Xhgl8I4dM",
        "outputId": "c4f8635a-1b1b-4f2d-fb22-4bca1172e762"
      },
      "outputs": [
        {
          "data": {
            "text/plain": [
              "Date/Time            object\n",
              "Temp_C              float64\n",
              "Dew Point Temp_C    float64\n",
              "Rel Hum_%             int64\n",
              "Wind Speed_km/h       int64\n",
              "Visibility_km       float64\n",
              "Press_kPa           float64\n",
              "Weather              object\n",
              "dtype: object"
            ]
          },
          "execution_count": 203,
          "metadata": {},
          "output_type": "execute_result"
        }
      ],
      "source": [
        "#To display the data types of the all features & label\n",
        "data.dtypes"
      ]
    },
    {
      "cell_type": "markdown",
      "metadata": {
        "id": "AmnY4iXWqeRe"
      },
      "source": [
        "## Data Visualizations"
      ]
    },
    {
      "cell_type": "code",
      "execution_count": 204,
      "metadata": {
        "id": "4DvW2Jq_u3gs"
      },
      "outputs": [],
      "source": [
        "# Drop the column Date/Time\n",
        "data.drop(columns=['Date/Time'],axis=1,inplace=True)"
      ]
    },
    {
      "cell_type": "code",
      "execution_count": 205,
      "metadata": {
        "colab": {
          "base_uri": "https://localhost:8080/",
          "height": 337
        },
        "id": "COlE68iiJUf-",
        "outputId": "b47125ba-767b-4cc1-a1fb-39e87b3b9c5f"
      },
      "outputs": [
        {
          "data": {
            "text/html": [
              "<div>\n",
              "<style scoped>\n",
              "    .dataframe tbody tr th:only-of-type {\n",
              "        vertical-align: middle;\n",
              "    }\n",
              "\n",
              "    .dataframe tbody tr th {\n",
              "        vertical-align: top;\n",
              "    }\n",
              "\n",
              "    .dataframe thead th {\n",
              "        text-align: right;\n",
              "    }\n",
              "</style>\n",
              "<table border=\"1\" class=\"dataframe\">\n",
              "  <thead>\n",
              "    <tr style=\"text-align: right;\">\n",
              "      <th></th>\n",
              "      <th>Temp_C</th>\n",
              "      <th>Dew Point Temp_C</th>\n",
              "      <th>Rel Hum_%</th>\n",
              "      <th>Wind Speed_km/h</th>\n",
              "      <th>Visibility_km</th>\n",
              "      <th>Press_kPa</th>\n",
              "    </tr>\n",
              "  </thead>\n",
              "  <tbody>\n",
              "    <tr>\n",
              "      <th>count</th>\n",
              "      <td>8784.000000</td>\n",
              "      <td>8784.000000</td>\n",
              "      <td>8784.000000</td>\n",
              "      <td>8784.000000</td>\n",
              "      <td>8784.000000</td>\n",
              "      <td>8784.000000</td>\n",
              "    </tr>\n",
              "    <tr>\n",
              "      <th>mean</th>\n",
              "      <td>8.798144</td>\n",
              "      <td>2.555294</td>\n",
              "      <td>67.431694</td>\n",
              "      <td>14.945469</td>\n",
              "      <td>27.664447</td>\n",
              "      <td>101.051623</td>\n",
              "    </tr>\n",
              "    <tr>\n",
              "      <th>std</th>\n",
              "      <td>11.687883</td>\n",
              "      <td>10.883072</td>\n",
              "      <td>16.918881</td>\n",
              "      <td>8.688696</td>\n",
              "      <td>12.622688</td>\n",
              "      <td>0.844005</td>\n",
              "    </tr>\n",
              "    <tr>\n",
              "      <th>min</th>\n",
              "      <td>-23.300000</td>\n",
              "      <td>-28.500000</td>\n",
              "      <td>18.000000</td>\n",
              "      <td>0.000000</td>\n",
              "      <td>0.200000</td>\n",
              "      <td>97.520000</td>\n",
              "    </tr>\n",
              "    <tr>\n",
              "      <th>25%</th>\n",
              "      <td>0.100000</td>\n",
              "      <td>-5.900000</td>\n",
              "      <td>56.000000</td>\n",
              "      <td>9.000000</td>\n",
              "      <td>24.100000</td>\n",
              "      <td>100.560000</td>\n",
              "    </tr>\n",
              "    <tr>\n",
              "      <th>50%</th>\n",
              "      <td>9.300000</td>\n",
              "      <td>3.300000</td>\n",
              "      <td>68.000000</td>\n",
              "      <td>13.000000</td>\n",
              "      <td>25.000000</td>\n",
              "      <td>101.070000</td>\n",
              "    </tr>\n",
              "    <tr>\n",
              "      <th>75%</th>\n",
              "      <td>18.800000</td>\n",
              "      <td>11.800000</td>\n",
              "      <td>81.000000</td>\n",
              "      <td>20.000000</td>\n",
              "      <td>25.000000</td>\n",
              "      <td>101.590000</td>\n",
              "    </tr>\n",
              "    <tr>\n",
              "      <th>max</th>\n",
              "      <td>33.000000</td>\n",
              "      <td>24.400000</td>\n",
              "      <td>100.000000</td>\n",
              "      <td>83.000000</td>\n",
              "      <td>48.300000</td>\n",
              "      <td>103.650000</td>\n",
              "    </tr>\n",
              "  </tbody>\n",
              "</table>\n",
              "</div>"
            ],
            "text/plain": [
              "            Temp_C  Dew Point Temp_C    Rel Hum_%  Wind Speed_km/h  \\\n",
              "count  8784.000000       8784.000000  8784.000000      8784.000000   \n",
              "mean      8.798144          2.555294    67.431694        14.945469   \n",
              "std      11.687883         10.883072    16.918881         8.688696   \n",
              "min     -23.300000        -28.500000    18.000000         0.000000   \n",
              "25%       0.100000         -5.900000    56.000000         9.000000   \n",
              "50%       9.300000          3.300000    68.000000        13.000000   \n",
              "75%      18.800000         11.800000    81.000000        20.000000   \n",
              "max      33.000000         24.400000   100.000000        83.000000   \n",
              "\n",
              "       Visibility_km    Press_kPa  \n",
              "count    8784.000000  8784.000000  \n",
              "mean       27.664447   101.051623  \n",
              "std        12.622688     0.844005  \n",
              "min         0.200000    97.520000  \n",
              "25%        24.100000   100.560000  \n",
              "50%        25.000000   101.070000  \n",
              "75%        25.000000   101.590000  \n",
              "max        48.300000   103.650000  "
            ]
          },
          "execution_count": 205,
          "metadata": {},
          "output_type": "execute_result"
        }
      ],
      "source": [
        "#Describe the datasets\n",
        "data.describe()"
      ]
    },
    {
      "cell_type": "markdown",
      "metadata": {
        "id": "ffK5D6VSwHVG"
      },
      "source": [
        "### Preprocessing For Decision Tree Algorithm"
      ]
    },
    {
      "cell_type": "code",
      "execution_count": 206,
      "metadata": {},
      "outputs": [
        {
          "data": {
            "text/html": [
              "<div>\n",
              "<style scoped>\n",
              "    .dataframe tbody tr th:only-of-type {\n",
              "        vertical-align: middle;\n",
              "    }\n",
              "\n",
              "    .dataframe tbody tr th {\n",
              "        vertical-align: top;\n",
              "    }\n",
              "\n",
              "    .dataframe thead th {\n",
              "        text-align: right;\n",
              "    }\n",
              "</style>\n",
              "<table border=\"1\" class=\"dataframe\">\n",
              "  <thead>\n",
              "    <tr style=\"text-align: right;\">\n",
              "      <th></th>\n",
              "      <th>Temp_C</th>\n",
              "      <th>Dew Point Temp_C</th>\n",
              "      <th>Rel Hum_%</th>\n",
              "      <th>Wind Speed_km/h</th>\n",
              "      <th>Visibility_km</th>\n",
              "      <th>Press_kPa</th>\n",
              "    </tr>\n",
              "  </thead>\n",
              "  <tbody>\n",
              "    <tr>\n",
              "      <th>0</th>\n",
              "      <td>-1.8</td>\n",
              "      <td>-3.9</td>\n",
              "      <td>86</td>\n",
              "      <td>4</td>\n",
              "      <td>8.0</td>\n",
              "      <td>101.24</td>\n",
              "    </tr>\n",
              "    <tr>\n",
              "      <th>1</th>\n",
              "      <td>-1.8</td>\n",
              "      <td>-3.7</td>\n",
              "      <td>87</td>\n",
              "      <td>4</td>\n",
              "      <td>8.0</td>\n",
              "      <td>101.24</td>\n",
              "    </tr>\n",
              "    <tr>\n",
              "      <th>2</th>\n",
              "      <td>-1.8</td>\n",
              "      <td>-3.4</td>\n",
              "      <td>89</td>\n",
              "      <td>7</td>\n",
              "      <td>4.0</td>\n",
              "      <td>101.26</td>\n",
              "    </tr>\n",
              "    <tr>\n",
              "      <th>3</th>\n",
              "      <td>-1.5</td>\n",
              "      <td>-3.2</td>\n",
              "      <td>88</td>\n",
              "      <td>6</td>\n",
              "      <td>4.0</td>\n",
              "      <td>101.27</td>\n",
              "    </tr>\n",
              "    <tr>\n",
              "      <th>4</th>\n",
              "      <td>-1.5</td>\n",
              "      <td>-3.3</td>\n",
              "      <td>88</td>\n",
              "      <td>7</td>\n",
              "      <td>4.8</td>\n",
              "      <td>101.23</td>\n",
              "    </tr>\n",
              "    <tr>\n",
              "      <th>...</th>\n",
              "      <td>...</td>\n",
              "      <td>...</td>\n",
              "      <td>...</td>\n",
              "      <td>...</td>\n",
              "      <td>...</td>\n",
              "      <td>...</td>\n",
              "    </tr>\n",
              "    <tr>\n",
              "      <th>8779</th>\n",
              "      <td>0.1</td>\n",
              "      <td>-2.7</td>\n",
              "      <td>81</td>\n",
              "      <td>30</td>\n",
              "      <td>9.7</td>\n",
              "      <td>100.13</td>\n",
              "    </tr>\n",
              "    <tr>\n",
              "      <th>8780</th>\n",
              "      <td>0.2</td>\n",
              "      <td>-2.4</td>\n",
              "      <td>83</td>\n",
              "      <td>24</td>\n",
              "      <td>9.7</td>\n",
              "      <td>100.03</td>\n",
              "    </tr>\n",
              "    <tr>\n",
              "      <th>8781</th>\n",
              "      <td>-0.5</td>\n",
              "      <td>-1.5</td>\n",
              "      <td>93</td>\n",
              "      <td>28</td>\n",
              "      <td>4.8</td>\n",
              "      <td>99.95</td>\n",
              "    </tr>\n",
              "    <tr>\n",
              "      <th>8782</th>\n",
              "      <td>-0.2</td>\n",
              "      <td>-1.8</td>\n",
              "      <td>89</td>\n",
              "      <td>28</td>\n",
              "      <td>9.7</td>\n",
              "      <td>99.91</td>\n",
              "    </tr>\n",
              "    <tr>\n",
              "      <th>8783</th>\n",
              "      <td>0.0</td>\n",
              "      <td>-2.1</td>\n",
              "      <td>86</td>\n",
              "      <td>30</td>\n",
              "      <td>11.3</td>\n",
              "      <td>99.89</td>\n",
              "    </tr>\n",
              "  </tbody>\n",
              "</table>\n",
              "<p>8784 rows × 6 columns</p>\n",
              "</div>"
            ],
            "text/plain": [
              "      Temp_C  Dew Point Temp_C  Rel Hum_%  Wind Speed_km/h  Visibility_km  \\\n",
              "0       -1.8              -3.9         86                4            8.0   \n",
              "1       -1.8              -3.7         87                4            8.0   \n",
              "2       -1.8              -3.4         89                7            4.0   \n",
              "3       -1.5              -3.2         88                6            4.0   \n",
              "4       -1.5              -3.3         88                7            4.8   \n",
              "...      ...               ...        ...              ...            ...   \n",
              "8779     0.1              -2.7         81               30            9.7   \n",
              "8780     0.2              -2.4         83               24            9.7   \n",
              "8781    -0.5              -1.5         93               28            4.8   \n",
              "8782    -0.2              -1.8         89               28            9.7   \n",
              "8783     0.0              -2.1         86               30           11.3   \n",
              "\n",
              "      Press_kPa  \n",
              "0        101.24  \n",
              "1        101.24  \n",
              "2        101.26  \n",
              "3        101.27  \n",
              "4        101.23  \n",
              "...         ...  \n",
              "8779     100.13  \n",
              "8780     100.03  \n",
              "8781      99.95  \n",
              "8782      99.91  \n",
              "8783      99.89  \n",
              "\n",
              "[8784 rows x 6 columns]"
            ]
          },
          "execution_count": 206,
          "metadata": {},
          "output_type": "execute_result"
        }
      ],
      "source": [
        "# Extracting all rows and all columns except the last one from the data set and assigning it to 'x'\n",
        "x=data.iloc[:,:-1]\n",
        "x"
      ]
    },
    {
      "cell_type": "code",
      "execution_count": 207,
      "metadata": {},
      "outputs": [
        {
          "data": {
            "text/plain": [
              "0                        Fog\n",
              "1                        Fog\n",
              "2       Freezing Drizzle,Fog\n",
              "3       Freezing Drizzle,Fog\n",
              "4                        Fog\n",
              "                ...         \n",
              "8779                    Snow\n",
              "8780                    Snow\n",
              "8781                    Snow\n",
              "8782                    Snow\n",
              "8783                    Snow\n",
              "Name: Weather, Length: 8784, dtype: object"
            ]
          },
          "execution_count": 207,
          "metadata": {},
          "output_type": "execute_result"
        }
      ],
      "source": [
        "# Extracting the last column from the data set and assigning it to 'y'\n",
        "y=data.iloc[:,-1]\n",
        "y"
      ]
    },
    {
      "cell_type": "code",
      "execution_count": 208,
      "metadata": {},
      "outputs": [],
      "source": [
        "# Creating an instance of the RandomOverSampler\n",
        "sm=RandomOverSampler()\n",
        "\n",
        "# Resampling the features 'x' and labels 'y' using the RandomOverSampler\n",
        "x,y=sm.fit_resample(x,y)"
      ]
    },
    {
      "cell_type": "code",
      "execution_count": 209,
      "metadata": {},
      "outputs": [
        {
          "data": {
            "text/plain": [
              "array([[0.38188277, 0.46502836, 0.82926829, 0.04819277, 0.16216216,\n",
              "        0.60685155],\n",
              "       [0.38188277, 0.46880907, 0.84146341, 0.04819277, 0.16216216,\n",
              "        0.60685155],\n",
              "       [0.38188277, 0.47448015, 0.86585366, 0.08433735, 0.07900208,\n",
              "        0.61011419],\n",
              "       ...,\n",
              "       [0.77975133, 0.89035917, 0.85365854, 0.22891566, 0.0956341 ,\n",
              "        0.41761827],\n",
              "       [0.77975133, 0.89035917, 0.85365854, 0.22891566, 0.0956341 ,\n",
              "        0.41761827],\n",
              "       [0.77975133, 0.89035917, 0.85365854, 0.22891566, 0.0956341 ,\n",
              "        0.41761827]])"
            ]
          },
          "execution_count": 209,
          "metadata": {},
          "output_type": "execute_result"
        }
      ],
      "source": [
        "# Creating an instance of MinMaxScaler\n",
        "ms=MinMaxScaler()\n",
        "\n",
        "# Scaling the features in 'x' using the MinMaxScaler\n",
        "Xsc=ms.fit_transform(x)\n",
        "\n",
        "# Displaying the scaled features\n",
        "Xsc"
      ]
    },
    {
      "cell_type": "code",
      "execution_count": 210,
      "metadata": {},
      "outputs": [],
      "source": [
        "# Splitting the dataset into training and testing sets\n",
        "X_train,X_test,y_train,y_test=train_test_split(Xsc,y,test_size=0.3,random_state=4)"
      ]
    },
    {
      "cell_type": "code",
      "execution_count": 211,
      "metadata": {
        "colab": {
          "base_uri": "https://localhost:8080/",
          "height": 366
        },
        "id": "aKVfB6odv_sZ",
        "outputId": "b1ca0444-f002-4f75-c5f8-3f8bf2fe4d6a"
      },
      "outputs": [
        {
          "data": {
            "text/plain": [
              "array(['Thunderstorms,Rain,Fog', 'Freezing Rain,Fog', 'Drizzle', ...,\n",
              "       'Freezing Drizzle,Haze', 'Haze', 'Freezing Rain,Snow Grains'],\n",
              "      dtype=object)"
            ]
          },
          "execution_count": 211,
          "metadata": {},
          "output_type": "execute_result"
        }
      ],
      "source": [
        "# Creating a DecisionTreeClassifier instance with specified parameters\n",
        "dt=DecisionTreeClassifier(criterion='entropy',random_state=2,max_depth=10)\n",
        "\n",
        "# Training the decision tree model on the training set\n",
        "dt.fit(X_train,y_train)\n",
        "\n",
        "# Making predictions on the test set\n",
        "y_pred3=dt.predict(X_test)\n",
        "\n",
        "# Displaying the predicted labels\n",
        "y_pred3"
      ]
    },
    {
      "cell_type": "code",
      "execution_count": 212,
      "metadata": {
        "id": "ZBgQD3M-wAGb"
      },
      "outputs": [
        {
          "name": "stdout",
          "output_type": "stream",
          "text": [
            "                                         precision    recall  f1-score   support\n",
            "\n",
            "                                  Clear       0.38      0.64      0.48       611\n",
            "                                 Cloudy       0.35      0.11      0.17       606\n",
            "                                Drizzle       0.58      0.97      0.73       608\n",
            "                            Drizzle,Fog       0.70      0.81      0.75       642\n",
            "                Drizzle,Ice Pellets,Fog       1.00      1.00      1.00       662\n",
            "                           Drizzle,Snow       1.00      1.00      1.00       621\n",
            "                       Drizzle,Snow,Fog       1.00      1.00      1.00       599\n",
            "                                    Fog       0.75      0.77      0.76       668\n",
            "                       Freezing Drizzle       0.79      1.00      0.88       603\n",
            "                   Freezing Drizzle,Fog       0.93      1.00      0.97       614\n",
            "                  Freezing Drizzle,Haze       1.00      1.00      1.00       604\n",
            "                  Freezing Drizzle,Snow       0.87      1.00      0.93       615\n",
            "                           Freezing Fog       1.00      1.00      1.00       618\n",
            "                          Freezing Rain       0.94      0.79      0.85       644\n",
            "                      Freezing Rain,Fog       0.94      1.00      0.97       639\n",
            "                     Freezing Rain,Haze       1.00      1.00      1.00       615\n",
            "          Freezing Rain,Ice Pellets,Fog       1.00      1.00      1.00       625\n",
            "              Freezing Rain,Snow Grains       1.00      1.00      1.00       626\n",
            "                                   Haze       0.97      1.00      0.99       628\n",
            "                           Mainly Clear       0.42      0.31      0.36       641\n",
            "                      Moderate Rain,Fog       1.00      1.00      1.00       676\n",
            "                          Moderate Snow       1.00      1.00      1.00       639\n",
            "             Moderate Snow,Blowing Snow       1.00      1.00      1.00       636\n",
            "                          Mostly Cloudy       0.38      0.12      0.19       645\n",
            "                                   Rain       0.59      0.46      0.52       650\n",
            "                           Rain Showers       0.48      0.54      0.51       610\n",
            "                       Rain Showers,Fog       1.00      1.00      1.00       628\n",
            "              Rain Showers,Snow Showers       1.00      1.00      1.00       662\n",
            "                               Rain,Fog       0.90      0.72      0.80       669\n",
            "                              Rain,Haze       1.00      1.00      1.00       664\n",
            "                       Rain,Ice Pellets       1.00      1.00      1.00       650\n",
            "                              Rain,Snow       0.98      1.00      0.99       627\n",
            "                       Rain,Snow Grains       1.00      1.00      1.00       655\n",
            "                          Rain,Snow,Fog       1.00      1.00      1.00       631\n",
            "                  Rain,Snow,Ice Pellets       1.00      1.00      1.00       632\n",
            "                                   Snow       0.79      0.61      0.69       662\n",
            "                           Snow Pellets       1.00      1.00      1.00       662\n",
            "                           Snow Showers       0.74      0.84      0.79       658\n",
            "                       Snow Showers,Fog       1.00      1.00      1.00       646\n",
            "                      Snow,Blowing Snow       1.00      1.00      1.00       649\n",
            "                               Snow,Fog       0.91      1.00      0.95       616\n",
            "                              Snow,Haze       1.00      1.00      1.00       623\n",
            "                       Snow,Ice Pellets       1.00      1.00      1.00       615\n",
            "                          Thunderstorms       0.99      1.00      1.00       611\n",
            "       Thunderstorms,Heavy Rain Showers       1.00      1.00      1.00       614\n",
            "Thunderstorms,Moderate Rain Showers,Fog       1.00      1.00      1.00       597\n",
            "                     Thunderstorms,Rain       0.97      1.00      0.98       613\n",
            "             Thunderstorms,Rain Showers       0.86      0.86      0.86       641\n",
            "         Thunderstorms,Rain Showers,Fog       1.00      1.00      1.00       600\n",
            "                 Thunderstorms,Rain,Fog       1.00      1.00      1.00       620\n",
            "\n",
            "                               accuracy                           0.89     31590\n",
            "                              macro avg       0.88      0.89      0.88     31590\n",
            "                           weighted avg       0.88      0.89      0.88     31590\n",
            "\n"
          ]
        }
      ],
      "source": [
        "# Generating and printing the classification report for the model's predictions on the test set\n",
        "print(classification_report(y_test,y_pred3))"
      ]
    },
    {
      "cell_type": "markdown",
      "metadata": {},
      "source": [
        "### Preprocessing for Logistic Regression"
      ]
    },
    {
      "cell_type": "code",
      "execution_count": 213,
      "metadata": {
        "colab": {
          "base_uri": "https://localhost:8080/"
        },
        "id": "WSp9JisdMBMI",
        "outputId": "db25fa77-4741-4528-801b-caffd32c598e"
      },
      "outputs": [
        {
          "data": {
            "text/plain": [
              "Weather\n",
              "Mainly Clear                               2106\n",
              "Mostly Cloudy                              2069\n",
              "Cloudy                                     1728\n",
              "Clear                                      1326\n",
              "Snow                                        390\n",
              "Rain                                        306\n",
              "Rain Showers                                188\n",
              "Fog                                         150\n",
              "Rain,Fog                                    116\n",
              "Drizzle,Fog                                  80\n",
              "Snow Showers                                 60\n",
              "Drizzle                                      41\n",
              "Snow,Fog                                     37\n",
              "Snow,Blowing Snow                            19\n",
              "Rain,Snow                                    18\n",
              "Thunderstorms,Rain Showers                   16\n",
              "Haze                                         16\n",
              "Drizzle,Snow,Fog                             15\n",
              "Freezing Rain                                14\n",
              "Freezing Drizzle,Snow                        11\n",
              "Freezing Drizzle                              7\n",
              "Snow,Ice Pellets                              6\n",
              "Freezing Drizzle,Fog                          6\n",
              "Snow,Haze                                     5\n",
              "Freezing Fog                                  4\n",
              "Snow Showers,Fog                              4\n",
              "Moderate Snow                                 4\n",
              "Rain,Snow,Ice Pellets                         4\n",
              "Freezing Rain,Fog                             4\n",
              "Freezing Drizzle,Haze                         3\n",
              "Rain,Haze                                     3\n",
              "Thunderstorms,Rain                            3\n",
              "Thunderstorms,Rain Showers,Fog                3\n",
              "Freezing Rain,Haze                            2\n",
              "Drizzle,Snow                                  2\n",
              "Rain Showers,Snow Showers                     2\n",
              "Thunderstorms                                 2\n",
              "Moderate Snow,Blowing Snow                    2\n",
              "Rain Showers,Fog                              1\n",
              "Thunderstorms,Moderate Rain Showers,Fog       1\n",
              "Snow Pellets                                  1\n",
              "Rain,Snow,Fog                                 1\n",
              "Moderate Rain,Fog                             1\n",
              "Freezing Rain,Ice Pellets,Fog                 1\n",
              "Drizzle,Ice Pellets,Fog                       1\n",
              "Thunderstorms,Rain,Fog                        1\n",
              "Rain,Ice Pellets                              1\n",
              "Rain,Snow Grains                              1\n",
              "Thunderstorms,Heavy Rain Showers              1\n",
              "Freezing Rain,Snow Grains                     1\n",
              "Name: count, dtype: int64"
            ]
          },
          "execution_count": 213,
          "metadata": {},
          "output_type": "execute_result"
        }
      ],
      "source": [
        "#Counting the occurrences of each unique value in the 'Weather' column\n",
        "data.Weather.value_counts()"
      ]
    },
    {
      "cell_type": "code",
      "execution_count": 214,
      "metadata": {
        "colab": {
          "base_uri": "https://localhost:8080/"
        },
        "id": "dVV5RUNuNibB",
        "outputId": "fedf6162-c0d3-4f39-f2e2-37f28a4d8b29"
      },
      "outputs": [
        {
          "data": {
            "text/plain": [
              "50"
            ]
          },
          "execution_count": 214,
          "metadata": {},
          "output_type": "execute_result"
        }
      ],
      "source": [
        "#Return number of unique elements in weather column\n",
        "filtered_data=data\n",
        "filtered_data.Weather.nunique()"
      ]
    },
    {
      "cell_type": "markdown",
      "metadata": {
        "id": "9gPLX2AGUn1X"
      },
      "source": [
        "**Converting the Weather Categories into Standard Categories**"
      ]
    },
    {
      "cell_type": "code",
      "execution_count": 215,
      "metadata": {
        "id": "7EcqhPkSUyBA"
      },
      "outputs": [],
      "source": [
        "# Importing the chain function from the itertools module\n",
        "from itertools import chain  \n"
      ]
    },
    {
      "cell_type": "code",
      "execution_count": 216,
      "metadata": {
        "id": "r4s3D3xwnM_z"
      },
      "outputs": [],
      "source": [
        "# Defining a function to create a flat list from a comma-separated string\n",
        "def Create_list(x):\n",
        "    list_of_lists=[w.split() for w in x.split(',')] # Splitting each comma-separated value into a list of words\n",
        "    flat_list=list(chain(*list_of_lists)) # Flattening the list of lists into a single list\n",
        "    return flat_list # Returning the resulting flat list\n",
        "\n",
        "\n",
        "# Defining a function to determine a simplified weather description based on input conditions\n",
        "def Get_Weather(list1):\n",
        "    if 'Fog' in list1 and 'Rain' in list1:\n",
        "        return 'RAIN+FOG'\n",
        "    elif 'Snow' in list1 and 'Rain' in list1:\n",
        "        return 'SNOW+RAIN'\n",
        "    elif 'Snow' in list1:\n",
        "        return 'SNOW'\n",
        "    elif 'Rain' in list1:\n",
        "        return 'RAIN'\n",
        "    elif 'Fog' in list1:\n",
        "        return 'FOG'\n",
        "    elif 'Clear' in list1:\n",
        "        return 'Clear'\n",
        "    elif 'Cloudy' in list1:\n",
        "        return 'Cloudy'\n",
        "    else:\n",
        "        return 'RAIN'"
      ]
    },
    {
      "cell_type": "code",
      "execution_count": 217,
      "metadata": {
        "id": "tAzhAqemnznj"
      },
      "outputs": [],
      "source": [
        "# Input string\n",
        "x='Thunderstorms,Moderate Rain Showers,Fog'"
      ]
    },
    {
      "cell_type": "code",
      "execution_count": 218,
      "metadata": {
        "colab": {
          "base_uri": "https://localhost:8080/"
        },
        "id": "nUBBmFDIoMlN",
        "outputId": "13e6a96c-1839-4854-a599-8eb53abe8c6e"
      },
      "outputs": [
        {
          "data": {
            "text/plain": [
              "['Thunderstorms', 'Moderate', 'Rain', 'Showers', 'Fog']"
            ]
          },
          "execution_count": 218,
          "metadata": {},
          "output_type": "execute_result"
        }
      ],
      "source": [
        "# Using Create_list to convert the string to a list\n",
        "Create_list(x)"
      ]
    },
    {
      "cell_type": "code",
      "execution_count": 219,
      "metadata": {
        "colab": {
          "base_uri": "https://localhost:8080/",
          "height": 36
        },
        "id": "PCW3yh_8oO6e",
        "outputId": "959a4ea0-d22d-4032-92f8-c10e98552c65"
      },
      "outputs": [
        {
          "data": {
            "text/plain": [
              "'RAIN+FOG'"
            ]
          },
          "execution_count": 219,
          "metadata": {},
          "output_type": "execute_result"
        }
      ],
      "source": [
        "# Using Get_Weather to get the simplified weather description\n",
        "Get_Weather(Create_list(x))"
      ]
    },
    {
      "cell_type": "code",
      "execution_count": 220,
      "metadata": {
        "id": "lqJImzPRoQ-Q"
      },
      "outputs": [],
      "source": [
        "# Applying the Get_Weather function to each element in the 'Weather' column and creating a new column 'Std_Weather'\n",
        "filtered_data['Std_Weather']=filtered_data['Weather'].apply(lambda x:Get_Weather(Create_list(x)))"
      ]
    },
    {
      "cell_type": "code",
      "execution_count": 221,
      "metadata": {
        "colab": {
          "base_uri": "https://localhost:8080/",
          "height": 347
        },
        "id": "zxIjj0ORoTPi",
        "outputId": "994ae57d-5e1d-49ba-fc80-5abd4287af4b"
      },
      "outputs": [
        {
          "data": {
            "text/html": [
              "<div>\n",
              "<style scoped>\n",
              "    .dataframe tbody tr th:only-of-type {\n",
              "        vertical-align: middle;\n",
              "    }\n",
              "\n",
              "    .dataframe tbody tr th {\n",
              "        vertical-align: top;\n",
              "    }\n",
              "\n",
              "    .dataframe thead th {\n",
              "        text-align: right;\n",
              "    }\n",
              "</style>\n",
              "<table border=\"1\" class=\"dataframe\">\n",
              "  <thead>\n",
              "    <tr style=\"text-align: right;\">\n",
              "      <th></th>\n",
              "      <th>Temp_C</th>\n",
              "      <th>Dew Point Temp_C</th>\n",
              "      <th>Rel Hum_%</th>\n",
              "      <th>Wind Speed_km/h</th>\n",
              "      <th>Visibility_km</th>\n",
              "      <th>Press_kPa</th>\n",
              "      <th>Weather</th>\n",
              "      <th>Std_Weather</th>\n",
              "    </tr>\n",
              "  </thead>\n",
              "  <tbody>\n",
              "    <tr>\n",
              "      <th>0</th>\n",
              "      <td>-1.8</td>\n",
              "      <td>-3.9</td>\n",
              "      <td>86</td>\n",
              "      <td>4</td>\n",
              "      <td>8.0</td>\n",
              "      <td>101.24</td>\n",
              "      <td>Fog</td>\n",
              "      <td>FOG</td>\n",
              "    </tr>\n",
              "    <tr>\n",
              "      <th>1</th>\n",
              "      <td>-1.8</td>\n",
              "      <td>-3.7</td>\n",
              "      <td>87</td>\n",
              "      <td>4</td>\n",
              "      <td>8.0</td>\n",
              "      <td>101.24</td>\n",
              "      <td>Fog</td>\n",
              "      <td>FOG</td>\n",
              "    </tr>\n",
              "    <tr>\n",
              "      <th>2</th>\n",
              "      <td>-1.8</td>\n",
              "      <td>-3.4</td>\n",
              "      <td>89</td>\n",
              "      <td>7</td>\n",
              "      <td>4.0</td>\n",
              "      <td>101.26</td>\n",
              "      <td>Freezing Drizzle,Fog</td>\n",
              "      <td>FOG</td>\n",
              "    </tr>\n",
              "    <tr>\n",
              "      <th>3</th>\n",
              "      <td>-1.5</td>\n",
              "      <td>-3.2</td>\n",
              "      <td>88</td>\n",
              "      <td>6</td>\n",
              "      <td>4.0</td>\n",
              "      <td>101.27</td>\n",
              "      <td>Freezing Drizzle,Fog</td>\n",
              "      <td>FOG</td>\n",
              "    </tr>\n",
              "    <tr>\n",
              "      <th>4</th>\n",
              "      <td>-1.5</td>\n",
              "      <td>-3.3</td>\n",
              "      <td>88</td>\n",
              "      <td>7</td>\n",
              "      <td>4.8</td>\n",
              "      <td>101.23</td>\n",
              "      <td>Fog</td>\n",
              "      <td>FOG</td>\n",
              "    </tr>\n",
              "  </tbody>\n",
              "</table>\n",
              "</div>"
            ],
            "text/plain": [
              "   Temp_C  Dew Point Temp_C  Rel Hum_%  Wind Speed_km/h  Visibility_km  \\\n",
              "0    -1.8              -3.9         86                4            8.0   \n",
              "1    -1.8              -3.7         87                4            8.0   \n",
              "2    -1.8              -3.4         89                7            4.0   \n",
              "3    -1.5              -3.2         88                6            4.0   \n",
              "4    -1.5              -3.3         88                7            4.8   \n",
              "\n",
              "   Press_kPa               Weather Std_Weather  \n",
              "0     101.24                   Fog         FOG  \n",
              "1     101.24                   Fog         FOG  \n",
              "2     101.26  Freezing Drizzle,Fog         FOG  \n",
              "3     101.27  Freezing Drizzle,Fog         FOG  \n",
              "4     101.23                   Fog         FOG  "
            ]
          },
          "execution_count": 221,
          "metadata": {},
          "output_type": "execute_result"
        }
      ],
      "source": [
        "# Displaying the first few rows of the filtered_data DataFrame\n",
        "filtered_data.head()"
      ]
    },
    {
      "cell_type": "code",
      "execution_count": 222,
      "metadata": {
        "colab": {
          "base_uri": "https://localhost:8080/"
        },
        "id": "zhix2-Vroa5A",
        "outputId": "fcb89552-8b30-44c5-f6bf-d5edee1deed9"
      },
      "outputs": [
        {
          "data": {
            "text/plain": [
              "Std_Weather\n",
              "Cloudy       3797\n",
              "Clear        3432\n",
              "RAIN          603\n",
              "SNOW          556\n",
              "FOG           241\n",
              "RAIN+FOG      129\n",
              "SNOW+RAIN      26\n",
              "Name: count, dtype: int64"
            ]
          },
          "execution_count": 222,
          "metadata": {},
          "output_type": "execute_result"
        }
      ],
      "source": [
        "# Displaying the count of each unique value in the 'Std_Weather' column\n",
        "filtered_data.Std_Weather.value_counts()"
      ]
    },
    {
      "cell_type": "markdown",
      "metadata": {
        "id": "9q8G87tjoj4w"
      },
      "source": [
        "### Sample selection and Data balancing"
      ]
    },
    {
      "cell_type": "code",
      "execution_count": 223,
      "metadata": {
        "id": "lQ6l2Ue6ofhH"
      },
      "outputs": [
        {
          "data": {
            "text/html": [
              "<div>\n",
              "<style scoped>\n",
              "    .dataframe tbody tr th:only-of-type {\n",
              "        vertical-align: middle;\n",
              "    }\n",
              "\n",
              "    .dataframe tbody tr th {\n",
              "        vertical-align: top;\n",
              "    }\n",
              "\n",
              "    .dataframe thead th {\n",
              "        text-align: right;\n",
              "    }\n",
              "</style>\n",
              "<table border=\"1\" class=\"dataframe\">\n",
              "  <thead>\n",
              "    <tr style=\"text-align: right;\">\n",
              "      <th></th>\n",
              "      <th>Temp_C</th>\n",
              "      <th>Dew Point Temp_C</th>\n",
              "      <th>Rel Hum_%</th>\n",
              "      <th>Wind Speed_km/h</th>\n",
              "      <th>Visibility_km</th>\n",
              "      <th>Press_kPa</th>\n",
              "      <th>Weather</th>\n",
              "      <th>Std_Weather</th>\n",
              "    </tr>\n",
              "  </thead>\n",
              "  <tbody>\n",
              "    <tr>\n",
              "      <th>41</th>\n",
              "      <td>-2.1</td>\n",
              "      <td>-9.5</td>\n",
              "      <td>57</td>\n",
              "      <td>22</td>\n",
              "      <td>25.0</td>\n",
              "      <td>99.66</td>\n",
              "      <td>Snow Showers</td>\n",
              "      <td>SNOW</td>\n",
              "    </tr>\n",
              "    <tr>\n",
              "      <th>44</th>\n",
              "      <td>-5.6</td>\n",
              "      <td>-13.4</td>\n",
              "      <td>54</td>\n",
              "      <td>24</td>\n",
              "      <td>25.0</td>\n",
              "      <td>100.07</td>\n",
              "      <td>Snow Showers</td>\n",
              "      <td>SNOW</td>\n",
              "    </tr>\n",
              "    <tr>\n",
              "      <th>45</th>\n",
              "      <td>-5.8</td>\n",
              "      <td>-12.8</td>\n",
              "      <td>58</td>\n",
              "      <td>26</td>\n",
              "      <td>25.0</td>\n",
              "      <td>100.15</td>\n",
              "      <td>Snow Showers</td>\n",
              "      <td>SNOW</td>\n",
              "    </tr>\n",
              "    <tr>\n",
              "      <th>47</th>\n",
              "      <td>-7.4</td>\n",
              "      <td>-14.1</td>\n",
              "      <td>59</td>\n",
              "      <td>17</td>\n",
              "      <td>19.3</td>\n",
              "      <td>100.27</td>\n",
              "      <td>Snow Showers</td>\n",
              "      <td>SNOW</td>\n",
              "    </tr>\n",
              "    <tr>\n",
              "      <th>48</th>\n",
              "      <td>-9.0</td>\n",
              "      <td>-16.0</td>\n",
              "      <td>57</td>\n",
              "      <td>28</td>\n",
              "      <td>25.0</td>\n",
              "      <td>100.35</td>\n",
              "      <td>Snow Showers</td>\n",
              "      <td>SNOW</td>\n",
              "    </tr>\n",
              "    <tr>\n",
              "      <th>...</th>\n",
              "      <td>...</td>\n",
              "      <td>...</td>\n",
              "      <td>...</td>\n",
              "      <td>...</td>\n",
              "      <td>...</td>\n",
              "      <td>...</td>\n",
              "      <td>...</td>\n",
              "      <td>...</td>\n",
              "    </tr>\n",
              "    <tr>\n",
              "      <th>8779</th>\n",
              "      <td>0.1</td>\n",
              "      <td>-2.7</td>\n",
              "      <td>81</td>\n",
              "      <td>30</td>\n",
              "      <td>9.7</td>\n",
              "      <td>100.13</td>\n",
              "      <td>Snow</td>\n",
              "      <td>SNOW</td>\n",
              "    </tr>\n",
              "    <tr>\n",
              "      <th>8780</th>\n",
              "      <td>0.2</td>\n",
              "      <td>-2.4</td>\n",
              "      <td>83</td>\n",
              "      <td>24</td>\n",
              "      <td>9.7</td>\n",
              "      <td>100.03</td>\n",
              "      <td>Snow</td>\n",
              "      <td>SNOW</td>\n",
              "    </tr>\n",
              "    <tr>\n",
              "      <th>8781</th>\n",
              "      <td>-0.5</td>\n",
              "      <td>-1.5</td>\n",
              "      <td>93</td>\n",
              "      <td>28</td>\n",
              "      <td>4.8</td>\n",
              "      <td>99.95</td>\n",
              "      <td>Snow</td>\n",
              "      <td>SNOW</td>\n",
              "    </tr>\n",
              "    <tr>\n",
              "      <th>8782</th>\n",
              "      <td>-0.2</td>\n",
              "      <td>-1.8</td>\n",
              "      <td>89</td>\n",
              "      <td>28</td>\n",
              "      <td>9.7</td>\n",
              "      <td>99.91</td>\n",
              "      <td>Snow</td>\n",
              "      <td>SNOW</td>\n",
              "    </tr>\n",
              "    <tr>\n",
              "      <th>8783</th>\n",
              "      <td>0.0</td>\n",
              "      <td>-2.1</td>\n",
              "      <td>86</td>\n",
              "      <td>30</td>\n",
              "      <td>11.3</td>\n",
              "      <td>99.89</td>\n",
              "      <td>Snow</td>\n",
              "      <td>SNOW</td>\n",
              "    </tr>\n",
              "  </tbody>\n",
              "</table>\n",
              "<p>556 rows × 8 columns</p>\n",
              "</div>"
            ],
            "text/plain": [
              "      Temp_C  Dew Point Temp_C  Rel Hum_%  Wind Speed_km/h  Visibility_km  \\\n",
              "41      -2.1              -9.5         57               22           25.0   \n",
              "44      -5.6             -13.4         54               24           25.0   \n",
              "45      -5.8             -12.8         58               26           25.0   \n",
              "47      -7.4             -14.1         59               17           19.3   \n",
              "48      -9.0             -16.0         57               28           25.0   \n",
              "...      ...               ...        ...              ...            ...   \n",
              "8779     0.1              -2.7         81               30            9.7   \n",
              "8780     0.2              -2.4         83               24            9.7   \n",
              "8781    -0.5              -1.5         93               28            4.8   \n",
              "8782    -0.2              -1.8         89               28            9.7   \n",
              "8783     0.0              -2.1         86               30           11.3   \n",
              "\n",
              "      Press_kPa       Weather Std_Weather  \n",
              "41        99.66  Snow Showers        SNOW  \n",
              "44       100.07  Snow Showers        SNOW  \n",
              "45       100.15  Snow Showers        SNOW  \n",
              "47       100.27  Snow Showers        SNOW  \n",
              "48       100.35  Snow Showers        SNOW  \n",
              "...         ...           ...         ...  \n",
              "8779     100.13          Snow        SNOW  \n",
              "8780     100.03          Snow        SNOW  \n",
              "8781      99.95          Snow        SNOW  \n",
              "8782      99.91          Snow        SNOW  \n",
              "8783      99.89          Snow        SNOW  \n",
              "\n",
              "[556 rows x 8 columns]"
            ]
          },
          "execution_count": 223,
          "metadata": {},
          "output_type": "execute_result"
        }
      ],
      "source": [
        "# Creating a DataFrame 'cloudy_df' by sampling 600 rows where 'Std_Weather' is 'Cloudy'\n",
        "cloudy_df=filtered_data[filtered_data['Std_Weather']=='Cloudy'].sample(600)\n",
        "\n",
        "# Creating a DataFrame 'clear_df' by sampling 600 rows where 'Std_Weather' is 'Clear'\n",
        "clear_df=filtered_data[filtered_data['Std_Weather']=='Clear'].sample(600)\n",
        "\n",
        "# Creating a DataFrame 'rain_df' containing all rows where 'Std_Weather' is 'RAIN'\n",
        "rain_df=filtered_data[filtered_data['Std_Weather']=='RAIN']\n",
        "\n",
        "# Creating a DataFrame 'snow_df' containing all rows where 'Std_Weather' is 'SNOW'\n",
        "snow_df=filtered_data[filtered_data['Std_Weather']=='SNOW']\n",
        "\n",
        "# Displaying the 'snow_df' DataFrame\n",
        "snow_df"
      ]
    },
    {
      "cell_type": "markdown",
      "metadata": {
        "id": "-0chQq31o3Br"
      },
      "source": [
        "**Creating New Weather Dataset**"
      ]
    },
    {
      "cell_type": "code",
      "execution_count": 224,
      "metadata": {
        "colab": {
          "base_uri": "https://localhost:8080/",
          "height": 347
        },
        "id": "inJ0yVd9oxcG",
        "outputId": "bd9ae40d-8831-48e2-e57f-30d29f18ef57"
      },
      "outputs": [
        {
          "data": {
            "text/html": [
              "<div>\n",
              "<style scoped>\n",
              "    .dataframe tbody tr th:only-of-type {\n",
              "        vertical-align: middle;\n",
              "    }\n",
              "\n",
              "    .dataframe tbody tr th {\n",
              "        vertical-align: top;\n",
              "    }\n",
              "\n",
              "    .dataframe thead th {\n",
              "        text-align: right;\n",
              "    }\n",
              "</style>\n",
              "<table border=\"1\" class=\"dataframe\">\n",
              "  <thead>\n",
              "    <tr style=\"text-align: right;\">\n",
              "      <th></th>\n",
              "      <th>Temp_C</th>\n",
              "      <th>Dew Point Temp_C</th>\n",
              "      <th>Rel Hum_%</th>\n",
              "      <th>Wind Speed_km/h</th>\n",
              "      <th>Visibility_km</th>\n",
              "      <th>Press_kPa</th>\n",
              "      <th>Weather</th>\n",
              "      <th>Std_Weather</th>\n",
              "    </tr>\n",
              "  </thead>\n",
              "  <tbody>\n",
              "    <tr>\n",
              "      <th>3603</th>\n",
              "      <td>17.6</td>\n",
              "      <td>9.8</td>\n",
              "      <td>60</td>\n",
              "      <td>19</td>\n",
              "      <td>25.0</td>\n",
              "      <td>99.91</td>\n",
              "      <td>Mostly Cloudy</td>\n",
              "      <td>Cloudy</td>\n",
              "    </tr>\n",
              "    <tr>\n",
              "      <th>993</th>\n",
              "      <td>-13.7</td>\n",
              "      <td>-19.1</td>\n",
              "      <td>64</td>\n",
              "      <td>20</td>\n",
              "      <td>24.1</td>\n",
              "      <td>101.04</td>\n",
              "      <td>Cloudy</td>\n",
              "      <td>Cloudy</td>\n",
              "    </tr>\n",
              "    <tr>\n",
              "      <th>5941</th>\n",
              "      <td>25.2</td>\n",
              "      <td>17.8</td>\n",
              "      <td>64</td>\n",
              "      <td>9</td>\n",
              "      <td>24.1</td>\n",
              "      <td>100.89</td>\n",
              "      <td>Cloudy</td>\n",
              "      <td>Cloudy</td>\n",
              "    </tr>\n",
              "    <tr>\n",
              "      <th>6975</th>\n",
              "      <td>12.5</td>\n",
              "      <td>2.9</td>\n",
              "      <td>52</td>\n",
              "      <td>4</td>\n",
              "      <td>48.3</td>\n",
              "      <td>100.86</td>\n",
              "      <td>Mostly Cloudy</td>\n",
              "      <td>Cloudy</td>\n",
              "    </tr>\n",
              "    <tr>\n",
              "      <th>206</th>\n",
              "      <td>-1.4</td>\n",
              "      <td>-5.1</td>\n",
              "      <td>76</td>\n",
              "      <td>7</td>\n",
              "      <td>24.1</td>\n",
              "      <td>101.20</td>\n",
              "      <td>Cloudy</td>\n",
              "      <td>Cloudy</td>\n",
              "    </tr>\n",
              "  </tbody>\n",
              "</table>\n",
              "</div>"
            ],
            "text/plain": [
              "      Temp_C  Dew Point Temp_C  Rel Hum_%  Wind Speed_km/h  Visibility_km  \\\n",
              "3603    17.6               9.8         60               19           25.0   \n",
              "993    -13.7             -19.1         64               20           24.1   \n",
              "5941    25.2              17.8         64                9           24.1   \n",
              "6975    12.5               2.9         52                4           48.3   \n",
              "206     -1.4              -5.1         76                7           24.1   \n",
              "\n",
              "      Press_kPa        Weather Std_Weather  \n",
              "3603      99.91  Mostly Cloudy      Cloudy  \n",
              "993      101.04         Cloudy      Cloudy  \n",
              "5941     100.89         Cloudy      Cloudy  \n",
              "6975     100.86  Mostly Cloudy      Cloudy  \n",
              "206      101.20         Cloudy      Cloudy  "
            ]
          },
          "execution_count": 224,
          "metadata": {},
          "output_type": "execute_result"
        }
      ],
      "source": [
        "# Concatenating the DataFrames vertically along axis 0 to create 'weather_df'\n",
        "weather_df=pd.concat([cloudy_df,clear_df,rain_df,snow_df],axis=0)\n",
        "\n",
        "# Displaying the first few rows of the new 'weather_df' DataFrame\n",
        "weather_df.head()"
      ]
    },
    {
      "cell_type": "code",
      "execution_count": 225,
      "metadata": {
        "colab": {
          "base_uri": "https://localhost:8080/"
        },
        "id": "duLq-7BDpExy",
        "outputId": "9c259039-2bdf-4fa1-8a17-60f0269d803c"
      },
      "outputs": [
        {
          "data": {
            "text/plain": [
              "(2359, 8)"
            ]
          },
          "execution_count": 225,
          "metadata": {},
          "output_type": "execute_result"
        }
      ],
      "source": [
        "# Displaying the shape (number of rows and columns) of the new 'weather_df' DataFrame\n",
        "weather_df.shape"
      ]
    },
    {
      "cell_type": "code",
      "execution_count": 226,
      "metadata": {
        "colab": {
          "base_uri": "https://localhost:8080/"
        },
        "id": "IU49O3dVpHci",
        "outputId": "5c723d92-aec9-4e47-c9a0-d8e14cdb879f"
      },
      "outputs": [
        {
          "data": {
            "text/plain": [
              "Std_Weather\n",
              "RAIN      603\n",
              "Cloudy    600\n",
              "Clear     600\n",
              "SNOW      556\n",
              "Name: count, dtype: int64"
            ]
          },
          "execution_count": 226,
          "metadata": {},
          "output_type": "execute_result"
        }
      ],
      "source": [
        "# Displaying the count of each unique value in the 'Std_Weather' column of the new 'weather_df' DataFrame\n",
        "weather_df.Std_Weather.value_counts()"
      ]
    },
    {
      "cell_type": "code",
      "execution_count": 227,
      "metadata": {
        "id": "6LTUr7z4poQl"
      },
      "outputs": [],
      "source": [
        "# Dropping the 'Weather' column from the new 'weather_df' DataFrame\n",
        "weather_df.drop(columns=['Weather'],axis=1,inplace=True)"
      ]
    },
    {
      "cell_type": "code",
      "execution_count": 228,
      "metadata": {
        "colab": {
          "base_uri": "https://localhost:8080/",
          "height": 261
        },
        "id": "UC-OkgQ-pr7l",
        "outputId": "cd135595-1577-4cd6-f6a4-64b68128b1d9"
      },
      "outputs": [
        {
          "data": {
            "text/html": [
              "<div>\n",
              "<style scoped>\n",
              "    .dataframe tbody tr th:only-of-type {\n",
              "        vertical-align: middle;\n",
              "    }\n",
              "\n",
              "    .dataframe tbody tr th {\n",
              "        vertical-align: top;\n",
              "    }\n",
              "\n",
              "    .dataframe thead th {\n",
              "        text-align: right;\n",
              "    }\n",
              "</style>\n",
              "<table border=\"1\" class=\"dataframe\">\n",
              "  <thead>\n",
              "    <tr style=\"text-align: right;\">\n",
              "      <th></th>\n",
              "      <th>Temp_C</th>\n",
              "      <th>Dew Point Temp_C</th>\n",
              "      <th>Rel Hum_%</th>\n",
              "      <th>Wind Speed_km/h</th>\n",
              "      <th>Visibility_km</th>\n",
              "      <th>Press_kPa</th>\n",
              "      <th>Std_Weather</th>\n",
              "    </tr>\n",
              "  </thead>\n",
              "  <tbody>\n",
              "    <tr>\n",
              "      <th>3603</th>\n",
              "      <td>17.6</td>\n",
              "      <td>9.8</td>\n",
              "      <td>60</td>\n",
              "      <td>19</td>\n",
              "      <td>25.0</td>\n",
              "      <td>99.91</td>\n",
              "      <td>Cloudy</td>\n",
              "    </tr>\n",
              "    <tr>\n",
              "      <th>993</th>\n",
              "      <td>-13.7</td>\n",
              "      <td>-19.1</td>\n",
              "      <td>64</td>\n",
              "      <td>20</td>\n",
              "      <td>24.1</td>\n",
              "      <td>101.04</td>\n",
              "      <td>Cloudy</td>\n",
              "    </tr>\n",
              "    <tr>\n",
              "      <th>5941</th>\n",
              "      <td>25.2</td>\n",
              "      <td>17.8</td>\n",
              "      <td>64</td>\n",
              "      <td>9</td>\n",
              "      <td>24.1</td>\n",
              "      <td>100.89</td>\n",
              "      <td>Cloudy</td>\n",
              "    </tr>\n",
              "    <tr>\n",
              "      <th>6975</th>\n",
              "      <td>12.5</td>\n",
              "      <td>2.9</td>\n",
              "      <td>52</td>\n",
              "      <td>4</td>\n",
              "      <td>48.3</td>\n",
              "      <td>100.86</td>\n",
              "      <td>Cloudy</td>\n",
              "    </tr>\n",
              "    <tr>\n",
              "      <th>206</th>\n",
              "      <td>-1.4</td>\n",
              "      <td>-5.1</td>\n",
              "      <td>76</td>\n",
              "      <td>7</td>\n",
              "      <td>24.1</td>\n",
              "      <td>101.20</td>\n",
              "      <td>Cloudy</td>\n",
              "    </tr>\n",
              "  </tbody>\n",
              "</table>\n",
              "</div>"
            ],
            "text/plain": [
              "      Temp_C  Dew Point Temp_C  Rel Hum_%  Wind Speed_km/h  Visibility_km  \\\n",
              "3603    17.6               9.8         60               19           25.0   \n",
              "993    -13.7             -19.1         64               20           24.1   \n",
              "5941    25.2              17.8         64                9           24.1   \n",
              "6975    12.5               2.9         52                4           48.3   \n",
              "206     -1.4              -5.1         76                7           24.1   \n",
              "\n",
              "      Press_kPa Std_Weather  \n",
              "3603      99.91      Cloudy  \n",
              "993      101.04      Cloudy  \n",
              "5941     100.89      Cloudy  \n",
              "6975     100.86      Cloudy  \n",
              "206      101.20      Cloudy  "
            ]
          },
          "execution_count": 228,
          "metadata": {},
          "output_type": "execute_result"
        }
      ],
      "source": [
        "# Check whether the Weather column is deleted or not\n",
        "weather_df.head()"
      ]
    },
    {
      "cell_type": "markdown",
      "metadata": {
        "id": "1cv1Yz7PpxRf"
      },
      "source": [
        "**Duplicate Records**"
      ]
    },
    {
      "cell_type": "code",
      "execution_count": 229,
      "metadata": {
        "colab": {
          "base_uri": "https://localhost:8080/",
          "height": 84
        },
        "id": "ZVMQL7uPp3jg",
        "outputId": "1823d852-8b9a-42aa-8393-66d4d9b340b4"
      },
      "outputs": [
        {
          "data": {
            "text/html": [
              "<div>\n",
              "<style scoped>\n",
              "    .dataframe tbody tr th:only-of-type {\n",
              "        vertical-align: middle;\n",
              "    }\n",
              "\n",
              "    .dataframe tbody tr th {\n",
              "        vertical-align: top;\n",
              "    }\n",
              "\n",
              "    .dataframe thead th {\n",
              "        text-align: right;\n",
              "    }\n",
              "</style>\n",
              "<table border=\"1\" class=\"dataframe\">\n",
              "  <thead>\n",
              "    <tr style=\"text-align: right;\">\n",
              "      <th></th>\n",
              "      <th>Temp_C</th>\n",
              "      <th>Dew Point Temp_C</th>\n",
              "      <th>Rel Hum_%</th>\n",
              "      <th>Wind Speed_km/h</th>\n",
              "      <th>Visibility_km</th>\n",
              "      <th>Press_kPa</th>\n",
              "      <th>Std_Weather</th>\n",
              "    </tr>\n",
              "  </thead>\n",
              "  <tbody>\n",
              "  </tbody>\n",
              "</table>\n",
              "</div>"
            ],
            "text/plain": [
              "Empty DataFrame\n",
              "Columns: [Temp_C, Dew Point Temp_C, Rel Hum_%, Wind Speed_km/h, Visibility_km, Press_kPa, Std_Weather]\n",
              "Index: []"
            ]
          },
          "execution_count": 229,
          "metadata": {},
          "output_type": "execute_result"
        }
      ],
      "source": [
        "# Displaying rows in the new 'weather_df' DataFrame that are duplicates\n",
        "weather_df[weather_df.duplicated()]"
      ]
    },
    {
      "cell_type": "markdown",
      "metadata": {
        "id": "5vAXH5ULqN04"
      },
      "source": [
        "**Null/Missing Values**"
      ]
    },
    {
      "cell_type": "code",
      "execution_count": 230,
      "metadata": {
        "colab": {
          "base_uri": "https://localhost:8080/"
        },
        "id": "QgfGfFUep6ei",
        "outputId": "7d12254b-9e8c-46a6-833a-51dd3881d951"
      },
      "outputs": [
        {
          "data": {
            "text/plain": [
              "Temp_C              0\n",
              "Dew Point Temp_C    0\n",
              "Rel Hum_%           0\n",
              "Wind Speed_km/h     0\n",
              "Visibility_km       0\n",
              "Press_kPa           0\n",
              "Std_Weather         0\n",
              "dtype: int64"
            ]
          },
          "execution_count": 230,
          "metadata": {},
          "output_type": "execute_result"
        }
      ],
      "source": [
        "# Counting the number of missing values in each column of the new 'weather_df' DataFrame\n",
        "weather_df.isnull().sum()"
      ]
    },
    {
      "cell_type": "code",
      "execution_count": 231,
      "metadata": {
        "colab": {
          "base_uri": "https://localhost:8080/"
        },
        "id": "dGXiFlBeqVDA",
        "outputId": "ef09a4af-eca1-4689-d671-c678476e3c8a"
      },
      "outputs": [
        {
          "data": {
            "text/plain": [
              "Temp_C              float64\n",
              "Dew Point Temp_C    float64\n",
              "Rel Hum_%             int64\n",
              "Wind Speed_km/h       int64\n",
              "Visibility_km       float64\n",
              "Press_kPa           float64\n",
              "Std_Weather          object\n",
              "dtype: object"
            ]
          },
          "execution_count": 231,
          "metadata": {},
          "output_type": "execute_result"
        }
      ],
      "source": [
        "# Displaying the data types of each column in the new 'weather_df' DataFrame\n",
        "weather_df.dtypes"
      ]
    },
    {
      "cell_type": "markdown",
      "metadata": {
        "id": "ZGHvvm4oqvYk"
      },
      "source": [
        "**Correlation among the features**"
      ]
    },
    {
      "cell_type": "code",
      "execution_count": 232,
      "metadata": {
        "id": "2uixhCGcqXH0"
      },
      "outputs": [
        {
          "data": {
            "text/html": [
              "<div>\n",
              "<style scoped>\n",
              "    .dataframe tbody tr th:only-of-type {\n",
              "        vertical-align: middle;\n",
              "    }\n",
              "\n",
              "    .dataframe tbody tr th {\n",
              "        vertical-align: top;\n",
              "    }\n",
              "\n",
              "    .dataframe thead th {\n",
              "        text-align: right;\n",
              "    }\n",
              "</style>\n",
              "<table border=\"1\" class=\"dataframe\">\n",
              "  <thead>\n",
              "    <tr style=\"text-align: right;\">\n",
              "      <th></th>\n",
              "      <th>Temp_C</th>\n",
              "      <th>Dew Point Temp_C</th>\n",
              "      <th>Rel Hum_%</th>\n",
              "      <th>Wind Speed_km/h</th>\n",
              "      <th>Visibility_km</th>\n",
              "      <th>Press_kPa</th>\n",
              "    </tr>\n",
              "  </thead>\n",
              "  <tbody>\n",
              "    <tr>\n",
              "      <th>Temp_C</th>\n",
              "      <td>1.000000</td>\n",
              "      <td>0.939652</td>\n",
              "      <td>-0.247089</td>\n",
              "      <td>-0.136419</td>\n",
              "      <td>0.382122</td>\n",
              "      <td>-0.108910</td>\n",
              "    </tr>\n",
              "    <tr>\n",
              "      <th>Dew Point Temp_C</th>\n",
              "      <td>0.939652</td>\n",
              "      <td>1.000000</td>\n",
              "      <td>0.092847</td>\n",
              "      <td>-0.133588</td>\n",
              "      <td>0.166248</td>\n",
              "      <td>-0.220321</td>\n",
              "    </tr>\n",
              "    <tr>\n",
              "      <th>Rel Hum_%</th>\n",
              "      <td>-0.247089</td>\n",
              "      <td>0.092847</td>\n",
              "      <td>1.000000</td>\n",
              "      <td>0.032387</td>\n",
              "      <td>-0.664502</td>\n",
              "      <td>-0.333761</td>\n",
              "    </tr>\n",
              "    <tr>\n",
              "      <th>Wind Speed_km/h</th>\n",
              "      <td>-0.136419</td>\n",
              "      <td>-0.133588</td>\n",
              "      <td>0.032387</td>\n",
              "      <td>1.000000</td>\n",
              "      <td>-0.161899</td>\n",
              "      <td>-0.381162</td>\n",
              "    </tr>\n",
              "    <tr>\n",
              "      <th>Visibility_km</th>\n",
              "      <td>0.382122</td>\n",
              "      <td>0.166248</td>\n",
              "      <td>-0.664502</td>\n",
              "      <td>-0.161899</td>\n",
              "      <td>1.000000</td>\n",
              "      <td>0.333656</td>\n",
              "    </tr>\n",
              "    <tr>\n",
              "      <th>Press_kPa</th>\n",
              "      <td>-0.108910</td>\n",
              "      <td>-0.220321</td>\n",
              "      <td>-0.333761</td>\n",
              "      <td>-0.381162</td>\n",
              "      <td>0.333656</td>\n",
              "      <td>1.000000</td>\n",
              "    </tr>\n",
              "  </tbody>\n",
              "</table>\n",
              "</div>"
            ],
            "text/plain": [
              "                    Temp_C  Dew Point Temp_C  Rel Hum_%  Wind Speed_km/h  \\\n",
              "Temp_C            1.000000          0.939652  -0.247089        -0.136419   \n",
              "Dew Point Temp_C  0.939652          1.000000   0.092847        -0.133588   \n",
              "Rel Hum_%        -0.247089          0.092847   1.000000         0.032387   \n",
              "Wind Speed_km/h  -0.136419         -0.133588   0.032387         1.000000   \n",
              "Visibility_km     0.382122          0.166248  -0.664502        -0.161899   \n",
              "Press_kPa        -0.108910         -0.220321  -0.333761        -0.381162   \n",
              "\n",
              "                  Visibility_km  Press_kPa  \n",
              "Temp_C                 0.382122  -0.108910  \n",
              "Dew Point Temp_C       0.166248  -0.220321  \n",
              "Rel Hum_%             -0.664502  -0.333761  \n",
              "Wind Speed_km/h       -0.161899  -0.381162  \n",
              "Visibility_km          1.000000   0.333656  \n",
              "Press_kPa              0.333656   1.000000  "
            ]
          },
          "execution_count": 232,
          "metadata": {},
          "output_type": "execute_result"
        }
      ],
      "source": [
        "# Defining a list of column names to select specific columns from the new 'weather_df' DataFrame\n",
        "cols=['Temp_C','Dew Point Temp_C','Rel Hum_%','Wind Speed_km/h','Visibility_km','Press_kPa']\n",
        "\n",
        "# Calculating the correlation matrix for selected columns in the 'weather_df' DataFrame\n",
        "cor_matrix=weather_df[cols].corr()\n",
        "\n",
        "# Display the correlation matrix for selected columns in the 'weather_df' DataFrame\n",
        "cor_matrix"
      ]
    },
    {
      "cell_type": "markdown",
      "metadata": {
        "id": "Z-PXJ12urkv6"
      },
      "source": [
        "**Heat map**"
      ]
    },
    {
      "cell_type": "code",
      "execution_count": 233,
      "metadata": {
        "colab": {
          "base_uri": "https://localhost:8080/",
          "height": 566
        },
        "id": "EJ-GmUrArau8",
        "outputId": "68dce599-dbf1-4376-87b1-e909381f927a"
      },
      "outputs": [
        {
          "data": {
            "text/plain": [
              "<Axes: >"
            ]
          },
          "execution_count": 233,
          "metadata": {},
          "output_type": "execute_result"
        },
        {
          "data": {
            "image/png": "[encoded data removed]",
            "text/plain": [
              "<Figure size 640x480 with 2 Axes>"
            ]
          },
          "metadata": {},
          "output_type": "display_data"
        }
      ],
      "source": [
        "# Creating a heatmap visualization of the correlation matrix with annotations\n",
        "sns.heatmap(cor_matrix,annot=True)"
      ]
    },
    {
      "cell_type": "code",
      "execution_count": 234,
      "metadata": {
        "colab": {
          "base_uri": "https://localhost:8080/"
        },
        "id": "VxnJWFqFrvrS",
        "outputId": "4a3dabfe-8a21-4d0f-ebd3-b1eacc093129"
      },
      "outputs": [
        {
          "data": {
            "text/plain": [
              "Index(['Temp_C', 'Dew Point Temp_C', 'Rel Hum_%', 'Wind Speed_km/h',\n",
              "       'Visibility_km', 'Press_kPa', 'Std_Weather'],\n",
              "      dtype='object')"
            ]
          },
          "execution_count": 234,
          "metadata": {},
          "output_type": "execute_result"
        }
      ],
      "source": [
        "# Displaying the column names of the 'weather_df' DataFrame\n",
        "weather_df.columns"
      ]
    },
    {
      "cell_type": "code",
      "execution_count": 235,
      "metadata": {
        "colab": {
          "base_uri": "https://localhost:8080/",
          "height": 447
        },
        "id": "YKY-_ZywsC2Z",
        "outputId": "b44dc313-af60-41fa-8264-9dcafacb66db"
      },
      "outputs": [
        {
          "data": {
            "text/plain": [
              "<Axes: ylabel='Frequency'>"
            ]
          },
          "execution_count": 235,
          "metadata": {},
          "output_type": "execute_result"
        },
        {
          "data": {
            "image/png": "[encoded data removed]",
            "text/plain": [
              "<Figure size 640x480 with 1 Axes>"
            ]
          },
          "metadata": {},
          "output_type": "display_data"
        }
      ],
      "source": [
        "# Displaying a histogram of the 'Temp_C' column in the 'weather_df' DataFrame\n",
        "weather_df['Temp_C'].plot(kind='hist')"
      ]
    },
    {
      "cell_type": "code",
      "execution_count": 236,
      "metadata": {
        "colab": {
          "base_uri": "https://localhost:8080/",
          "height": 447
        },
        "id": "p-4QLE4DsF-U",
        "outputId": "5da3aca9-742a-4386-b3ff-fe6e799eb6e3"
      },
      "outputs": [
        {
          "data": {
            "text/plain": [
              "<Axes: ylabel='Frequency'>"
            ]
          },
          "execution_count": 236,
          "metadata": {},
          "output_type": "execute_result"
        },
        {
          "data": {
            "image/png": "[encoded data removed]",
            "text/plain": [
              "<Figure size 640x480 with 1 Axes>"
            ]
          },
          "metadata": {},
          "output_type": "display_data"
        }
      ],
      "source": [
        "# Displaying a histogram of the 'Dew Point Temp_C' column in the 'weather_df' DataFrame\n",
        "weather_df['Dew Point Temp_C'].plot(kind='hist')"
      ]
    },
    {
      "cell_type": "code",
      "execution_count": 237,
      "metadata": {
        "colab": {
          "base_uri": "https://localhost:8080/",
          "height": 447
        },
        "id": "LM7r92jusLMT",
        "outputId": "f7bfc437-c5c1-427d-81d6-99df1196bf7c"
      },
      "outputs": [
        {
          "data": {
            "text/plain": [
              "<Axes: ylabel='Frequency'>"
            ]
          },
          "execution_count": 237,
          "metadata": {},
          "output_type": "execute_result"
        },
        {
          "data": {
            "image/png": "[encoded data removed]",
            "text/plain": [
              "<Figure size 640x480 with 1 Axes>"
            ]
          },
          "metadata": {},
          "output_type": "display_data"
        }
      ],
      "source": [
        "# Displaying a histogram of the 'Rel Hum_%' column in the 'weather_df' DataFrame\n",
        "weather_df['Rel Hum_%'].plot(kind='hist')"
      ]
    },
    {
      "cell_type": "code",
      "execution_count": 238,
      "metadata": {
        "colab": {
          "base_uri": "https://localhost:8080/",
          "height": 447
        },
        "id": "lstrHDLYsPgO",
        "outputId": "80a9d480-ad01-4277-ceac-5c068b7b6600"
      },
      "outputs": [
        {
          "data": {
            "text/plain": [
              "<Axes: ylabel='Frequency'>"
            ]
          },
          "execution_count": 238,
          "metadata": {},
          "output_type": "execute_result"
        },
        {
          "data": {
            "image/png": "[encoded data removed]",
            "text/plain": [
              "<Figure size 640x480 with 1 Axes>"
            ]
          },
          "metadata": {},
          "output_type": "display_data"
        }
      ],
      "source": [
        "# Displaying a histogram of the 'Wind Speed_km/h' column in the 'weather_df' DataFrame\n",
        "weather_df['Wind Speed_km/h'].plot(kind='hist')"
      ]
    },
    {
      "cell_type": "code",
      "execution_count": 239,
      "metadata": {
        "colab": {
          "base_uri": "https://localhost:8080/",
          "height": 447
        },
        "id": "B_wQHJirsRtZ",
        "outputId": "51c6f266-385a-43b6-8a70-2de7a77a2c07"
      },
      "outputs": [
        {
          "data": {
            "text/plain": [
              "<Axes: ylabel='Frequency'>"
            ]
          },
          "execution_count": 239,
          "metadata": {},
          "output_type": "execute_result"
        },
        {
          "data": {
            "image/png": "[encoded data removed]",
            "text/plain": [
              "<Figure size 640x480 with 1 Axes>"
            ]
          },
          "metadata": {},
          "output_type": "display_data"
        }
      ],
      "source": [
        "# Displaying a histogram of the 'Visibility_km' column in the 'weather_df' DataFrame\n",
        "weather_df['Visibility_km'].plot(kind='hist')"
      ]
    },
    {
      "cell_type": "code",
      "execution_count": 240,
      "metadata": {
        "colab": {
          "base_uri": "https://localhost:8080/",
          "height": 447
        },
        "id": "WhNlj6mlsVcV",
        "outputId": "fa571b16-745d-4d41-8435-fc0dfd633722"
      },
      "outputs": [
        {
          "data": {
            "text/plain": [
              "<Axes: ylabel='Frequency'>"
            ]
          },
          "execution_count": 240,
          "metadata": {},
          "output_type": "execute_result"
        },
        {
          "data": {
            "image/png": "[encoded data removed]",
            "text/plain": [
              "<Figure size 640x480 with 1 Axes>"
            ]
          },
          "metadata": {},
          "output_type": "display_data"
        }
      ],
      "source": [
        "# Displaying a histogram of the 'Press_kPa' column in the 'weather_df' DataFrame\n",
        "weather_df['Press_kPa'].plot(kind='hist')"
      ]
    },
    {
      "cell_type": "code",
      "execution_count": 513,
      "metadata": {},
      "outputs": [
        {
          "name": "stderr",
          "output_type": "stream",
          "text": [
            "c:\\Users\\ADMIN\\anaconda3\\envs\\myenv3.9\\lib\\site-packages\\seaborn\\_oldcore.py:1498: FutureWarning: is_categorical_dtype is deprecated and will be removed in a future version. Use isinstance(dtype, CategoricalDtype) instead\n",
            "  if pd.api.types.is_categorical_dtype(vector):\n",
            "c:\\Users\\ADMIN\\anaconda3\\envs\\myenv3.9\\lib\\site-packages\\seaborn\\_oldcore.py:1498: FutureWarning: is_categorical_dtype is deprecated and will be removed in a future version. Use isinstance(dtype, CategoricalDtype) instead\n",
            "  if pd.api.types.is_categorical_dtype(vector):\n",
            "c:\\Users\\ADMIN\\anaconda3\\envs\\myenv3.9\\lib\\site-packages\\seaborn\\_oldcore.py:1498: FutureWarning: is_categorical_dtype is deprecated and will be removed in a future version. Use isinstance(dtype, CategoricalDtype) instead\n",
            "  if pd.api.types.is_categorical_dtype(vector):\n",
            "c:\\Users\\ADMIN\\anaconda3\\envs\\myenv3.9\\lib\\site-packages\\seaborn\\_oldcore.py:1498: FutureWarning: is_categorical_dtype is deprecated and will be removed in a future version. Use isinstance(dtype, CategoricalDtype) instead\n",
            "  if pd.api.types.is_categorical_dtype(vector):\n",
            "c:\\Users\\ADMIN\\anaconda3\\envs\\myenv3.9\\lib\\site-packages\\seaborn\\_oldcore.py:1498: FutureWarning: is_categorical_dtype is deprecated and will be removed in a future version. Use isinstance(dtype, CategoricalDtype) instead\n",
            "  if pd.api.types.is_categorical_dtype(vector):\n"
          ]
        },
        {
          "data": {
            "image/png": "[encoded data removed]",
            "text/plain": [
              "<Figure size 1000x600 with 1 Axes>"
            ]
          },
          "metadata": {},
          "output_type": "display_data"
        }
      ],
      "source": [
        "import matplotlib.pyplot as plt\n",
        "import seaborn as sns\n",
        "\n",
        "# Assuming 'filtered_data' is a DataFrame containing the mentioned columns\n",
        "\n",
        "# Create a scatter plot\n",
        "plt.figure(figsize=(10, 6))\n",
        "scatter = sns.scatterplot(x='Wind Speed_km/h', y='Visibility_km', hue='Std_Weather', data=weather_df, palette='viridis', s=80)\n",
        "\n",
        "# Set plot labels and title\n",
        "plt.xlabel('Wind Speed (km/h)')\n",
        "plt.ylabel('Visibility (km)')\n",
        "plt.title('Scatter Plot of Weather Data based on Std_Weather')\n",
        "\n",
        "# Add legend\n",
        "scatter.legend(loc='upper right', bbox_to_anchor=(1.25, 1))\n",
        "\n",
        "# Show the plot\n",
        "plt.show()\n"
      ]
    },
    {
      "cell_type": "code",
      "execution_count": 514,
      "metadata": {},
      "outputs": [
        {
          "name": "stderr",
          "output_type": "stream",
          "text": [
            "c:\\Users\\ADMIN\\anaconda3\\envs\\myenv3.9\\lib\\site-packages\\seaborn\\_oldcore.py:1498: FutureWarning: is_categorical_dtype is deprecated and will be removed in a future version. Use isinstance(dtype, CategoricalDtype) instead\n",
            "  if pd.api.types.is_categorical_dtype(vector):\n",
            "c:\\Users\\ADMIN\\anaconda3\\envs\\myenv3.9\\lib\\site-packages\\seaborn\\_oldcore.py:1498: FutureWarning: is_categorical_dtype is deprecated and will be removed in a future version. Use isinstance(dtype, CategoricalDtype) instead\n",
            "  if pd.api.types.is_categorical_dtype(vector):\n",
            "c:\\Users\\ADMIN\\anaconda3\\envs\\myenv3.9\\lib\\site-packages\\seaborn\\_oldcore.py:1498: FutureWarning: is_categorical_dtype is deprecated and will be removed in a future version. Use isinstance(dtype, CategoricalDtype) instead\n",
            "  if pd.api.types.is_categorical_dtype(vector):\n",
            "c:\\Users\\ADMIN\\anaconda3\\envs\\myenv3.9\\lib\\site-packages\\seaborn\\_oldcore.py:1498: FutureWarning: is_categorical_dtype is deprecated and will be removed in a future version. Use isinstance(dtype, CategoricalDtype) instead\n",
            "  if pd.api.types.is_categorical_dtype(vector):\n",
            "c:\\Users\\ADMIN\\anaconda3\\envs\\myenv3.9\\lib\\site-packages\\seaborn\\_oldcore.py:1498: FutureWarning: is_categorical_dtype is deprecated and will be removed in a future version. Use isinstance(dtype, CategoricalDtype) instead\n",
            "  if pd.api.types.is_categorical_dtype(vector):\n"
          ]
        },
        {
          "data": {
            "image/png": "[encoded data removed]",
            "text/plain": [
              "<Figure size 1000x600 with 1 Axes>"
            ]
          },
          "metadata": {},
          "output_type": "display_data"
        }
      ],
      "source": [
        "import matplotlib.pyplot as plt\n",
        "import seaborn as sns\n",
        "\n",
        "# Assuming 'filtered_data' is a DataFrame containing the mentioned columns\n",
        "\n",
        "# Create a scatter plot\n",
        "plt.figure(figsize=(10, 6))\n",
        "scatter = sns.scatterplot(x='Temp_C', y='Dew Point Temp_C', hue='Std_Weather', data=weather_df, palette='viridis', s=80)\n",
        "\n",
        "# Set plot labels and title\n",
        "plt.xlabel('Temp_C')\n",
        "plt.ylabel('Dew Point Temp_C')\n",
        "plt.title('Scatter Plot of Weather Data based on Std_Weather')\n",
        "\n",
        "# Add legend\n",
        "scatter.legend(loc='upper right', bbox_to_anchor=(1.25, 1))\n",
        "\n",
        "# Show the plot\n",
        "plt.show()\n"
      ]
    },
    {
      "cell_type": "code",
      "execution_count": 241,
      "metadata": {
        "colab": {
          "base_uri": "https://localhost:8080/",
          "height": 448
        },
        "id": "fZvywe3tsYCB",
        "outputId": "99ec583a-83cd-431a-b7b2-231e151565dc"
      },
      "outputs": [
        {
          "data": {
            "text/plain": [
              "<Axes: >"
            ]
          },
          "execution_count": 241,
          "metadata": {},
          "output_type": "execute_result"
        },
        {
          "data": {
            "image/png": "[encoded data removed]",
            "text/plain": [
              "<Figure size 640x480 with 1 Axes>"
            ]
          },
          "metadata": {},
          "output_type": "display_data"
        }
      ],
      "source": [
        "# Displaying a boxplot of the 'Visibility_km' column in the 'weather_df' DataFrame\n",
        "weather_df['Visibility_km'].plot(kind='box')"
      ]
    },
    {
      "cell_type": "code",
      "execution_count": 242,
      "metadata": {
        "id": "UZyJB7ZdLJhV"
      },
      "outputs": [],
      "source": [
        "# Calculating the first quartile (q1), third quartile (q3) and  interquartile range (iqr) for 'Visibility_km' colum\n",
        "q1=weather_df['Visibility_km'].quantile(0.25)\n",
        "q3=weather_df['Visibility_km'].quantile(0.75)\n",
        "iqr=q3-q1\n"
      ]
    },
    {
      "cell_type": "code",
      "execution_count": 243,
      "metadata": {
        "colab": {
          "base_uri": "https://localhost:8080/"
        },
        "id": "qLAqS-QXMWZv",
        "outputId": "25bde573-7769-4cd5-9e7b-9999cbe7dfba"
      },
      "outputs": [
        {
          "data": {
            "text/plain": [
              "(16.1, 25.0, 8.899999999999999)"
            ]
          },
          "execution_count": 243,
          "metadata": {},
          "output_type": "execute_result"
        }
      ],
      "source": [
        "# Displaying the values of q1, q3 and iqr\n",
        "q1,q3,iqr"
      ]
    },
    {
      "cell_type": "code",
      "execution_count": 244,
      "metadata": {
        "colab": {
          "base_uri": "https://localhost:8080/"
        },
        "id": "mkQFsggjMWNH",
        "outputId": "27d6caf7-065e-4354-f8ce-63c1eb3d70fd"
      },
      "outputs": [
        {
          "data": {
            "text/plain": [
              "(2.7500000000000036, 38.349999999999994)"
            ]
          },
          "execution_count": 244,
          "metadata": {},
          "output_type": "execute_result"
        }
      ],
      "source": [
        "# Calculating and displaying the upper and limit for potential outliers\n",
        "upper_limit=q3+(1.5*iqr)\n",
        "lower_limit=q1-(1.5*iqr)\n",
        "lower_limit,upper_limit\n"
      ]
    },
    {
      "cell_type": "code",
      "execution_count": 245,
      "metadata": {
        "colab": {
          "base_uri": "https://localhost:8080/",
          "height": 450
        },
        "id": "PB8HOcRtMWFB",
        "outputId": "24fdc59b-a003-4c68-8785-21bb011bb9dd"
      },
      "outputs": [
        {
          "name": "stderr",
          "output_type": "stream",
          "text": [
            "c:\\Users\\DELL\\.conda\\envs\\ML3.9\\lib\\site-packages\\seaborn\\_oldcore.py:1498: FutureWarning: is_categorical_dtype is deprecated and will be removed in a future version. Use isinstance(dtype, CategoricalDtype) instead\n",
            "  if pd.api.types.is_categorical_dtype(vector):\n"
          ]
        },
        {
          "data": {
            "image/png": "[encoded data removed]",
            "text/plain": [
              "<Figure size 640x480 with 1 Axes>"
            ]
          },
          "metadata": {},
          "output_type": "display_data"
        }
      ],
      "source": [
        "# Creating a box plot for the 'Visibility_km' column\n",
        "# Checking if 'Visibility_km' is a column in the 'weather_df' DataFrame\n",
        "if 'Visibility_km' in weather_df.columns:\n",
        "    sns.boxplot(x=weather_df['Visibility_km']) \n",
        "else:\n",
        "    print(\"Column 'Visibility_km' not found in the DataFrame.\") "
      ]
    },
    {
      "cell_type": "code",
      "execution_count": 246,
      "metadata": {
        "colab": {
          "base_uri": "https://localhost:8080/",
          "height": 478
        },
        "id": "h_11kacVMV64",
        "outputId": "e0da8139-eeaa-43f7-d153-039d55510591"
      },
      "outputs": [
        {
          "data": {
            "text/html": [
              "<div>\n",
              "<style scoped>\n",
              "    .dataframe tbody tr th:only-of-type {\n",
              "        vertical-align: middle;\n",
              "    }\n",
              "\n",
              "    .dataframe tbody tr th {\n",
              "        vertical-align: top;\n",
              "    }\n",
              "\n",
              "    .dataframe thead th {\n",
              "        text-align: right;\n",
              "    }\n",
              "</style>\n",
              "<table border=\"1\" class=\"dataframe\">\n",
              "  <thead>\n",
              "    <tr style=\"text-align: right;\">\n",
              "      <th></th>\n",
              "      <th>Temp_C</th>\n",
              "      <th>Dew Point Temp_C</th>\n",
              "      <th>Rel Hum_%</th>\n",
              "      <th>Wind Speed_km/h</th>\n",
              "      <th>Visibility_km</th>\n",
              "      <th>Press_kPa</th>\n",
              "      <th>Std_Weather</th>\n",
              "    </tr>\n",
              "  </thead>\n",
              "  <tbody>\n",
              "    <tr>\n",
              "      <th>6975</th>\n",
              "      <td>12.5</td>\n",
              "      <td>2.9</td>\n",
              "      <td>52</td>\n",
              "      <td>4</td>\n",
              "      <td>48.3</td>\n",
              "      <td>100.86</td>\n",
              "      <td>Cloudy</td>\n",
              "    </tr>\n",
              "    <tr>\n",
              "      <th>3378</th>\n",
              "      <td>29.2</td>\n",
              "      <td>11.7</td>\n",
              "      <td>34</td>\n",
              "      <td>15</td>\n",
              "      <td>48.3</td>\n",
              "      <td>101.56</td>\n",
              "      <td>Cloudy</td>\n",
              "    </tr>\n",
              "    <tr>\n",
              "      <th>4498</th>\n",
              "      <td>25.7</td>\n",
              "      <td>18.3</td>\n",
              "      <td>64</td>\n",
              "      <td>15</td>\n",
              "      <td>48.3</td>\n",
              "      <td>100.65</td>\n",
              "      <td>Cloudy</td>\n",
              "    </tr>\n",
              "    <tr>\n",
              "      <th>324</th>\n",
              "      <td>-17.5</td>\n",
              "      <td>-23.8</td>\n",
              "      <td>58</td>\n",
              "      <td>20</td>\n",
              "      <td>48.3</td>\n",
              "      <td>101.16</td>\n",
              "      <td>Cloudy</td>\n",
              "    </tr>\n",
              "    <tr>\n",
              "      <th>3739</th>\n",
              "      <td>16.3</td>\n",
              "      <td>6.9</td>\n",
              "      <td>54</td>\n",
              "      <td>20</td>\n",
              "      <td>48.3</td>\n",
              "      <td>100.77</td>\n",
              "      <td>Cloudy</td>\n",
              "    </tr>\n",
              "    <tr>\n",
              "      <th>...</th>\n",
              "      <td>...</td>\n",
              "      <td>...</td>\n",
              "      <td>...</td>\n",
              "      <td>...</td>\n",
              "      <td>...</td>\n",
              "      <td>...</td>\n",
              "      <td>...</td>\n",
              "    </tr>\n",
              "    <tr>\n",
              "      <th>8728</th>\n",
              "      <td>-8.5</td>\n",
              "      <td>-9.9</td>\n",
              "      <td>90</td>\n",
              "      <td>24</td>\n",
              "      <td>1.2</td>\n",
              "      <td>100.49</td>\n",
              "      <td>SNOW</td>\n",
              "    </tr>\n",
              "    <tr>\n",
              "      <th>8729</th>\n",
              "      <td>-9.0</td>\n",
              "      <td>-10.4</td>\n",
              "      <td>90</td>\n",
              "      <td>19</td>\n",
              "      <td>2.4</td>\n",
              "      <td>100.46</td>\n",
              "      <td>SNOW</td>\n",
              "    </tr>\n",
              "    <tr>\n",
              "      <th>8734</th>\n",
              "      <td>-10.1</td>\n",
              "      <td>-11.6</td>\n",
              "      <td>89</td>\n",
              "      <td>15</td>\n",
              "      <td>2.4</td>\n",
              "      <td>100.20</td>\n",
              "      <td>SNOW</td>\n",
              "    </tr>\n",
              "    <tr>\n",
              "      <th>8737</th>\n",
              "      <td>-9.4</td>\n",
              "      <td>-10.5</td>\n",
              "      <td>92</td>\n",
              "      <td>9</td>\n",
              "      <td>2.4</td>\n",
              "      <td>100.22</td>\n",
              "      <td>SNOW</td>\n",
              "    </tr>\n",
              "    <tr>\n",
              "      <th>8769</th>\n",
              "      <td>-8.1</td>\n",
              "      <td>-9.6</td>\n",
              "      <td>89</td>\n",
              "      <td>4</td>\n",
              "      <td>2.4</td>\n",
              "      <td>101.09</td>\n",
              "      <td>SNOW</td>\n",
              "    </tr>\n",
              "  </tbody>\n",
              "</table>\n",
              "<p>459 rows × 7 columns</p>\n",
              "</div>"
            ],
            "text/plain": [
              "      Temp_C  Dew Point Temp_C  Rel Hum_%  Wind Speed_km/h  Visibility_km  \\\n",
              "6975    12.5               2.9         52                4           48.3   \n",
              "3378    29.2              11.7         34               15           48.3   \n",
              "4498    25.7              18.3         64               15           48.3   \n",
              "324    -17.5             -23.8         58               20           48.3   \n",
              "3739    16.3               6.9         54               20           48.3   \n",
              "...      ...               ...        ...              ...            ...   \n",
              "8728    -8.5              -9.9         90               24            1.2   \n",
              "8729    -9.0             -10.4         90               19            2.4   \n",
              "8734   -10.1             -11.6         89               15            2.4   \n",
              "8737    -9.4             -10.5         92                9            2.4   \n",
              "8769    -8.1              -9.6         89                4            2.4   \n",
              "\n",
              "      Press_kPa Std_Weather  \n",
              "6975     100.86      Cloudy  \n",
              "3378     101.56      Cloudy  \n",
              "4498     100.65      Cloudy  \n",
              "324      101.16      Cloudy  \n",
              "3739     100.77      Cloudy  \n",
              "...         ...         ...  \n",
              "8728     100.49        SNOW  \n",
              "8729     100.46        SNOW  \n",
              "8734     100.20        SNOW  \n",
              "8737     100.22        SNOW  \n",
              "8769     101.09        SNOW  \n",
              "\n",
              "[459 rows x 7 columns]"
            ]
          },
          "execution_count": 246,
          "metadata": {},
          "output_type": "execute_result"
        }
      ],
      "source": [
        "# Selecting rows where 'Visibility_km' values are potential outliers\n",
        "weather_df.loc[(weather_df['Visibility_km']>upper_limit) |(weather_df['Visibility_km']<lower_limit)]"
      ]
    },
    {
      "cell_type": "code",
      "execution_count": 247,
      "metadata": {
        "colab": {
          "base_uri": "https://localhost:8080/"
        },
        "id": "RaD4LaFGPY2r",
        "outputId": "38c0e928-6a81-49da-d7bb-102783e37b4c"
      },
      "outputs": [
        {
          "name": "stdout",
          "output_type": "stream",
          "text": [
            "before removing outliers: 2359\n",
            "after removing outliers: 1900\n",
            " outliers: 459\n"
          ]
        }
      ],
      "source": [
        "#Trimming\n",
        "# Creating a new DataFrame by excluding rows with potential outliers in 'Visibility_km'\n",
        "new_weather_df=weather_df.loc[(weather_df['Visibility_km']<upper_limit) &(weather_df['Visibility_km']>lower_limit)]\n",
        "\n",
        "# Printing information about the dataset before and after removing outliers\n",
        "print('before removing outliers:',len(weather_df))\n",
        "print('after removing outliers:',len(new_weather_df))\n",
        "print(' outliers:',len(weather_df)-len(new_weather_df))"
      ]
    },
    {
      "cell_type": "code",
      "execution_count": 248,
      "metadata": {
        "colab": {
          "base_uri": "https://localhost:8080/",
          "height": 450
        },
        "id": "9Ndxn66GQZl3",
        "outputId": "ce68cd4b-f1ce-48fa-fcb2-26c78d045367"
      },
      "outputs": [
        {
          "name": "stderr",
          "output_type": "stream",
          "text": [
            "c:\\Users\\DELL\\.conda\\envs\\ML3.9\\lib\\site-packages\\seaborn\\_oldcore.py:1498: FutureWarning: is_categorical_dtype is deprecated and will be removed in a future version. Use isinstance(dtype, CategoricalDtype) instead\n",
            "  if pd.api.types.is_categorical_dtype(vector):\n"
          ]
        },
        {
          "data": {
            "image/png": "[encoded data removed]",
            "text/plain": [
              "<Figure size 640x480 with 1 Axes>"
            ]
          },
          "metadata": {},
          "output_type": "display_data"
        }
      ],
      "source": [
        "# Creating a box plot for the 'Visibility_km' column after removing outliers\n",
        "if 'Visibility_km' in new_weather_df.columns:\n",
        "    sns.boxplot(x=new_weather_df['Visibility_km'])\n",
        "else:\n",
        "    print(\"Column 'Visibility_km' not found in the DataFrame.\")"
      ]
    },
    {
      "cell_type": "code",
      "execution_count": 249,
      "metadata": {
        "id": "FFcY-78TQZXr"
      },
      "outputs": [],
      "source": [
        "# Capping\n",
        "\n",
        "# Creating a copy of the original DataFrame\n",
        "new_weather_df=weather_df.copy()\n",
        "\n",
        "# Capping values exceeding the upper limit in 'Visibility_km' with the upper limit\n",
        "new_weather_df.loc[(new_weather_df['Visibility_km']>upper_limit),'Visibility_km']=upper_limit\n",
        "\n",
        "# Flooring values below the lower limit in 'Visibility_km' with the lower limit\n",
        "new_weather_df.loc[(new_weather_df['Visibility_km']<lower_limit),'Visibility_km']=lower_limit\n"
      ]
    },
    {
      "cell_type": "code",
      "execution_count": 250,
      "metadata": {
        "colab": {
          "base_uri": "https://localhost:8080/",
          "height": 450
        },
        "id": "nAdW25IiQZKg",
        "outputId": "456f3dbd-226b-4950-8e10-34d121962131"
      },
      "outputs": [
        {
          "name": "stderr",
          "output_type": "stream",
          "text": [
            "c:\\Users\\DELL\\.conda\\envs\\ML3.9\\lib\\site-packages\\seaborn\\_oldcore.py:1498: FutureWarning: is_categorical_dtype is deprecated and will be removed in a future version. Use isinstance(dtype, CategoricalDtype) instead\n",
            "  if pd.api.types.is_categorical_dtype(vector):\n"
          ]
        },
        {
          "data": {
            "image/png": "[encoded data removed]",
            "text/plain": [
              "<Figure size 640x480 with 1 Axes>"
            ]
          },
          "metadata": {},
          "output_type": "display_data"
        }
      ],
      "source": [
        "# Creating a box plot for the 'Visibility_km' column after the capping\n",
        "if 'Visibility_km' in new_weather_df.columns:\n",
        "    sns.boxplot(x=new_weather_df['Visibility_km'])\n",
        "else:\n",
        "    print(\"Column 'Visibility_km' not found in the DataFrame.\")"
      ]
    },
    {
      "cell_type": "code",
      "execution_count": 251,
      "metadata": {
        "id": "RhclmoWEsaad"
      },
      "outputs": [],
      "source": [
        "# Calculating the first quartile (q1), third quartile (q3) and  interquartile range (iqr) for 'Temp_C' colum\n",
        "q1=weather_df['Temp_C'].quantile(0.25)\n",
        "q3=weather_df['Temp_C'].quantile(0.75)\n",
        "iqr=q3-q1"
      ]
    },
    {
      "cell_type": "code",
      "execution_count": 252,
      "metadata": {
        "colab": {
          "base_uri": "https://localhost:8080/"
        },
        "id": "m0HoG6Y-SzEw",
        "outputId": "f0a303e4-ff18-47a6-821c-f2b7ce636974"
      },
      "outputs": [
        {
          "data": {
            "text/plain": [
              "(-3.1, 16.3, 19.400000000000002)"
            ]
          },
          "execution_count": 252,
          "metadata": {},
          "output_type": "execute_result"
        }
      ],
      "source": [
        "# Displaying the values of q1, q3 and iqr\n",
        "q1,q3,iqr"
      ]
    },
    {
      "cell_type": "code",
      "execution_count": 253,
      "metadata": {
        "colab": {
          "base_uri": "https://localhost:8080/"
        },
        "id": "3lsOVFS7SzBU",
        "outputId": "9ce1ae5e-5165-4c6f-ac7f-4ae7de632d5a"
      },
      "outputs": [
        {
          "data": {
            "text/plain": [
              "(-32.2, 45.400000000000006)"
            ]
          },
          "execution_count": 253,
          "metadata": {},
          "output_type": "execute_result"
        }
      ],
      "source": [
        "# Calculating and displaying the upper and limit for potential outliers\n",
        "upper_limit=q3+(1.5*iqr)\n",
        "lower_limit=q1-(1.5*iqr)\n",
        "lower_limit,upper_limit"
      ]
    },
    {
      "cell_type": "code",
      "execution_count": 254,
      "metadata": {
        "colab": {
          "base_uri": "https://localhost:8080/",
          "height": 449
        },
        "id": "MmIKFzWYSy-R",
        "outputId": "7a38ee49-b188-4885-851b-f0a88f77b12a"
      },
      "outputs": [
        {
          "name": "stderr",
          "output_type": "stream",
          "text": [
            "c:\\Users\\DELL\\.conda\\envs\\ML3.9\\lib\\site-packages\\seaborn\\_oldcore.py:1498: FutureWarning: is_categorical_dtype is deprecated and will be removed in a future version. Use isinstance(dtype, CategoricalDtype) instead\n",
            "  if pd.api.types.is_categorical_dtype(vector):\n"
          ]
        },
        {
          "data": {
            "image/png": "[encoded data removed]",
            "text/plain": [
              "<Figure size 640x480 with 1 Axes>"
            ]
          },
          "metadata": {},
          "output_type": "display_data"
        }
      ],
      "source": [
        "# Creating a box plot for the 'Temp_C' column\n",
        "if 'Temp_C' in weather_df.columns:\n",
        "    sns.boxplot(x=weather_df['Temp_C'])\n",
        "else:\n",
        "    print(\"Column 'Temp_C' not found in the DataFrame.\")"
      ]
    },
    {
      "cell_type": "code",
      "execution_count": 255,
      "metadata": {
        "colab": {
          "base_uri": "https://localhost:8080/",
          "height": 84
        },
        "id": "39a4PbSqSy7Q",
        "outputId": "0116bc42-f275-404f-964c-e3bd60b2659f"
      },
      "outputs": [
        {
          "data": {
            "text/html": [
              "<div>\n",
              "<style scoped>\n",
              "    .dataframe tbody tr th:only-of-type {\n",
              "        vertical-align: middle;\n",
              "    }\n",
              "\n",
              "    .dataframe tbody tr th {\n",
              "        vertical-align: top;\n",
              "    }\n",
              "\n",
              "    .dataframe thead th {\n",
              "        text-align: right;\n",
              "    }\n",
              "</style>\n",
              "<table border=\"1\" class=\"dataframe\">\n",
              "  <thead>\n",
              "    <tr style=\"text-align: right;\">\n",
              "      <th></th>\n",
              "      <th>Temp_C</th>\n",
              "      <th>Dew Point Temp_C</th>\n",
              "      <th>Rel Hum_%</th>\n",
              "      <th>Wind Speed_km/h</th>\n",
              "      <th>Visibility_km</th>\n",
              "      <th>Press_kPa</th>\n",
              "      <th>Std_Weather</th>\n",
              "    </tr>\n",
              "  </thead>\n",
              "  <tbody>\n",
              "  </tbody>\n",
              "</table>\n",
              "</div>"
            ],
            "text/plain": [
              "Empty DataFrame\n",
              "Columns: [Temp_C, Dew Point Temp_C, Rel Hum_%, Wind Speed_km/h, Visibility_km, Press_kPa, Std_Weather]\n",
              "Index: []"
            ]
          },
          "execution_count": 255,
          "metadata": {},
          "output_type": "execute_result"
        }
      ],
      "source": [
        "# Selecting rows where 'Temp_C' values are potential outliers\n",
        "weather_df.loc[(weather_df['Temp_C']>upper_limit) |(weather_df['Temp_C']<lower_limit)]"
      ]
    },
    {
      "cell_type": "code",
      "execution_count": 256,
      "metadata": {
        "id": "V_61T51KSy4F"
      },
      "outputs": [],
      "source": [
        "# Calculating the first quartile (q1), third quartile (q3) and  inter quartile range (iqr) for 'Dew Point Temp_C' colum\n",
        "q1=weather_df['Dew Point Temp_C'].quantile(0.25)\n",
        "q3=weather_df['Dew Point Temp_C'].quantile(0.75)\n",
        "iqr=q3-q1\n"
      ]
    },
    {
      "cell_type": "code",
      "execution_count": 257,
      "metadata": {
        "colab": {
          "base_uri": "https://localhost:8080/"
        },
        "id": "0zC2Z5pnSy0d",
        "outputId": "b962046b-dcf3-4551-e94b-e70a56a6f6f6"
      },
      "outputs": [
        {
          "data": {
            "text/plain": [
              "(-6.9, 10.3, 17.200000000000003)"
            ]
          },
          "execution_count": 257,
          "metadata": {},
          "output_type": "execute_result"
        }
      ],
      "source": [
        "# Displaying the values of q1, q3 and iqr\n",
        "q1,q3,iqr"
      ]
    },
    {
      "cell_type": "code",
      "execution_count": 258,
      "metadata": {
        "colab": {
          "base_uri": "https://localhost:8080/"
        },
        "id": "evEGNazjSyxR",
        "outputId": "dd870c70-9e9f-4cdc-8d6a-0824cbe1cb45"
      },
      "outputs": [
        {
          "data": {
            "text/plain": [
              "(-32.7, 36.10000000000001)"
            ]
          },
          "execution_count": 258,
          "metadata": {},
          "output_type": "execute_result"
        }
      ],
      "source": [
        "# Calculating and displaying the upper and limit for potential outliers\n",
        "upper_limit=q3+(1.5*iqr)\n",
        "lower_limit=q1-(1.5*iqr)\n",
        "lower_limit,upper_limit"
      ]
    },
    {
      "cell_type": "code",
      "execution_count": 259,
      "metadata": {
        "colab": {
          "base_uri": "https://localhost:8080/",
          "height": 450
        },
        "id": "AS5IfNgYSyt5",
        "outputId": "6340cfe1-6821-471b-ddde-dd322293b879"
      },
      "outputs": [
        {
          "name": "stderr",
          "output_type": "stream",
          "text": [
            "c:\\Users\\DELL\\.conda\\envs\\ML3.9\\lib\\site-packages\\seaborn\\_oldcore.py:1498: FutureWarning: is_categorical_dtype is deprecated and will be removed in a future version. Use isinstance(dtype, CategoricalDtype) instead\n",
            "  if pd.api.types.is_categorical_dtype(vector):\n"
          ]
        },
        {
          "data": {
            "image/png": "[encoded data removed]",
            "text/plain": [
              "<Figure size 640x480 with 1 Axes>"
            ]
          },
          "metadata": {},
          "output_type": "display_data"
        }
      ],
      "source": [
        "# Creating a box plot for the 'Dew Point Temp_C' column\n",
        "if 'Dew Point Temp_C' in weather_df.columns:\n",
        "    sns.boxplot(x=weather_df['Dew Point Temp_C'])\n",
        "else:\n",
        "    print(\"Column 'Dew Point Temp_C' not found in the DataFrame.\")"
      ]
    },
    {
      "cell_type": "code",
      "execution_count": 260,
      "metadata": {
        "colab": {
          "base_uri": "https://localhost:8080/",
          "height": 84
        },
        "id": "GJVEoJkGSyp_",
        "outputId": "05e66a1e-18ec-4dc5-8216-65e9e23831bd"
      },
      "outputs": [
        {
          "data": {
            "text/html": [
              "<div>\n",
              "<style scoped>\n",
              "    .dataframe tbody tr th:only-of-type {\n",
              "        vertical-align: middle;\n",
              "    }\n",
              "\n",
              "    .dataframe tbody tr th {\n",
              "        vertical-align: top;\n",
              "    }\n",
              "\n",
              "    .dataframe thead th {\n",
              "        text-align: right;\n",
              "    }\n",
              "</style>\n",
              "<table border=\"1\" class=\"dataframe\">\n",
              "  <thead>\n",
              "    <tr style=\"text-align: right;\">\n",
              "      <th></th>\n",
              "      <th>Temp_C</th>\n",
              "      <th>Dew Point Temp_C</th>\n",
              "      <th>Rel Hum_%</th>\n",
              "      <th>Wind Speed_km/h</th>\n",
              "      <th>Visibility_km</th>\n",
              "      <th>Press_kPa</th>\n",
              "      <th>Std_Weather</th>\n",
              "    </tr>\n",
              "  </thead>\n",
              "  <tbody>\n",
              "  </tbody>\n",
              "</table>\n",
              "</div>"
            ],
            "text/plain": [
              "Empty DataFrame\n",
              "Columns: [Temp_C, Dew Point Temp_C, Rel Hum_%, Wind Speed_km/h, Visibility_km, Press_kPa, Std_Weather]\n",
              "Index: []"
            ]
          },
          "execution_count": 260,
          "metadata": {},
          "output_type": "execute_result"
        }
      ],
      "source": [
        "# Selecting rows where 'Dew Point Temp_C' values are potential outliers\n",
        "weather_df.loc[(weather_df['Dew Point Temp_C']>upper_limit) |(weather_df['Dew Point Temp_C']<lower_limit)]"
      ]
    },
    {
      "cell_type": "code",
      "execution_count": 261,
      "metadata": {
        "id": "cDlNjWYxSygT"
      },
      "outputs": [],
      "source": [
        "# Calculating the first quartile (q1), third quartile (q3) and  inter quartile range (iqr) for 'Rel Hum_%' colum\n",
        "q1=weather_df['Rel Hum_%'].quantile(0.25)\n",
        "q3=weather_df['Rel Hum_%'].quantile(0.75)\n",
        "iqr=q3-q1"
      ]
    },
    {
      "cell_type": "code",
      "execution_count": 262,
      "metadata": {
        "colab": {
          "base_uri": "https://localhost:8080/"
        },
        "id": "wN_m5sGpTwlg",
        "outputId": "4031ae5d-932c-459e-8a39-229c76cb390a"
      },
      "outputs": [
        {
          "data": {
            "text/plain": [
              "(62.0, 85.0, 23.0)"
            ]
          },
          "execution_count": 262,
          "metadata": {},
          "output_type": "execute_result"
        }
      ],
      "source": [
        "# Displaying the values of q1, q3 and iqr\n",
        "q1,q3,iqr"
      ]
    },
    {
      "cell_type": "code",
      "execution_count": 263,
      "metadata": {
        "colab": {
          "base_uri": "https://localhost:8080/"
        },
        "id": "1wCwP4qpTwEJ",
        "outputId": "16db4c73-4120-4d2f-c767-4f39cd5210af"
      },
      "outputs": [
        {
          "data": {
            "text/plain": [
              "(27.5, 119.5)"
            ]
          },
          "execution_count": 263,
          "metadata": {},
          "output_type": "execute_result"
        }
      ],
      "source": [
        "# Calculating and displaying the upper and limit for potential outliers\n",
        "upper_limit=q3+(1.5*iqr)\n",
        "lower_limit=q1-(1.5*iqr)\n",
        "lower_limit,upper_limit"
      ]
    },
    {
      "cell_type": "code",
      "execution_count": 264,
      "metadata": {
        "colab": {
          "base_uri": "https://localhost:8080/",
          "height": 450
        },
        "id": "DibQZFguTv5r",
        "outputId": "2ac41660-7e9a-45aa-8f9a-4d51009d1c1d"
      },
      "outputs": [
        {
          "name": "stderr",
          "output_type": "stream",
          "text": [
            "c:\\Users\\DELL\\.conda\\envs\\ML3.9\\lib\\site-packages\\seaborn\\_oldcore.py:1498: FutureWarning: is_categorical_dtype is deprecated and will be removed in a future version. Use isinstance(dtype, CategoricalDtype) instead\n",
            "  if pd.api.types.is_categorical_dtype(vector):\n"
          ]
        },
        {
          "data": {
            "image/png": "[encoded data removed]",
            "text/plain": [
              "<Figure size 640x480 with 1 Axes>"
            ]
          },
          "metadata": {},
          "output_type": "display_data"
        }
      ],
      "source": [
        "# Creating a box plot for the 'Rel Hum_%' column\n",
        "if 'Rel Hum_%' in weather_df.columns:\n",
        "    sns.boxplot(x=weather_df['Rel Hum_%'])\n",
        "else:\n",
        "    print(\"Column 'Rel Hum_%' not found in the DataFrame.\")"
      ]
    },
    {
      "cell_type": "code",
      "execution_count": 265,
      "metadata": {
        "colab": {
          "base_uri": "https://localhost:8080/",
          "height": 511
        },
        "id": "qCuni8v1T8ig",
        "outputId": "5f13998e-4d61-4d84-c021-90975a4aea83"
      },
      "outputs": [
        {
          "data": {
            "text/html": [
              "<div>\n",
              "<style scoped>\n",
              "    .dataframe tbody tr th:only-of-type {\n",
              "        vertical-align: middle;\n",
              "    }\n",
              "\n",
              "    .dataframe tbody tr th {\n",
              "        vertical-align: top;\n",
              "    }\n",
              "\n",
              "    .dataframe thead th {\n",
              "        text-align: right;\n",
              "    }\n",
              "</style>\n",
              "<table border=\"1\" class=\"dataframe\">\n",
              "  <thead>\n",
              "    <tr style=\"text-align: right;\">\n",
              "      <th></th>\n",
              "      <th>Temp_C</th>\n",
              "      <th>Dew Point Temp_C</th>\n",
              "      <th>Rel Hum_%</th>\n",
              "      <th>Wind Speed_km/h</th>\n",
              "      <th>Visibility_km</th>\n",
              "      <th>Press_kPa</th>\n",
              "      <th>Std_Weather</th>\n",
              "    </tr>\n",
              "  </thead>\n",
              "  <tbody>\n",
              "    <tr>\n",
              "      <th>2488</th>\n",
              "      <td>16.1</td>\n",
              "      <td>-5.2</td>\n",
              "      <td>23</td>\n",
              "      <td>30</td>\n",
              "      <td>48.3</td>\n",
              "      <td>101.22</td>\n",
              "      <td>Cloudy</td>\n",
              "    </tr>\n",
              "    <tr>\n",
              "      <th>3065</th>\n",
              "      <td>21.0</td>\n",
              "      <td>-2.9</td>\n",
              "      <td>20</td>\n",
              "      <td>13</td>\n",
              "      <td>48.3</td>\n",
              "      <td>101.07</td>\n",
              "      <td>Cloudy</td>\n",
              "    </tr>\n",
              "    <tr>\n",
              "      <th>2489</th>\n",
              "      <td>15.0</td>\n",
              "      <td>-4.3</td>\n",
              "      <td>26</td>\n",
              "      <td>28</td>\n",
              "      <td>48.3</td>\n",
              "      <td>101.22</td>\n",
              "      <td>Cloudy</td>\n",
              "    </tr>\n",
              "    <tr>\n",
              "      <th>1986</th>\n",
              "      <td>13.4</td>\n",
              "      <td>-5.8</td>\n",
              "      <td>26</td>\n",
              "      <td>13</td>\n",
              "      <td>48.3</td>\n",
              "      <td>101.64</td>\n",
              "      <td>Cloudy</td>\n",
              "    </tr>\n",
              "    <tr>\n",
              "      <th>2487</th>\n",
              "      <td>15.9</td>\n",
              "      <td>-4.9</td>\n",
              "      <td>24</td>\n",
              "      <td>32</td>\n",
              "      <td>48.3</td>\n",
              "      <td>101.27</td>\n",
              "      <td>Clear</td>\n",
              "    </tr>\n",
              "    <tr>\n",
              "      <th>2874</th>\n",
              "      <td>8.1</td>\n",
              "      <td>-11.9</td>\n",
              "      <td>23</td>\n",
              "      <td>28</td>\n",
              "      <td>48.3</td>\n",
              "      <td>101.77</td>\n",
              "      <td>Clear</td>\n",
              "    </tr>\n",
              "    <tr>\n",
              "      <th>3069</th>\n",
              "      <td>18.7</td>\n",
              "      <td>-4.1</td>\n",
              "      <td>21</td>\n",
              "      <td>15</td>\n",
              "      <td>25.0</td>\n",
              "      <td>100.87</td>\n",
              "      <td>Clear</td>\n",
              "    </tr>\n",
              "    <tr>\n",
              "      <th>3161</th>\n",
              "      <td>17.6</td>\n",
              "      <td>-2.2</td>\n",
              "      <td>26</td>\n",
              "      <td>22</td>\n",
              "      <td>48.3</td>\n",
              "      <td>100.82</td>\n",
              "      <td>Clear</td>\n",
              "    </tr>\n",
              "    <tr>\n",
              "      <th>2850</th>\n",
              "      <td>7.2</td>\n",
              "      <td>-11.3</td>\n",
              "      <td>25</td>\n",
              "      <td>24</td>\n",
              "      <td>48.3</td>\n",
              "      <td>101.43</td>\n",
              "      <td>Clear</td>\n",
              "    </tr>\n",
              "    <tr>\n",
              "      <th>2873</th>\n",
              "      <td>9.0</td>\n",
              "      <td>-11.5</td>\n",
              "      <td>22</td>\n",
              "      <td>30</td>\n",
              "      <td>48.3</td>\n",
              "      <td>101.72</td>\n",
              "      <td>Clear</td>\n",
              "    </tr>\n",
              "    <tr>\n",
              "      <th>2871</th>\n",
              "      <td>9.0</td>\n",
              "      <td>-12.0</td>\n",
              "      <td>21</td>\n",
              "      <td>32</td>\n",
              "      <td>48.3</td>\n",
              "      <td>101.63</td>\n",
              "      <td>Clear</td>\n",
              "    </tr>\n",
              "    <tr>\n",
              "      <th>2078</th>\n",
              "      <td>1.7</td>\n",
              "      <td>-18.4</td>\n",
              "      <td>21</td>\n",
              "      <td>13</td>\n",
              "      <td>48.3</td>\n",
              "      <td>102.06</td>\n",
              "      <td>Clear</td>\n",
              "    </tr>\n",
              "    <tr>\n",
              "      <th>2867</th>\n",
              "      <td>6.2</td>\n",
              "      <td>-11.6</td>\n",
              "      <td>27</td>\n",
              "      <td>24</td>\n",
              "      <td>48.3</td>\n",
              "      <td>101.62</td>\n",
              "      <td>Clear</td>\n",
              "    </tr>\n",
              "    <tr>\n",
              "      <th>2224</th>\n",
              "      <td>7.9</td>\n",
              "      <td>-12.0</td>\n",
              "      <td>23</td>\n",
              "      <td>28</td>\n",
              "      <td>48.3</td>\n",
              "      <td>100.59</td>\n",
              "      <td>Clear</td>\n",
              "    </tr>\n",
              "    <tr>\n",
              "      <th>2247</th>\n",
              "      <td>10.9</td>\n",
              "      <td>-9.0</td>\n",
              "      <td>24</td>\n",
              "      <td>24</td>\n",
              "      <td>48.3</td>\n",
              "      <td>100.54</td>\n",
              "      <td>Clear</td>\n",
              "    </tr>\n",
              "    <tr>\n",
              "      <th>2868</th>\n",
              "      <td>7.4</td>\n",
              "      <td>-10.5</td>\n",
              "      <td>27</td>\n",
              "      <td>24</td>\n",
              "      <td>48.3</td>\n",
              "      <td>101.62</td>\n",
              "      <td>Clear</td>\n",
              "    </tr>\n",
              "  </tbody>\n",
              "</table>\n",
              "</div>"
            ],
            "text/plain": [
              "      Temp_C  Dew Point Temp_C  Rel Hum_%  Wind Speed_km/h  Visibility_km  \\\n",
              "2488    16.1              -5.2         23               30           48.3   \n",
              "3065    21.0              -2.9         20               13           48.3   \n",
              "2489    15.0              -4.3         26               28           48.3   \n",
              "1986    13.4              -5.8         26               13           48.3   \n",
              "2487    15.9              -4.9         24               32           48.3   \n",
              "2874     8.1             -11.9         23               28           48.3   \n",
              "3069    18.7              -4.1         21               15           25.0   \n",
              "3161    17.6              -2.2         26               22           48.3   \n",
              "2850     7.2             -11.3         25               24           48.3   \n",
              "2873     9.0             -11.5         22               30           48.3   \n",
              "2871     9.0             -12.0         21               32           48.3   \n",
              "2078     1.7             -18.4         21               13           48.3   \n",
              "2867     6.2             -11.6         27               24           48.3   \n",
              "2224     7.9             -12.0         23               28           48.3   \n",
              "2247    10.9              -9.0         24               24           48.3   \n",
              "2868     7.4             -10.5         27               24           48.3   \n",
              "\n",
              "      Press_kPa Std_Weather  \n",
              "2488     101.22      Cloudy  \n",
              "3065     101.07      Cloudy  \n",
              "2489     101.22      Cloudy  \n",
              "1986     101.64      Cloudy  \n",
              "2487     101.27       Clear  \n",
              "2874     101.77       Clear  \n",
              "3069     100.87       Clear  \n",
              "3161     100.82       Clear  \n",
              "2850     101.43       Clear  \n",
              "2873     101.72       Clear  \n",
              "2871     101.63       Clear  \n",
              "2078     102.06       Clear  \n",
              "2867     101.62       Clear  \n",
              "2224     100.59       Clear  \n",
              "2247     100.54       Clear  \n",
              "2868     101.62       Clear  "
            ]
          },
          "execution_count": 265,
          "metadata": {},
          "output_type": "execute_result"
        }
      ],
      "source": [
        "# Selecting rows where 'Rel Hum_%' values are potential outliers\n",
        "weather_df.loc[(weather_df['Rel Hum_%']>upper_limit) |(weather_df['Rel Hum_%']<lower_limit)]"
      ]
    },
    {
      "cell_type": "code",
      "execution_count": 266,
      "metadata": {
        "colab": {
          "base_uri": "https://localhost:8080/"
        },
        "id": "yuSm6C9fT8af",
        "outputId": "2fc14a71-7663-49f5-e781-c3ef8e80c3a8"
      },
      "outputs": [
        {
          "name": "stdout",
          "output_type": "stream",
          "text": [
            "before removing outliers: 2359\n",
            "after removing outliers: 2343\n",
            " outliers: 16\n"
          ]
        }
      ],
      "source": [
        "#Trimming\n",
        "# Creating a new DataFrame by excluding rows with potential outliers in 'Rel Hum_%'\n",
        "new_weather_df=weather_df.loc[(weather_df['Rel Hum_%']<upper_limit) &(weather_df['Rel Hum_%']>lower_limit)]\n",
        "\n",
        "# Printing information about the dataset before and after removing outliers\n",
        "print('before removing outliers:',len(weather_df))\n",
        "print('after removing outliers:',len(new_weather_df))\n",
        "print(' outliers:',len(weather_df)-len(new_weather_df))\n"
      ]
    },
    {
      "cell_type": "code",
      "execution_count": 267,
      "metadata": {
        "colab": {
          "base_uri": "https://localhost:8080/",
          "height": 450
        },
        "id": "CBGR_7DlT8Ti",
        "outputId": "61b0cd5d-361a-4b46-b7ce-c91a4e00ad1b"
      },
      "outputs": [
        {
          "name": "stderr",
          "output_type": "stream",
          "text": [
            "c:\\Users\\DELL\\.conda\\envs\\ML3.9\\lib\\site-packages\\seaborn\\_oldcore.py:1498: FutureWarning: is_categorical_dtype is deprecated and will be removed in a future version. Use isinstance(dtype, CategoricalDtype) instead\n",
            "  if pd.api.types.is_categorical_dtype(vector):\n"
          ]
        },
        {
          "data": {
            "image/png": "[encoded data removed]",
            "text/plain": [
              "<Figure size 640x480 with 1 Axes>"
            ]
          },
          "metadata": {},
          "output_type": "display_data"
        }
      ],
      "source": [
        "# Creating a box plot for the 'Rel Hum_%' column after removing outliers\n",
        "if 'Rel Hum_%' in new_weather_df.columns:\n",
        "    sns.boxplot(x=new_weather_df['Rel Hum_%'])\n",
        "else:\n",
        "    print(\"Column 'Rel Hum_%' not found in the DataFrame.\")"
      ]
    },
    {
      "cell_type": "code",
      "execution_count": 268,
      "metadata": {
        "id": "O9-7gF55T8MM"
      },
      "outputs": [
        {
          "name": "stderr",
          "output_type": "stream",
          "text": [
            "C:\\Users\\DELL\\AppData\\Local\\Temp\\ipykernel_15024\\55696030.py:7: FutureWarning: Setting an item of incompatible dtype is deprecated and will raise in a future error of pandas. Value '119.5' has dtype incompatible with int64, please explicitly cast to a compatible dtype first.\n",
            "  new_weather_df.loc[(new_weather_df['Rel Hum_%']>upper_limit),'Rel Hum_%']=upper_limit\n"
          ]
        }
      ],
      "source": [
        "# Capping\n",
        "\n",
        "# Creating a copy of the original DataFrame\n",
        "new_weather_df=weather_df.copy()\n",
        "\n",
        "# Capping values exceeding the upper limit in 'Rel Hum_%' with the upper limit\n",
        "new_weather_df.loc[(new_weather_df['Rel Hum_%']>upper_limit),'Rel Hum_%']=upper_limit\n",
        "\n",
        "# Flooring values below the lower limit in 'Rel Hum_%' with the lower limit\n",
        "new_weather_df.loc[(new_weather_df['Rel Hum_%']<lower_limit),'Rel Hum_%']=lower_limit"
      ]
    },
    {
      "cell_type": "code",
      "execution_count": 269,
      "metadata": {
        "colab": {
          "base_uri": "https://localhost:8080/",
          "height": 450
        },
        "id": "ojMx89eVUie0",
        "outputId": "ddf7c6fe-e329-4954-fcb4-fa5d65de0706"
      },
      "outputs": [
        {
          "name": "stderr",
          "output_type": "stream",
          "text": [
            "c:\\Users\\DELL\\.conda\\envs\\ML3.9\\lib\\site-packages\\seaborn\\_oldcore.py:1498: FutureWarning: is_categorical_dtype is deprecated and will be removed in a future version. Use isinstance(dtype, CategoricalDtype) instead\n",
            "  if pd.api.types.is_categorical_dtype(vector):\n"
          ]
        },
        {
          "data": {
            "image/png": "[encoded data removed]",
            "text/plain": [
              "<Figure size 640x480 with 1 Axes>"
            ]
          },
          "metadata": {},
          "output_type": "display_data"
        }
      ],
      "source": [
        "# Creating a box plot for the 'Rel Hum_%' column after the capping\n",
        "if 'Rel Hum_%' in new_weather_df.columns:\n",
        "    sns.boxplot(x=new_weather_df['Rel Hum_%'])\n",
        "else:\n",
        "    print(\"Column 'Rel Hum_%' not found in the DataFrame.\")"
      ]
    },
    {
      "cell_type": "code",
      "execution_count": 270,
      "metadata": {
        "id": "I5VFFLGlUtyW"
      },
      "outputs": [],
      "source": [
        "# Calculating the first quartile (q1), third quartile (q3) and  inter quartile range (iqr) for 'Wind Speed_km/h' colum\n",
        "q1=weather_df['Wind Speed_km/h'].quantile(0.25)\n",
        "q3=weather_df['Wind Speed_km/h'].quantile(0.75)\n",
        "iqr=q3-q1"
      ]
    },
    {
      "cell_type": "code",
      "execution_count": 271,
      "metadata": {
        "colab": {
          "base_uri": "https://localhost:8080/"
        },
        "id": "szbGcZvoU9fU",
        "outputId": "8bdc1e8c-8197-44ba-884e-4e18577fdc88"
      },
      "outputs": [
        {
          "data": {
            "text/plain": [
              "(9.0, 22.0, 13.0)"
            ]
          },
          "execution_count": 271,
          "metadata": {},
          "output_type": "execute_result"
        }
      ],
      "source": [
        "# Displaying the values of q1, q3 and iqr\n",
        "q1,q3,iqr"
      ]
    },
    {
      "cell_type": "code",
      "execution_count": 272,
      "metadata": {
        "colab": {
          "base_uri": "https://localhost:8080/"
        },
        "id": "FJLnQn6rU9Xq",
        "outputId": "057b319b-7003-44b9-949b-1ce0a6d705e3"
      },
      "outputs": [
        {
          "data": {
            "text/plain": [
              "(-10.5, 41.5)"
            ]
          },
          "execution_count": 272,
          "metadata": {},
          "output_type": "execute_result"
        }
      ],
      "source": [
        "# Calculating and displaying the upper and limit for potential outliers\n",
        "upper_limit=q3+(1.5*iqr)\n",
        "lower_limit=q1-(1.5*iqr)\n",
        "lower_limit,upper_limit"
      ]
    },
    {
      "cell_type": "code",
      "execution_count": 273,
      "metadata": {
        "colab": {
          "base_uri": "https://localhost:8080/",
          "height": 450
        },
        "id": "ML45PmyTU9QA",
        "outputId": "83a7a034-8e4b-4ef3-85d6-2e9573337fa8"
      },
      "outputs": [
        {
          "name": "stderr",
          "output_type": "stream",
          "text": [
            "c:\\Users\\DELL\\.conda\\envs\\ML3.9\\lib\\site-packages\\seaborn\\_oldcore.py:1498: FutureWarning: is_categorical_dtype is deprecated and will be removed in a future version. Use isinstance(dtype, CategoricalDtype) instead\n",
            "  if pd.api.types.is_categorical_dtype(vector):\n"
          ]
        },
        {
          "data": {
            "image/png": "[encoded data removed]",
            "text/plain": [
              "<Figure size 640x480 with 1 Axes>"
            ]
          },
          "metadata": {},
          "output_type": "display_data"
        }
      ],
      "source": [
        "# Creating a box plot for the 'Wind Speed_km/h' column\n",
        "if 'Wind Speed_km/h' in weather_df.columns:\n",
        "    sns.boxplot(x=weather_df['Wind Speed_km/h'])\n",
        "else:\n",
        "    print(\"Column 'Wind Speed_km/h' not found in the DataFrame.\")"
      ]
    },
    {
      "cell_type": "code",
      "execution_count": 274,
      "metadata": {
        "colab": {
          "base_uri": "https://localhost:8080/",
          "height": 856
        },
        "id": "v-hg6ApWU9FW",
        "outputId": "d3041372-791c-4e8d-84c7-3135c7d55313"
      },
      "outputs": [
        {
          "data": {
            "text/html": [
              "<div>\n",
              "<style scoped>\n",
              "    .dataframe tbody tr th:only-of-type {\n",
              "        vertical-align: middle;\n",
              "    }\n",
              "\n",
              "    .dataframe tbody tr th {\n",
              "        vertical-align: top;\n",
              "    }\n",
              "\n",
              "    .dataframe thead th {\n",
              "        text-align: right;\n",
              "    }\n",
              "</style>\n",
              "<table border=\"1\" class=\"dataframe\">\n",
              "  <thead>\n",
              "    <tr style=\"text-align: right;\">\n",
              "      <th></th>\n",
              "      <th>Temp_C</th>\n",
              "      <th>Dew Point Temp_C</th>\n",
              "      <th>Rel Hum_%</th>\n",
              "      <th>Wind Speed_km/h</th>\n",
              "      <th>Visibility_km</th>\n",
              "      <th>Press_kPa</th>\n",
              "      <th>Std_Weather</th>\n",
              "    </tr>\n",
              "  </thead>\n",
              "  <tbody>\n",
              "    <tr>\n",
              "      <th>7264</th>\n",
              "      <td>15.2</td>\n",
              "      <td>9.8</td>\n",
              "      <td>70</td>\n",
              "      <td>48</td>\n",
              "      <td>24.1</td>\n",
              "      <td>100.04</td>\n",
              "      <td>Cloudy</td>\n",
              "    </tr>\n",
              "    <tr>\n",
              "      <th>7271</th>\n",
              "      <td>14.1</td>\n",
              "      <td>10.0</td>\n",
              "      <td>76</td>\n",
              "      <td>54</td>\n",
              "      <td>25.0</td>\n",
              "      <td>99.33</td>\n",
              "      <td>Cloudy</td>\n",
              "    </tr>\n",
              "    <tr>\n",
              "      <th>7266</th>\n",
              "      <td>14.2</td>\n",
              "      <td>9.2</td>\n",
              "      <td>72</td>\n",
              "      <td>44</td>\n",
              "      <td>25.0</td>\n",
              "      <td>99.83</td>\n",
              "      <td>Cloudy</td>\n",
              "    </tr>\n",
              "    <tr>\n",
              "      <th>7267</th>\n",
              "      <td>14.0</td>\n",
              "      <td>9.6</td>\n",
              "      <td>75</td>\n",
              "      <td>50</td>\n",
              "      <td>25.0</td>\n",
              "      <td>99.65</td>\n",
              "      <td>Cloudy</td>\n",
              "    </tr>\n",
              "    <tr>\n",
              "      <th>1501</th>\n",
              "      <td>5.8</td>\n",
              "      <td>-4.0</td>\n",
              "      <td>49</td>\n",
              "      <td>50</td>\n",
              "      <td>48.3</td>\n",
              "      <td>98.73</td>\n",
              "      <td>Cloudy</td>\n",
              "    </tr>\n",
              "    <tr>\n",
              "      <th>676</th>\n",
              "      <td>-0.9</td>\n",
              "      <td>-7.0</td>\n",
              "      <td>63</td>\n",
              "      <td>43</td>\n",
              "      <td>25.0</td>\n",
              "      <td>100.47</td>\n",
              "      <td>Clear</td>\n",
              "    </tr>\n",
              "    <tr>\n",
              "      <th>677</th>\n",
              "      <td>-1.5</td>\n",
              "      <td>-7.8</td>\n",
              "      <td>62</td>\n",
              "      <td>43</td>\n",
              "      <td>25.0</td>\n",
              "      <td>100.59</td>\n",
              "      <td>Clear</td>\n",
              "    </tr>\n",
              "    <tr>\n",
              "      <th>1626</th>\n",
              "      <td>10.5</td>\n",
              "      <td>7.8</td>\n",
              "      <td>83</td>\n",
              "      <td>46</td>\n",
              "      <td>6.4</td>\n",
              "      <td>99.64</td>\n",
              "      <td>RAIN</td>\n",
              "    </tr>\n",
              "    <tr>\n",
              "      <th>2712</th>\n",
              "      <td>1.9</td>\n",
              "      <td>-0.8</td>\n",
              "      <td>82</td>\n",
              "      <td>46</td>\n",
              "      <td>19.3</td>\n",
              "      <td>100.73</td>\n",
              "      <td>RAIN</td>\n",
              "    </tr>\n",
              "    <tr>\n",
              "      <th>2716</th>\n",
              "      <td>2.0</td>\n",
              "      <td>-0.7</td>\n",
              "      <td>82</td>\n",
              "      <td>44</td>\n",
              "      <td>25.0</td>\n",
              "      <td>99.82</td>\n",
              "      <td>RAIN</td>\n",
              "    </tr>\n",
              "    <tr>\n",
              "      <th>2717</th>\n",
              "      <td>1.9</td>\n",
              "      <td>-0.2</td>\n",
              "      <td>86</td>\n",
              "      <td>46</td>\n",
              "      <td>8.0</td>\n",
              "      <td>99.74</td>\n",
              "      <td>RAIN</td>\n",
              "    </tr>\n",
              "    <tr>\n",
              "      <th>2718</th>\n",
              "      <td>2.1</td>\n",
              "      <td>-0.3</td>\n",
              "      <td>84</td>\n",
              "      <td>52</td>\n",
              "      <td>16.1</td>\n",
              "      <td>99.66</td>\n",
              "      <td>RAIN</td>\n",
              "    </tr>\n",
              "    <tr>\n",
              "      <th>2719</th>\n",
              "      <td>2.3</td>\n",
              "      <td>-0.4</td>\n",
              "      <td>82</td>\n",
              "      <td>48</td>\n",
              "      <td>24.1</td>\n",
              "      <td>99.52</td>\n",
              "      <td>RAIN</td>\n",
              "    </tr>\n",
              "    <tr>\n",
              "      <th>2720</th>\n",
              "      <td>2.8</td>\n",
              "      <td>0.3</td>\n",
              "      <td>84</td>\n",
              "      <td>48</td>\n",
              "      <td>19.3</td>\n",
              "      <td>99.40</td>\n",
              "      <td>RAIN</td>\n",
              "    </tr>\n",
              "    <tr>\n",
              "      <th>2721</th>\n",
              "      <td>3.1</td>\n",
              "      <td>0.6</td>\n",
              "      <td>84</td>\n",
              "      <td>44</td>\n",
              "      <td>12.9</td>\n",
              "      <td>99.29</td>\n",
              "      <td>RAIN</td>\n",
              "    </tr>\n",
              "    <tr>\n",
              "      <th>7608</th>\n",
              "      <td>14.8</td>\n",
              "      <td>10.0</td>\n",
              "      <td>73</td>\n",
              "      <td>48</td>\n",
              "      <td>25.0</td>\n",
              "      <td>100.94</td>\n",
              "      <td>RAIN</td>\n",
              "    </tr>\n",
              "    <tr>\n",
              "      <th>8536</th>\n",
              "      <td>1.4</td>\n",
              "      <td>0.2</td>\n",
              "      <td>92</td>\n",
              "      <td>43</td>\n",
              "      <td>9.7</td>\n",
              "      <td>97.93</td>\n",
              "      <td>RAIN</td>\n",
              "    </tr>\n",
              "    <tr>\n",
              "      <th>8537</th>\n",
              "      <td>1.3</td>\n",
              "      <td>0.2</td>\n",
              "      <td>92</td>\n",
              "      <td>46</td>\n",
              "      <td>12.9</td>\n",
              "      <td>97.76</td>\n",
              "      <td>RAIN</td>\n",
              "    </tr>\n",
              "    <tr>\n",
              "      <th>8538</th>\n",
              "      <td>1.4</td>\n",
              "      <td>0.3</td>\n",
              "      <td>92</td>\n",
              "      <td>46</td>\n",
              "      <td>25.0</td>\n",
              "      <td>97.56</td>\n",
              "      <td>RAIN</td>\n",
              "    </tr>\n",
              "    <tr>\n",
              "      <th>412</th>\n",
              "      <td>-6.1</td>\n",
              "      <td>-10.9</td>\n",
              "      <td>69</td>\n",
              "      <td>48</td>\n",
              "      <td>25.0</td>\n",
              "      <td>99.36</td>\n",
              "      <td>SNOW</td>\n",
              "    </tr>\n",
              "    <tr>\n",
              "      <th>413</th>\n",
              "      <td>-7.7</td>\n",
              "      <td>-12.4</td>\n",
              "      <td>69</td>\n",
              "      <td>46</td>\n",
              "      <td>19.3</td>\n",
              "      <td>99.70</td>\n",
              "      <td>SNOW</td>\n",
              "    </tr>\n",
              "    <tr>\n",
              "      <th>1509</th>\n",
              "      <td>2.9</td>\n",
              "      <td>-3.6</td>\n",
              "      <td>62</td>\n",
              "      <td>46</td>\n",
              "      <td>25.0</td>\n",
              "      <td>98.98</td>\n",
              "      <td>SNOW</td>\n",
              "    </tr>\n",
              "    <tr>\n",
              "      <th>1510</th>\n",
              "      <td>2.8</td>\n",
              "      <td>-3.4</td>\n",
              "      <td>64</td>\n",
              "      <td>57</td>\n",
              "      <td>25.0</td>\n",
              "      <td>99.07</td>\n",
              "      <td>SNOW</td>\n",
              "    </tr>\n",
              "    <tr>\n",
              "      <th>8669</th>\n",
              "      <td>-7.5</td>\n",
              "      <td>-9.1</td>\n",
              "      <td>88</td>\n",
              "      <td>43</td>\n",
              "      <td>1.2</td>\n",
              "      <td>100.95</td>\n",
              "      <td>SNOW</td>\n",
              "    </tr>\n",
              "    <tr>\n",
              "      <th>8671</th>\n",
              "      <td>-6.5</td>\n",
              "      <td>-7.6</td>\n",
              "      <td>92</td>\n",
              "      <td>44</td>\n",
              "      <td>1.2</td>\n",
              "      <td>100.73</td>\n",
              "      <td>SNOW</td>\n",
              "    </tr>\n",
              "    <tr>\n",
              "      <th>8677</th>\n",
              "      <td>-5.4</td>\n",
              "      <td>-6.7</td>\n",
              "      <td>91</td>\n",
              "      <td>48</td>\n",
              "      <td>0.6</td>\n",
              "      <td>100.36</td>\n",
              "      <td>SNOW</td>\n",
              "    </tr>\n",
              "    <tr>\n",
              "      <th>8678</th>\n",
              "      <td>-5.2</td>\n",
              "      <td>-6.7</td>\n",
              "      <td>89</td>\n",
              "      <td>46</td>\n",
              "      <td>0.6</td>\n",
              "      <td>100.35</td>\n",
              "      <td>SNOW</td>\n",
              "    </tr>\n",
              "  </tbody>\n",
              "</table>\n",
              "</div>"
            ],
            "text/plain": [
              "      Temp_C  Dew Point Temp_C  Rel Hum_%  Wind Speed_km/h  Visibility_km  \\\n",
              "7264    15.2               9.8         70               48           24.1   \n",
              "7271    14.1              10.0         76               54           25.0   \n",
              "7266    14.2               9.2         72               44           25.0   \n",
              "7267    14.0               9.6         75               50           25.0   \n",
              "1501     5.8              -4.0         49               50           48.3   \n",
              "676     -0.9              -7.0         63               43           25.0   \n",
              "677     -1.5              -7.8         62               43           25.0   \n",
              "1626    10.5               7.8         83               46            6.4   \n",
              "2712     1.9              -0.8         82               46           19.3   \n",
              "2716     2.0              -0.7         82               44           25.0   \n",
              "2717     1.9              -0.2         86               46            8.0   \n",
              "2718     2.1              -0.3         84               52           16.1   \n",
              "2719     2.3              -0.4         82               48           24.1   \n",
              "2720     2.8               0.3         84               48           19.3   \n",
              "2721     3.1               0.6         84               44           12.9   \n",
              "7608    14.8              10.0         73               48           25.0   \n",
              "8536     1.4               0.2         92               43            9.7   \n",
              "8537     1.3               0.2         92               46           12.9   \n",
              "8538     1.4               0.3         92               46           25.0   \n",
              "412     -6.1             -10.9         69               48           25.0   \n",
              "413     -7.7             -12.4         69               46           19.3   \n",
              "1509     2.9              -3.6         62               46           25.0   \n",
              "1510     2.8              -3.4         64               57           25.0   \n",
              "8669    -7.5              -9.1         88               43            1.2   \n",
              "8671    -6.5              -7.6         92               44            1.2   \n",
              "8677    -5.4              -6.7         91               48            0.6   \n",
              "8678    -5.2              -6.7         89               46            0.6   \n",
              "\n",
              "      Press_kPa Std_Weather  \n",
              "7264     100.04      Cloudy  \n",
              "7271      99.33      Cloudy  \n",
              "7266      99.83      Cloudy  \n",
              "7267      99.65      Cloudy  \n",
              "1501      98.73      Cloudy  \n",
              "676      100.47       Clear  \n",
              "677      100.59       Clear  \n",
              "1626      99.64        RAIN  \n",
              "2712     100.73        RAIN  \n",
              "2716      99.82        RAIN  \n",
              "2717      99.74        RAIN  \n",
              "2718      99.66        RAIN  \n",
              "2719      99.52        RAIN  \n",
              "2720      99.40        RAIN  \n",
              "2721      99.29        RAIN  \n",
              "7608     100.94        RAIN  \n",
              "8536      97.93        RAIN  \n",
              "8537      97.76        RAIN  \n",
              "8538      97.56        RAIN  \n",
              "412       99.36        SNOW  \n",
              "413       99.70        SNOW  \n",
              "1509      98.98        SNOW  \n",
              "1510      99.07        SNOW  \n",
              "8669     100.95        SNOW  \n",
              "8671     100.73        SNOW  \n",
              "8677     100.36        SNOW  \n",
              "8678     100.35        SNOW  "
            ]
          },
          "execution_count": 274,
          "metadata": {},
          "output_type": "execute_result"
        }
      ],
      "source": [
        "# Selecting rows where 'Wind Speed_km/h' values are potential outliers\n",
        "weather_df.loc[(weather_df['Wind Speed_km/h']>upper_limit) |(weather_df['Wind Speed_km/h']<lower_limit)]"
      ]
    },
    {
      "cell_type": "code",
      "execution_count": 275,
      "metadata": {
        "colab": {
          "base_uri": "https://localhost:8080/"
        },
        "id": "KP-cao8PU9Bz",
        "outputId": "b3e324f9-db83-4f1d-b23e-eecd2dd4472e"
      },
      "outputs": [
        {
          "name": "stdout",
          "output_type": "stream",
          "text": [
            "before removing outliers: 2359\n",
            "after removing outliers: 2332\n",
            " outliers: 27\n"
          ]
        }
      ],
      "source": [
        "#Trimming\n",
        "\n",
        "# Creating a new DataFrame by excluding rows with potential outliers in 'Wind Speed_km/h'\n",
        "new_weather_df=weather_df.loc[(weather_df['Wind Speed_km/h']<upper_limit) &(weather_df['Wind Speed_km/h']>lower_limit)]\n",
        "\n",
        "# Printing information about the dataset before and after removing outliers\n",
        "print('before removing outliers:',len(weather_df))\n",
        "print('after removing outliers:',len(new_weather_df))\n",
        "print(' outliers:',len(weather_df)-len(new_weather_df))"
      ]
    },
    {
      "cell_type": "code",
      "execution_count": 276,
      "metadata": {
        "colab": {
          "base_uri": "https://localhost:8080/",
          "height": 450
        },
        "id": "XvszdnzpVTbw",
        "outputId": "0e98fd44-0d2b-4857-d1e3-cf9b3d496390"
      },
      "outputs": [
        {
          "name": "stderr",
          "output_type": "stream",
          "text": [
            "c:\\Users\\DELL\\.conda\\envs\\ML3.9\\lib\\site-packages\\seaborn\\_oldcore.py:1498: FutureWarning: is_categorical_dtype is deprecated and will be removed in a future version. Use isinstance(dtype, CategoricalDtype) instead\n",
            "  if pd.api.types.is_categorical_dtype(vector):\n"
          ]
        },
        {
          "data": {
            "image/png": "[encoded data removed]",
            "text/plain": [
              "<Figure size 640x480 with 1 Axes>"
            ]
          },
          "metadata": {},
          "output_type": "display_data"
        }
      ],
      "source": [
        "# Creating a box plot for the 'Wind Speed_km/h' column after removing outliers\n",
        "if 'Wind Speed_km/h' in new_weather_df.columns:\n",
        "    sns.boxplot(x=new_weather_df['Wind Speed_km/h'])\n",
        "else:\n",
        "    print(\"Column 'Wind Speed_km/h' not found in the DataFrame.\")"
      ]
    },
    {
      "cell_type": "code",
      "execution_count": 277,
      "metadata": {
        "id": "swabdpXkVtij"
      },
      "outputs": [
        {
          "name": "stderr",
          "output_type": "stream",
          "text": [
            "C:\\Users\\DELL\\AppData\\Local\\Temp\\ipykernel_15024\\4093856608.py:7: FutureWarning: Setting an item of incompatible dtype is deprecated and will raise in a future error of pandas. Value '41.5' has dtype incompatible with int64, please explicitly cast to a compatible dtype first.\n",
            "  new_weather_df.loc[(new_weather_df['Wind Speed_km/h']>upper_limit),'Wind Speed_km/h']=upper_limit\n"
          ]
        }
      ],
      "source": [
        "# Capping\n",
        "\n",
        "# Creating a copy of the original DataFrame\n",
        "new_weather_df=weather_df.copy()\n",
        "\n",
        "# Capping values exceeding the upper limit in 'Wind Speed_km/h' with the upper limit\n",
        "new_weather_df.loc[(new_weather_df['Wind Speed_km/h']>upper_limit),'Wind Speed_km/h']=upper_limit\n",
        "\n",
        "# Flooring values below the lower limit in 'Wind Speed_km/h' with the lower limit\n",
        "new_weather_df.loc[(new_weather_df['Wind Speed_km/h']<lower_limit),'Wind Speed_km/h']=lower_limit"
      ]
    },
    {
      "cell_type": "code",
      "execution_count": 278,
      "metadata": {
        "colab": {
          "base_uri": "https://localhost:8080/",
          "height": 450
        },
        "id": "dMfrChO2VtZu",
        "outputId": "cd516375-f47c-4f14-db43-9325fb034254"
      },
      "outputs": [
        {
          "name": "stderr",
          "output_type": "stream",
          "text": [
            "c:\\Users\\DELL\\.conda\\envs\\ML3.9\\lib\\site-packages\\seaborn\\_oldcore.py:1498: FutureWarning: is_categorical_dtype is deprecated and will be removed in a future version. Use isinstance(dtype, CategoricalDtype) instead\n",
            "  if pd.api.types.is_categorical_dtype(vector):\n"
          ]
        },
        {
          "data": {
            "image/png": "[encoded data removed]",
            "text/plain": [
              "<Figure size 640x480 with 1 Axes>"
            ]
          },
          "metadata": {},
          "output_type": "display_data"
        }
      ],
      "source": [
        "# Creating a box plot for the 'Wind Speed_km/h' column after the capping\n",
        "if 'Wind Speed_km/h' in new_weather_df.columns:\n",
        "    sns.boxplot(x=new_weather_df['Wind Speed_km/h'])\n",
        "else:\n",
        "    print(\"Column 'Wind Speed_km/h' not found in the DataFrame.\")"
      ]
    },
    {
      "cell_type": "code",
      "execution_count": 279,
      "metadata": {
        "id": "BHVjNbAHV4a2"
      },
      "outputs": [],
      "source": [
        "# Calculating the first quartile (q1), third quartile (q3) and  inter quartile range (iqr) for 'Press_kPa' colum\n",
        "q1=weather_df['Press_kPa'].quantile(0.25)\n",
        "q3=weather_df['Press_kPa'].quantile(0.75)\n",
        "iqr=q3-q1"
      ]
    },
    {
      "cell_type": "code",
      "execution_count": 280,
      "metadata": {
        "colab": {
          "base_uri": "https://localhost:8080/"
        },
        "id": "453Egx6-V4S2",
        "outputId": "0fc66dec-aed0-48ed-9f3d-6cdf048b2e16"
      },
      "outputs": [
        {
          "data": {
            "text/plain": [
              "(100.29, 101.41, 1.1199999999999903)"
            ]
          },
          "execution_count": 280,
          "metadata": {},
          "output_type": "execute_result"
        }
      ],
      "source": [
        "# Displaying the values of q1, q3 and iqr\n",
        "q1,q3,iqr"
      ]
    },
    {
      "cell_type": "code",
      "execution_count": 281,
      "metadata": {
        "colab": {
          "base_uri": "https://localhost:8080/"
        },
        "id": "gKit47f8V4FA",
        "outputId": "f903c368-f9ca-41f0-c4a0-3580dfc2331f"
      },
      "outputs": [
        {
          "data": {
            "text/plain": [
              "(98.61000000000001, 103.08999999999997)"
            ]
          },
          "execution_count": 281,
          "metadata": {},
          "output_type": "execute_result"
        }
      ],
      "source": [
        "# Calculating and displaying the upper and limit for potential outliers\n",
        "upper_limit=q3+(1.5*iqr)\n",
        "lower_limit=q1-(1.5*iqr)\n",
        "lower_limit,upper_limit"
      ]
    },
    {
      "cell_type": "code",
      "execution_count": 282,
      "metadata": {
        "colab": {
          "base_uri": "https://localhost:8080/",
          "height": 450
        },
        "id": "rvWE-VzdV39U",
        "outputId": "52a218da-56ae-47e4-e25e-c941fb078284"
      },
      "outputs": [
        {
          "name": "stderr",
          "output_type": "stream",
          "text": [
            "c:\\Users\\DELL\\.conda\\envs\\ML3.9\\lib\\site-packages\\seaborn\\_oldcore.py:1498: FutureWarning: is_categorical_dtype is deprecated and will be removed in a future version. Use isinstance(dtype, CategoricalDtype) instead\n",
            "  if pd.api.types.is_categorical_dtype(vector):\n"
          ]
        },
        {
          "data": {
            "image/png": "[encoded data removed]",
            "text/plain": [
              "<Figure size 640x480 with 1 Axes>"
            ]
          },
          "metadata": {},
          "output_type": "display_data"
        }
      ],
      "source": [
        "# Creating a box plot for the 'Press_kPa' column\n",
        "if 'Press_kPa' in weather_df.columns:\n",
        "    sns.boxplot(x=weather_df['Press_kPa'])\n",
        "else:\n",
        "    print(\"Column 'Press_kPa' not found in the DataFrame.\")"
      ]
    },
    {
      "cell_type": "code",
      "execution_count": 283,
      "metadata": {
        "colab": {
          "base_uri": "https://localhost:8080/",
          "height": 478
        },
        "id": "Wm7g6qZhV30n",
        "outputId": "427ff8e6-5f6e-4daa-8a2f-db872ea7ca43"
      },
      "outputs": [
        {
          "data": {
            "text/html": [
              "<div>\n",
              "<style scoped>\n",
              "    .dataframe tbody tr th:only-of-type {\n",
              "        vertical-align: middle;\n",
              "    }\n",
              "\n",
              "    .dataframe tbody tr th {\n",
              "        vertical-align: top;\n",
              "    }\n",
              "\n",
              "    .dataframe thead th {\n",
              "        text-align: right;\n",
              "    }\n",
              "</style>\n",
              "<table border=\"1\" class=\"dataframe\">\n",
              "  <thead>\n",
              "    <tr style=\"text-align: right;\">\n",
              "      <th></th>\n",
              "      <th>Temp_C</th>\n",
              "      <th>Dew Point Temp_C</th>\n",
              "      <th>Rel Hum_%</th>\n",
              "      <th>Wind Speed_km/h</th>\n",
              "      <th>Visibility_km</th>\n",
              "      <th>Press_kPa</th>\n",
              "      <th>Std_Weather</th>\n",
              "    </tr>\n",
              "  </thead>\n",
              "  <tbody>\n",
              "    <tr>\n",
              "      <th>2739</th>\n",
              "      <td>7.0</td>\n",
              "      <td>5.5</td>\n",
              "      <td>90</td>\n",
              "      <td>15</td>\n",
              "      <td>12.9</td>\n",
              "      <td>98.53</td>\n",
              "      <td>Cloudy</td>\n",
              "    </tr>\n",
              "    <tr>\n",
              "      <th>2734</th>\n",
              "      <td>5.5</td>\n",
              "      <td>3.7</td>\n",
              "      <td>88</td>\n",
              "      <td>19</td>\n",
              "      <td>25.0</td>\n",
              "      <td>98.58</td>\n",
              "      <td>Cloudy</td>\n",
              "    </tr>\n",
              "    <tr>\n",
              "      <th>8046</th>\n",
              "      <td>-11.8</td>\n",
              "      <td>-15.0</td>\n",
              "      <td>77</td>\n",
              "      <td>26</td>\n",
              "      <td>25.0</td>\n",
              "      <td>103.18</td>\n",
              "      <td>Cloudy</td>\n",
              "    </tr>\n",
              "    <tr>\n",
              "      <th>8035</th>\n",
              "      <td>-9.7</td>\n",
              "      <td>-15.8</td>\n",
              "      <td>61</td>\n",
              "      <td>15</td>\n",
              "      <td>25.0</td>\n",
              "      <td>103.24</td>\n",
              "      <td>Cloudy</td>\n",
              "    </tr>\n",
              "    <tr>\n",
              "      <th>2741</th>\n",
              "      <td>7.1</td>\n",
              "      <td>3.1</td>\n",
              "      <td>76</td>\n",
              "      <td>19</td>\n",
              "      <td>24.1</td>\n",
              "      <td>98.47</td>\n",
              "      <td>Cloudy</td>\n",
              "    </tr>\n",
              "    <tr>\n",
              "      <th>...</th>\n",
              "      <td>...</td>\n",
              "      <td>...</td>\n",
              "      <td>...</td>\n",
              "      <td>...</td>\n",
              "      <td>...</td>\n",
              "      <td>...</td>\n",
              "      <td>...</td>\n",
              "    </tr>\n",
              "    <tr>\n",
              "      <th>8549</th>\n",
              "      <td>-0.9</td>\n",
              "      <td>-1.9</td>\n",
              "      <td>93</td>\n",
              "      <td>35</td>\n",
              "      <td>4.8</td>\n",
              "      <td>98.07</td>\n",
              "      <td>SNOW</td>\n",
              "    </tr>\n",
              "    <tr>\n",
              "      <th>8550</th>\n",
              "      <td>-1.6</td>\n",
              "      <td>-3.0</td>\n",
              "      <td>90</td>\n",
              "      <td>41</td>\n",
              "      <td>4.0</td>\n",
              "      <td>98.19</td>\n",
              "      <td>SNOW</td>\n",
              "    </tr>\n",
              "    <tr>\n",
              "      <th>8551</th>\n",
              "      <td>-2.2</td>\n",
              "      <td>-3.7</td>\n",
              "      <td>89</td>\n",
              "      <td>35</td>\n",
              "      <td>4.8</td>\n",
              "      <td>98.32</td>\n",
              "      <td>SNOW</td>\n",
              "    </tr>\n",
              "    <tr>\n",
              "      <th>8552</th>\n",
              "      <td>-2.5</td>\n",
              "      <td>-4.5</td>\n",
              "      <td>86</td>\n",
              "      <td>41</td>\n",
              "      <td>4.0</td>\n",
              "      <td>98.44</td>\n",
              "      <td>SNOW</td>\n",
              "    </tr>\n",
              "    <tr>\n",
              "      <th>8553</th>\n",
              "      <td>-3.0</td>\n",
              "      <td>-5.0</td>\n",
              "      <td>86</td>\n",
              "      <td>35</td>\n",
              "      <td>3.2</td>\n",
              "      <td>98.58</td>\n",
              "      <td>SNOW</td>\n",
              "    </tr>\n",
              "  </tbody>\n",
              "</table>\n",
              "<p>69 rows × 7 columns</p>\n",
              "</div>"
            ],
            "text/plain": [
              "      Temp_C  Dew Point Temp_C  Rel Hum_%  Wind Speed_km/h  Visibility_km  \\\n",
              "2739     7.0               5.5         90               15           12.9   \n",
              "2734     5.5               3.7         88               19           25.0   \n",
              "8046   -11.8             -15.0         77               26           25.0   \n",
              "8035    -9.7             -15.8         61               15           25.0   \n",
              "2741     7.1               3.1         76               19           24.1   \n",
              "...      ...               ...        ...              ...            ...   \n",
              "8549    -0.9              -1.9         93               35            4.8   \n",
              "8550    -1.6              -3.0         90               41            4.0   \n",
              "8551    -2.2              -3.7         89               35            4.8   \n",
              "8552    -2.5              -4.5         86               41            4.0   \n",
              "8553    -3.0              -5.0         86               35            3.2   \n",
              "\n",
              "      Press_kPa Std_Weather  \n",
              "2739      98.53      Cloudy  \n",
              "2734      98.58      Cloudy  \n",
              "8046     103.18      Cloudy  \n",
              "8035     103.24      Cloudy  \n",
              "2741      98.47      Cloudy  \n",
              "...         ...         ...  \n",
              "8549      98.07        SNOW  \n",
              "8550      98.19        SNOW  \n",
              "8551      98.32        SNOW  \n",
              "8552      98.44        SNOW  \n",
              "8553      98.58        SNOW  \n",
              "\n",
              "[69 rows x 7 columns]"
            ]
          },
          "execution_count": 283,
          "metadata": {},
          "output_type": "execute_result"
        }
      ],
      "source": [
        "# Selecting rows where 'Press_kPa' values are potential outliers\n",
        "weather_df.loc[(weather_df['Press_kPa']>upper_limit) |(weather_df['Press_kPa']<lower_limit)]"
      ]
    },
    {
      "cell_type": "code",
      "execution_count": 284,
      "metadata": {
        "colab": {
          "base_uri": "https://localhost:8080/"
        },
        "id": "9PL8mJhHWPVE",
        "outputId": "eca655bb-4a9f-421a-feb2-43cbfe874cb8"
      },
      "outputs": [
        {
          "name": "stdout",
          "output_type": "stream",
          "text": [
            "before removing outliers: 2359\n",
            "after removing outliers: 2290\n",
            " outliers: 69\n"
          ]
        }
      ],
      "source": [
        "#Trimming\n",
        "\n",
        "# Creating a new DataFrame by excluding rows with potential outliers in 'Press_kPa'\n",
        "new_weather_df=weather_df.loc[(weather_df['Press_kPa']<upper_limit) &(weather_df['Press_kPa']>lower_limit)]\n",
        "\n",
        "# Printing information about the dataset before and after removing outliers\n",
        "print('before removing outliers:',len(weather_df))\n",
        "print('after removing outliers:',len(new_weather_df))\n",
        "print(' outliers:',len(weather_df)-len(new_weather_df))"
      ]
    },
    {
      "cell_type": "code",
      "execution_count": 285,
      "metadata": {
        "colab": {
          "base_uri": "https://localhost:8080/",
          "height": 450
        },
        "id": "Ag59yjt7WPMc",
        "outputId": "47084703-2013-4b58-f178-3e8e914b2f45"
      },
      "outputs": [
        {
          "name": "stderr",
          "output_type": "stream",
          "text": [
            "c:\\Users\\DELL\\.conda\\envs\\ML3.9\\lib\\site-packages\\seaborn\\_oldcore.py:1498: FutureWarning: is_categorical_dtype is deprecated and will be removed in a future version. Use isinstance(dtype, CategoricalDtype) instead\n",
            "  if pd.api.types.is_categorical_dtype(vector):\n"
          ]
        },
        {
          "data": {
            "image/png": "[encoded data removed]",
            "text/plain": [
              "<Figure size 640x480 with 1 Axes>"
            ]
          },
          "metadata": {},
          "output_type": "display_data"
        }
      ],
      "source": [
        "# Creating a box plot for the 'Press_kPa' column after removing outliers\n",
        "if 'Press_kPa' in new_weather_df.columns:\n",
        "    sns.boxplot(x=new_weather_df['Press_kPa'])\n",
        "else:\n",
        "    print(\"Column 'Press_kPa' not found in the DataFrame.\")"
      ]
    },
    {
      "cell_type": "code",
      "execution_count": 286,
      "metadata": {
        "id": "CBlpYf3gWO8c"
      },
      "outputs": [],
      "source": [
        "# Capping\n",
        "\n",
        "# Creating a copy of the original DataFrame\n",
        "new_weather_df=weather_df.copy()\n",
        "\n",
        "# Capping values exceeding the upper limit in 'Press_kPa' with the upper limit\n",
        "new_weather_df.loc[(new_weather_df['Press_kPa']>upper_limit),'Press_kPa']=upper_limit\n",
        "\n",
        "# Flooring values below the lower limit in 'Press_kPa' with the lower limit\n",
        "new_weather_df.loc[(new_weather_df['Press_kPa']<lower_limit),'Press_kPa']=lower_limit"
      ]
    },
    {
      "cell_type": "code",
      "execution_count": 287,
      "metadata": {
        "colab": {
          "base_uri": "https://localhost:8080/",
          "height": 450
        },
        "id": "ONH_F8V-Wa35",
        "outputId": "3bc36901-2d33-42f8-bc66-ae5cb4e56045"
      },
      "outputs": [
        {
          "name": "stderr",
          "output_type": "stream",
          "text": [
            "c:\\Users\\DELL\\.conda\\envs\\ML3.9\\lib\\site-packages\\seaborn\\_oldcore.py:1498: FutureWarning: is_categorical_dtype is deprecated and will be removed in a future version. Use isinstance(dtype, CategoricalDtype) instead\n",
            "  if pd.api.types.is_categorical_dtype(vector):\n"
          ]
        },
        {
          "data": {
            "image/png": "[encoded data removed]",
            "text/plain": [
              "<Figure size 640x480 with 1 Axes>"
            ]
          },
          "metadata": {},
          "output_type": "display_data"
        }
      ],
      "source": [
        "# Creating a box plot for the 'Press_kPa' column after the capping\n",
        "if 'Press_kPa' in new_weather_df.columns:\n",
        "    sns.boxplot(x=new_weather_df['Press_kPa'])\n",
        "else:\n",
        "    print(\"Column 'Press_kPa' not found in the DataFrame.\")"
      ]
    },
    {
      "cell_type": "code",
      "execution_count": 288,
      "metadata": {
        "colab": {
          "base_uri": "https://localhost:8080/",
          "height": 261
        },
        "id": "PADJ45mSscnG",
        "outputId": "ee1b6dcf-142a-438a-887a-9065fd404c57"
      },
      "outputs": [
        {
          "data": {
            "text/html": [
              "<div>\n",
              "<style scoped>\n",
              "    .dataframe tbody tr th:only-of-type {\n",
              "        vertical-align: middle;\n",
              "    }\n",
              "\n",
              "    .dataframe tbody tr th {\n",
              "        vertical-align: top;\n",
              "    }\n",
              "\n",
              "    .dataframe thead th {\n",
              "        text-align: right;\n",
              "    }\n",
              "</style>\n",
              "<table border=\"1\" class=\"dataframe\">\n",
              "  <thead>\n",
              "    <tr style=\"text-align: right;\">\n",
              "      <th></th>\n",
              "      <th>Temp_C</th>\n",
              "      <th>Dew Point Temp_C</th>\n",
              "      <th>Rel Hum_%</th>\n",
              "      <th>Wind Speed_km/h</th>\n",
              "      <th>Visibility_km</th>\n",
              "      <th>Press_kPa</th>\n",
              "      <th>Std_Weather</th>\n",
              "    </tr>\n",
              "  </thead>\n",
              "  <tbody>\n",
              "    <tr>\n",
              "      <th>3603</th>\n",
              "      <td>17.6</td>\n",
              "      <td>9.8</td>\n",
              "      <td>60</td>\n",
              "      <td>19</td>\n",
              "      <td>25.0</td>\n",
              "      <td>99.91</td>\n",
              "      <td>Cloudy</td>\n",
              "    </tr>\n",
              "    <tr>\n",
              "      <th>993</th>\n",
              "      <td>-13.7</td>\n",
              "      <td>-19.1</td>\n",
              "      <td>64</td>\n",
              "      <td>20</td>\n",
              "      <td>24.1</td>\n",
              "      <td>101.04</td>\n",
              "      <td>Cloudy</td>\n",
              "    </tr>\n",
              "    <tr>\n",
              "      <th>5941</th>\n",
              "      <td>25.2</td>\n",
              "      <td>17.8</td>\n",
              "      <td>64</td>\n",
              "      <td>9</td>\n",
              "      <td>24.1</td>\n",
              "      <td>100.89</td>\n",
              "      <td>Cloudy</td>\n",
              "    </tr>\n",
              "    <tr>\n",
              "      <th>6975</th>\n",
              "      <td>12.5</td>\n",
              "      <td>2.9</td>\n",
              "      <td>52</td>\n",
              "      <td>4</td>\n",
              "      <td>48.3</td>\n",
              "      <td>100.86</td>\n",
              "      <td>Cloudy</td>\n",
              "    </tr>\n",
              "    <tr>\n",
              "      <th>206</th>\n",
              "      <td>-1.4</td>\n",
              "      <td>-5.1</td>\n",
              "      <td>76</td>\n",
              "      <td>7</td>\n",
              "      <td>24.1</td>\n",
              "      <td>101.20</td>\n",
              "      <td>Cloudy</td>\n",
              "    </tr>\n",
              "  </tbody>\n",
              "</table>\n",
              "</div>"
            ],
            "text/plain": [
              "      Temp_C  Dew Point Temp_C  Rel Hum_%  Wind Speed_km/h  Visibility_km  \\\n",
              "3603    17.6               9.8         60               19           25.0   \n",
              "993    -13.7             -19.1         64               20           24.1   \n",
              "5941    25.2              17.8         64                9           24.1   \n",
              "6975    12.5               2.9         52                4           48.3   \n",
              "206     -1.4              -5.1         76                7           24.1   \n",
              "\n",
              "      Press_kPa Std_Weather  \n",
              "3603      99.91      Cloudy  \n",
              "993      101.04      Cloudy  \n",
              "5941     100.89      Cloudy  \n",
              "6975     100.86      Cloudy  \n",
              "206      101.20      Cloudy  "
            ]
          },
          "execution_count": 288,
          "metadata": {},
          "output_type": "execute_result"
        }
      ],
      "source": [
        "# Displaying the first few rows of the modified 'new_weather_df' DataFrame after removing all outliers\n",
        "new_weather_df.head()"
      ]
    },
    {
      "cell_type": "markdown",
      "metadata": {
        "id": "Ho3MWmZLslo2"
      },
      "source": [
        "## Label Encoding"
      ]
    },
    {
      "cell_type": "markdown",
      "metadata": {
        "id": "fXmIsXqMs2uL"
      },
      "source": [
        "### Converting target variable into numeric values"
      ]
    },
    {
      "cell_type": "code",
      "execution_count": 289,
      "metadata": {
        "id": "Uzj5QTt6s-oa"
      },
      "outputs": [
        {
          "data": {
            "text/plain": [
              "array(['Clear', 'Cloudy', 'RAIN', 'SNOW'], dtype=object)"
            ]
          },
          "execution_count": 289,
          "metadata": {},
          "output_type": "execute_result"
        }
      ],
      "source": [
        "# Importing LabelEncoder from scikit-learn\n",
        "from sklearn.preprocessing import LabelEncoder\n",
        "\n",
        "# Creating a LabelEncoder instance\n",
        "label_Encoder=LabelEncoder()\n",
        "\n",
        "# Encoding the 'Std_Weather' column in the 'new_weather_df' DataFrame\n",
        "new_weather_df['Std_Weather']=label_Encoder.fit_transform(new_weather_df['Std_Weather'])\n",
        "\n",
        "# Obtaining the mapping between original categorical values and numerical labels\n",
        "label_Encoder.classes_"
      ]
    },
    {
      "cell_type": "code",
      "execution_count": 290,
      "metadata": {
        "colab": {
          "base_uri": "https://localhost:8080/",
          "height": 261
        },
        "id": "PKDQae_4tGU0",
        "outputId": "c0fda8be-35e6-4ce3-8923-af1bf6711e31"
      },
      "outputs": [
        {
          "data": {
            "text/html": [
              "<div>\n",
              "<style scoped>\n",
              "    .dataframe tbody tr th:only-of-type {\n",
              "        vertical-align: middle;\n",
              "    }\n",
              "\n",
              "    .dataframe tbody tr th {\n",
              "        vertical-align: top;\n",
              "    }\n",
              "\n",
              "    .dataframe thead th {\n",
              "        text-align: right;\n",
              "    }\n",
              "</style>\n",
              "<table border=\"1\" class=\"dataframe\">\n",
              "  <thead>\n",
              "    <tr style=\"text-align: right;\">\n",
              "      <th></th>\n",
              "      <th>Temp_C</th>\n",
              "      <th>Dew Point Temp_C</th>\n",
              "      <th>Rel Hum_%</th>\n",
              "      <th>Wind Speed_km/h</th>\n",
              "      <th>Visibility_km</th>\n",
              "      <th>Press_kPa</th>\n",
              "      <th>Std_Weather</th>\n",
              "    </tr>\n",
              "  </thead>\n",
              "  <tbody>\n",
              "    <tr>\n",
              "      <th>3603</th>\n",
              "      <td>17.6</td>\n",
              "      <td>9.8</td>\n",
              "      <td>60</td>\n",
              "      <td>19</td>\n",
              "      <td>25.0</td>\n",
              "      <td>99.91</td>\n",
              "      <td>1</td>\n",
              "    </tr>\n",
              "    <tr>\n",
              "      <th>993</th>\n",
              "      <td>-13.7</td>\n",
              "      <td>-19.1</td>\n",
              "      <td>64</td>\n",
              "      <td>20</td>\n",
              "      <td>24.1</td>\n",
              "      <td>101.04</td>\n",
              "      <td>1</td>\n",
              "    </tr>\n",
              "    <tr>\n",
              "      <th>5941</th>\n",
              "      <td>25.2</td>\n",
              "      <td>17.8</td>\n",
              "      <td>64</td>\n",
              "      <td>9</td>\n",
              "      <td>24.1</td>\n",
              "      <td>100.89</td>\n",
              "      <td>1</td>\n",
              "    </tr>\n",
              "    <tr>\n",
              "      <th>6975</th>\n",
              "      <td>12.5</td>\n",
              "      <td>2.9</td>\n",
              "      <td>52</td>\n",
              "      <td>4</td>\n",
              "      <td>48.3</td>\n",
              "      <td>100.86</td>\n",
              "      <td>1</td>\n",
              "    </tr>\n",
              "    <tr>\n",
              "      <th>206</th>\n",
              "      <td>-1.4</td>\n",
              "      <td>-5.1</td>\n",
              "      <td>76</td>\n",
              "      <td>7</td>\n",
              "      <td>24.1</td>\n",
              "      <td>101.20</td>\n",
              "      <td>1</td>\n",
              "    </tr>\n",
              "  </tbody>\n",
              "</table>\n",
              "</div>"
            ],
            "text/plain": [
              "      Temp_C  Dew Point Temp_C  Rel Hum_%  Wind Speed_km/h  Visibility_km  \\\n",
              "3603    17.6               9.8         60               19           25.0   \n",
              "993    -13.7             -19.1         64               20           24.1   \n",
              "5941    25.2              17.8         64                9           24.1   \n",
              "6975    12.5               2.9         52                4           48.3   \n",
              "206     -1.4              -5.1         76                7           24.1   \n",
              "\n",
              "      Press_kPa  Std_Weather  \n",
              "3603      99.91            1  \n",
              "993      101.04            1  \n",
              "5941     100.89            1  \n",
              "6975     100.86            1  \n",
              "206      101.20            1  "
            ]
          },
          "execution_count": 290,
          "metadata": {},
          "output_type": "execute_result"
        }
      ],
      "source": [
        "# Displaying the first few rows of the modified 'new_weather_df' DataFrame after the Encoding\n",
        "new_weather_df.head\t()"
      ]
    },
    {
      "cell_type": "code",
      "execution_count": 291,
      "metadata": {
        "colab": {
          "base_uri": "https://localhost:8080/"
        },
        "id": "wcQ4Y3yQtH-G",
        "outputId": "d16ee91d-7e36-4b55-f3ed-ef370ea8087c"
      },
      "outputs": [
        {
          "data": {
            "text/plain": [
              "Std_Weather\n",
              "2    603\n",
              "1    600\n",
              "0    600\n",
              "3    556\n",
              "Name: count, dtype: int64"
            ]
          },
          "execution_count": 291,
          "metadata": {},
          "output_type": "execute_result"
        }
      ],
      "source": [
        "# Displaying the count of each unique value in the 'Std_Weather' column of the 'new_weather_df' DataFrame after the Encoding\n",
        "new_weather_df.Std_Weather.value_counts()"
      ]
    },
    {
      "cell_type": "markdown",
      "metadata": {
        "id": "hYpAK3LltSid"
      },
      "source": [
        "### X,Y Variables"
      ]
    },
    {
      "cell_type": "code",
      "execution_count": 292,
      "metadata": {
        "colab": {
          "base_uri": "https://localhost:8080/",
          "height": 441
        },
        "id": "qUFmroBetbJL",
        "outputId": "5784ab41-1712-4665-c126-c9a2e91fe0b8"
      },
      "outputs": [
        {
          "data": {
            "text/html": [
              "<div>\n",
              "<style scoped>\n",
              "    .dataframe tbody tr th:only-of-type {\n",
              "        vertical-align: middle;\n",
              "    }\n",
              "\n",
              "    .dataframe tbody tr th {\n",
              "        vertical-align: top;\n",
              "    }\n",
              "\n",
              "    .dataframe thead th {\n",
              "        text-align: right;\n",
              "    }\n",
              "</style>\n",
              "<table border=\"1\" class=\"dataframe\">\n",
              "  <thead>\n",
              "    <tr style=\"text-align: right;\">\n",
              "      <th></th>\n",
              "      <th>Temp_C</th>\n",
              "      <th>Dew Point Temp_C</th>\n",
              "      <th>Rel Hum_%</th>\n",
              "      <th>Wind Speed_km/h</th>\n",
              "      <th>Visibility_km</th>\n",
              "      <th>Press_kPa</th>\n",
              "    </tr>\n",
              "  </thead>\n",
              "  <tbody>\n",
              "    <tr>\n",
              "      <th>3603</th>\n",
              "      <td>17.6</td>\n",
              "      <td>9.8</td>\n",
              "      <td>60</td>\n",
              "      <td>19</td>\n",
              "      <td>25.0</td>\n",
              "      <td>99.91</td>\n",
              "    </tr>\n",
              "    <tr>\n",
              "      <th>993</th>\n",
              "      <td>-13.7</td>\n",
              "      <td>-19.1</td>\n",
              "      <td>64</td>\n",
              "      <td>20</td>\n",
              "      <td>24.1</td>\n",
              "      <td>101.04</td>\n",
              "    </tr>\n",
              "    <tr>\n",
              "      <th>5941</th>\n",
              "      <td>25.2</td>\n",
              "      <td>17.8</td>\n",
              "      <td>64</td>\n",
              "      <td>9</td>\n",
              "      <td>24.1</td>\n",
              "      <td>100.89</td>\n",
              "    </tr>\n",
              "    <tr>\n",
              "      <th>6975</th>\n",
              "      <td>12.5</td>\n",
              "      <td>2.9</td>\n",
              "      <td>52</td>\n",
              "      <td>4</td>\n",
              "      <td>48.3</td>\n",
              "      <td>100.86</td>\n",
              "    </tr>\n",
              "    <tr>\n",
              "      <th>206</th>\n",
              "      <td>-1.4</td>\n",
              "      <td>-5.1</td>\n",
              "      <td>76</td>\n",
              "      <td>7</td>\n",
              "      <td>24.1</td>\n",
              "      <td>101.20</td>\n",
              "    </tr>\n",
              "    <tr>\n",
              "      <th>...</th>\n",
              "      <td>...</td>\n",
              "      <td>...</td>\n",
              "      <td>...</td>\n",
              "      <td>...</td>\n",
              "      <td>...</td>\n",
              "      <td>...</td>\n",
              "    </tr>\n",
              "    <tr>\n",
              "      <th>8779</th>\n",
              "      <td>0.1</td>\n",
              "      <td>-2.7</td>\n",
              "      <td>81</td>\n",
              "      <td>30</td>\n",
              "      <td>9.7</td>\n",
              "      <td>100.13</td>\n",
              "    </tr>\n",
              "    <tr>\n",
              "      <th>8780</th>\n",
              "      <td>0.2</td>\n",
              "      <td>-2.4</td>\n",
              "      <td>83</td>\n",
              "      <td>24</td>\n",
              "      <td>9.7</td>\n",
              "      <td>100.03</td>\n",
              "    </tr>\n",
              "    <tr>\n",
              "      <th>8781</th>\n",
              "      <td>-0.5</td>\n",
              "      <td>-1.5</td>\n",
              "      <td>93</td>\n",
              "      <td>28</td>\n",
              "      <td>4.8</td>\n",
              "      <td>99.95</td>\n",
              "    </tr>\n",
              "    <tr>\n",
              "      <th>8782</th>\n",
              "      <td>-0.2</td>\n",
              "      <td>-1.8</td>\n",
              "      <td>89</td>\n",
              "      <td>28</td>\n",
              "      <td>9.7</td>\n",
              "      <td>99.91</td>\n",
              "    </tr>\n",
              "    <tr>\n",
              "      <th>8783</th>\n",
              "      <td>0.0</td>\n",
              "      <td>-2.1</td>\n",
              "      <td>86</td>\n",
              "      <td>30</td>\n",
              "      <td>11.3</td>\n",
              "      <td>99.89</td>\n",
              "    </tr>\n",
              "  </tbody>\n",
              "</table>\n",
              "<p>2359 rows × 6 columns</p>\n",
              "</div>"
            ],
            "text/plain": [
              "      Temp_C  Dew Point Temp_C  Rel Hum_%  Wind Speed_km/h  Visibility_km  \\\n",
              "3603    17.6               9.8         60               19           25.0   \n",
              "993    -13.7             -19.1         64               20           24.1   \n",
              "5941    25.2              17.8         64                9           24.1   \n",
              "6975    12.5               2.9         52                4           48.3   \n",
              "206     -1.4              -5.1         76                7           24.1   \n",
              "...      ...               ...        ...              ...            ...   \n",
              "8779     0.1              -2.7         81               30            9.7   \n",
              "8780     0.2              -2.4         83               24            9.7   \n",
              "8781    -0.5              -1.5         93               28            4.8   \n",
              "8782    -0.2              -1.8         89               28            9.7   \n",
              "8783     0.0              -2.1         86               30           11.3   \n",
              "\n",
              "      Press_kPa  \n",
              "3603      99.91  \n",
              "993      101.04  \n",
              "5941     100.89  \n",
              "6975     100.86  \n",
              "206      101.20  \n",
              "...         ...  \n",
              "8779     100.13  \n",
              "8780     100.03  \n",
              "8781      99.95  \n",
              "8782      99.91  \n",
              "8783      99.89  \n",
              "\n",
              "[2359 rows x 6 columns]"
            ]
          },
          "execution_count": 292,
          "metadata": {},
          "output_type": "execute_result"
        }
      ],
      "source": [
        "# Creating a new DataFrame 'X' by dropping the 'Std_Weather' column\n",
        "X=new_weather_df.drop(['Std_Weather'],axis=1)\n",
        "X"
      ]
    },
    {
      "cell_type": "code",
      "execution_count": 293,
      "metadata": {
        "colab": {
          "base_uri": "https://localhost:8080/"
        },
        "id": "9K5nm16UtdUd",
        "outputId": "85c40dab-cbbc-43b4-c774-dab9f42ac5ea"
      },
      "outputs": [
        {
          "data": {
            "text/plain": [
              "3603    1\n",
              "993     1\n",
              "5941    1\n",
              "6975    1\n",
              "206     1\n",
              "       ..\n",
              "8779    3\n",
              "8780    3\n",
              "8781    3\n",
              "8782    3\n",
              "8783    3\n",
              "Name: Std_Weather, Length: 2359, dtype: int32"
            ]
          },
          "execution_count": 293,
          "metadata": {},
          "output_type": "execute_result"
        }
      ],
      "source": [
        "# Creating a new Series 'Y' by selecting the 'Std_Weather' column\n",
        "Y=new_weather_df['Std_Weather']\n",
        "Y"
      ]
    },
    {
      "cell_type": "markdown",
      "metadata": {
        "id": "iqL-2A8zth3V"
      },
      "source": [
        "### Feature Scaling"
      ]
    },
    {
      "cell_type": "code",
      "execution_count": 294,
      "metadata": {
        "id": "pTbvqYQQtsmz"
      },
      "outputs": [
        {
          "data": {
            "text/plain": [
              "array([[ 0.96923696,  0.79255545, -0.75397921,  0.25676207,  0.13952096,\n",
              "        -1.00621067],\n",
              "       [-1.78204549, -1.95114658, -0.50574824,  0.36603534,  0.06886695,\n",
              "         0.25838761],\n",
              "       [ 1.63727998,  1.55205774, -0.50574824, -0.83597062,  0.06886695,\n",
              "         0.09052058],\n",
              "       ...,\n",
              "       [-0.62176024, -0.28024154,  1.29392629,  1.2402215 , -1.44626908,\n",
              "        -0.96144613],\n",
              "       [-0.59539012, -0.30872287,  1.04569532,  1.2402215 , -1.06159724,\n",
              "        -1.00621067],\n",
              "       [-0.57781004, -0.33720421,  0.85952209,  1.45876804, -0.93599011,\n",
              "        -1.02859294]])"
            ]
          },
          "execution_count": 294,
          "metadata": {},
          "output_type": "execute_result"
        }
      ],
      "source": [
        "# Importing StandardScaler from scikit-learn\n",
        "from sklearn.preprocessing import StandardScaler\n",
        "\n",
        "# Creating a StandardScaler instance\n",
        "std_scaler=StandardScaler()\n",
        "\n",
        "# Standardizing the features in the DataFrame 'X'\n",
        "X_std=std_scaler.fit_transform(X)\n",
        "X_std"
      ]
    },
    {
      "cell_type": "markdown",
      "metadata": {
        "id": "VnZgiuIHt2kd"
      },
      "source": [
        "### Splitting Data into training and testing"
      ]
    },
    {
      "cell_type": "code",
      "execution_count": 295,
      "metadata": {
        "id": "U1jseCzVt7KC"
      },
      "outputs": [
        {
          "data": {
            "text/plain": [
              "((1651, 6), (708, 6))"
            ]
          },
          "execution_count": 295,
          "metadata": {},
          "output_type": "execute_result"
        }
      ],
      "source": [
        "# Importing train_test_split from scikit-learn\n",
        "from sklearn.model_selection import train_test_split\n",
        "\n",
        "# Splitting the data into training and testing sets\n",
        "x_train,x_test,y_train,y_test=train_test_split(X_std,Y,test_size=0.3,random_state=3)\n",
        "\n",
        "# Displaying the shapes of the training and testing sets\n",
        "x_train.shape,x_test.shape"
      ]
    },
    {
      "cell_type": "markdown",
      "metadata": {
        "id": "YLcTxOuwZK6l"
      },
      "source": [
        "## **Logistic Regression**"
      ]
    },
    {
      "cell_type": "markdown",
      "metadata": {
        "id": "LIQuX2v5u-V9"
      },
      "source": [
        "### Building Logistic Regression Model"
      ]
    },
    {
      "cell_type": "code",
      "execution_count": 296,
      "metadata": {
        "colab": {
          "base_uri": "https://localhost:8080/"
        },
        "id": "eVlVzPp51-rG",
        "outputId": "841cb0fe-057e-4571-9ef3-25b914768cfd"
      },
      "outputs": [
        {
          "name": "stdout",
          "output_type": "stream",
          "text": [
            "Cross-validated accuracies: [0.65060241 0.58181818 0.64242424 0.55757576 0.59393939 0.56969697\n",
            " 0.61818182 0.66666667 0.63636364 0.65454545]\n",
            "Average accuracy: 0.6171814530850674\n",
            "Average std: 0.03683251277389195\n",
            "Test accuracy: 0.6242937853107344\n"
          ]
        }
      ],
      "source": [
        "# Importing cross_val_score and LogisticRegression from scikit-learn\n",
        "from sklearn.model_selection import cross_val_score\n",
        "from sklearn.linear_model import LogisticRegression\n",
        "\n",
        "\n",
        "# Create a logistic regression model\n",
        "# Creating an instance of Logistic Regression\n",
        "logreg = LogisticRegression()\n",
        "\n",
        "# Performing cross-validation and obtaining the accuracies\n",
        "accuracies = cross_val_score(estimator=logreg, X=x_train, y=y_train, cv=10)\n",
        "print(\"Cross-validated accuracies:\", accuracies)\n",
        "\n",
        "# Calculate and print the average accuracy and standard deviation\n",
        "print(\"Average accuracy:\", np.mean(accuracies))\n",
        "print(\"Average std:\", np.std(accuracies))\n",
        "\n",
        "# Fit the logistic regression model on the training data\n",
        "logreg.fit(x_train, y_train)\n",
        "\n",
        "# Print the test accuracy\n",
        "test_accuracy = logreg.score(x_test, y_test)\n",
        "print(\"Test accuracy:\", test_accuracy)\n"
      ]
    }
  ],
  "metadata": {
    "colab": {
      "provenance": []
    },
    "kernelspec": {
      "display_name": "Python 3",
      "name": "python3"
    },
    "language_info": {
      "codemirror_mode": {
        "name": "ipython",
        "version": 3
      },
      "file_extension": ".py",
      "mimetype": "text/x-python",
      "name": "python",
      "nbconvert_exporter": "python",
      "pygments_lexer": "ipython3",
      "version": "3.9.18"
    }
  },
  "nbformat": 4,
  "nbformat_minor": 0
}
