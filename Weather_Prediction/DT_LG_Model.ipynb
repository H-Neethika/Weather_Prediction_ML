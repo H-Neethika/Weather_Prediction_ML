{
  "cells": [
    {
      "cell_type": "markdown",
      "metadata": {
        "id": "7Gt760cACDmx"
      },
      "source": []
    },
    {
      "cell_type": "markdown",
      "metadata": {
        "id": "2UUCwBEaCXyK"
      },
      "source": [
        "# **Weather Prediction**\n",
        "### Group Number : 07\n",
        "### EG/2020/3956 - Hariharasakthy N.\n",
        "### EG/2020/4119 - Praveenan J.\n"
      ]
    },
    {
      "cell_type": "markdown",
      "metadata": {},
      "source": [
        "### Data Collection"
      ]
    },
    {
      "cell_type": "code",
      "execution_count": 1664,
      "metadata": {
        "id": "fiZpZSh1CmIn"
      },
      "outputs": [],
      "source": [
        "#Importing the required Libraries\n",
        "import pandas as pd\n",
        "import numpy as np\n",
        "import matplotlib.pyplot as plt\n",
        "import seaborn as sns\n",
        "from sklearn.tree import DecisionTreeClassifier\n",
        "from imblearn.over_sampling import RandomOverSampler\n",
        "from sklearn.metrics import classification_report,ConfusionMatrixDisplay\n",
        "from sklearn.feature_selection import SelectKBest\n",
        "from sklearn.preprocessing import LabelEncoder\n",
        "from sklearn.preprocessing import MinMaxScaler\n",
        "from sklearn.model_selection import train_test_split\n",
        "from sklearn.model_selection import cross_val_score\n",
        "%matplotlib inline"
      ]
    },
    {
      "cell_type": "code",
      "execution_count": 1665,
      "metadata": {
        "colab": {
          "base_uri": "https://localhost:8080/",
          "height": 347
        },
        "id": "GzD3wQ1FFqj7",
        "outputId": "108ad1b3-e44d-4cc0-cded-0d0644f12a79"
      },
      "outputs": [],
      "source": [
        "#Read the data file using pandas\n",
        "data=pd.read_csv('Weather_Data.csv')\n",
        "data_dt = data.copy()\n"
      ]
    },
    {
      "cell_type": "markdown",
      "metadata": {},
      "source": [
        "### Data Analyzing"
      ]
    },
    {
      "cell_type": "code",
      "execution_count": 1666,
      "metadata": {},
      "outputs": [
        {
          "data": {
            "text/html": [
              "<div>\n",
              "<style scoped>\n",
              "    .dataframe tbody tr th:only-of-type {\n",
              "        vertical-align: middle;\n",
              "    }\n",
              "\n",
              "    .dataframe tbody tr th {\n",
              "        vertical-align: top;\n",
              "    }\n",
              "\n",
              "    .dataframe thead th {\n",
              "        text-align: right;\n",
              "    }\n",
              "</style>\n",
              "<table border=\"1\" class=\"dataframe\">\n",
              "  <thead>\n",
              "    <tr style=\"text-align: right;\">\n",
              "      <th></th>\n",
              "      <th>Date/Time</th>\n",
              "      <th>Temp_C</th>\n",
              "      <th>Dew Point Temp_C</th>\n",
              "      <th>Rel Hum_%</th>\n",
              "      <th>Wind Speed_km/h</th>\n",
              "      <th>Visibility_km</th>\n",
              "      <th>Press_kPa</th>\n",
              "      <th>Weather</th>\n",
              "    </tr>\n",
              "  </thead>\n",
              "  <tbody>\n",
              "    <tr>\n",
              "      <th>0</th>\n",
              "      <td>1/1/2012 0:00</td>\n",
              "      <td>-1.8</td>\n",
              "      <td>-3.9</td>\n",
              "      <td>86</td>\n",
              "      <td>4</td>\n",
              "      <td>8.0</td>\n",
              "      <td>101.24</td>\n",
              "      <td>Fog</td>\n",
              "    </tr>\n",
              "    <tr>\n",
              "      <th>1</th>\n",
              "      <td>1/1/2012 1:00</td>\n",
              "      <td>-1.8</td>\n",
              "      <td>-3.7</td>\n",
              "      <td>87</td>\n",
              "      <td>4</td>\n",
              "      <td>8.0</td>\n",
              "      <td>101.24</td>\n",
              "      <td>Fog</td>\n",
              "    </tr>\n",
              "    <tr>\n",
              "      <th>2</th>\n",
              "      <td>1/1/2012 2:00</td>\n",
              "      <td>-1.8</td>\n",
              "      <td>-3.4</td>\n",
              "      <td>89</td>\n",
              "      <td>7</td>\n",
              "      <td>4.0</td>\n",
              "      <td>101.26</td>\n",
              "      <td>Freezing Drizzle,Fog</td>\n",
              "    </tr>\n",
              "    <tr>\n",
              "      <th>3</th>\n",
              "      <td>1/1/2012 3:00</td>\n",
              "      <td>-1.5</td>\n",
              "      <td>-3.2</td>\n",
              "      <td>88</td>\n",
              "      <td>6</td>\n",
              "      <td>4.0</td>\n",
              "      <td>101.27</td>\n",
              "      <td>Freezing Drizzle,Fog</td>\n",
              "    </tr>\n",
              "    <tr>\n",
              "      <th>4</th>\n",
              "      <td>1/1/2012 4:00</td>\n",
              "      <td>-1.5</td>\n",
              "      <td>-3.3</td>\n",
              "      <td>88</td>\n",
              "      <td>7</td>\n",
              "      <td>4.8</td>\n",
              "      <td>101.23</td>\n",
              "      <td>Fog</td>\n",
              "    </tr>\n",
              "  </tbody>\n",
              "</table>\n",
              "</div>"
            ],
            "text/plain": [
              "       Date/Time  Temp_C  Dew Point Temp_C  Rel Hum_%  Wind Speed_km/h  \\\n",
              "0  1/1/2012 0:00    -1.8              -3.9         86                4   \n",
              "1  1/1/2012 1:00    -1.8              -3.7         87                4   \n",
              "2  1/1/2012 2:00    -1.8              -3.4         89                7   \n",
              "3  1/1/2012 3:00    -1.5              -3.2         88                6   \n",
              "4  1/1/2012 4:00    -1.5              -3.3         88                7   \n",
              "\n",
              "   Visibility_km  Press_kPa               Weather  \n",
              "0            8.0     101.24                   Fog  \n",
              "1            8.0     101.24                   Fog  \n",
              "2            4.0     101.26  Freezing Drizzle,Fog  \n",
              "3            4.0     101.27  Freezing Drizzle,Fog  \n",
              "4            4.8     101.23                   Fog  "
            ]
          },
          "execution_count": 1666,
          "metadata": {},
          "output_type": "execute_result"
        }
      ],
      "source": [
        "#Display top 5 data in the dataset\n",
        "data_dt.head()"
      ]
    },
    {
      "cell_type": "code",
      "execution_count": 1667,
      "metadata": {
        "colab": {
          "base_uri": "https://localhost:8080/"
        },
        "id": "oQDs-iIqHUkS",
        "outputId": "c113b10a-0d10-46f5-8c80-07ada734f1ce"
      },
      "outputs": [
        {
          "data": {
            "text/plain": [
              "(8784, 8)"
            ]
          },
          "execution_count": 1667,
          "metadata": {},
          "output_type": "execute_result"
        }
      ],
      "source": [
        "#(Row ,Column)\n",
        "data_dt.shape"
      ]
    },
    {
      "cell_type": "code",
      "execution_count": 1668,
      "metadata": {
        "colab": {
          "base_uri": "https://localhost:8080/"
        },
        "id": "xED6BRHJIj2i",
        "outputId": "3e4b16dd-13d7-4454-f408-aa5cf7e6cb45"
      },
      "outputs": [
        {
          "data": {
            "text/plain": [
              "Index(['Date/Time', 'Temp_C', 'Dew Point Temp_C', 'Rel Hum_%',\n",
              "       'Wind Speed_km/h', 'Visibility_km', 'Press_kPa', 'Weather'],\n",
              "      dtype='object')"
            ]
          },
          "execution_count": 1668,
          "metadata": {},
          "output_type": "execute_result"
        }
      ],
      "source": [
        "#To display  column names of the dataset\n",
        "data_dt.columns"
      ]
    },
    {
      "cell_type": "code",
      "execution_count": 1669,
      "metadata": {
        "colab": {
          "base_uri": "https://localhost:8080/"
        },
        "id": "b58Xhgl8I4dM",
        "outputId": "c4f8635a-1b1b-4f2d-fb22-4bca1172e762"
      },
      "outputs": [
        {
          "data": {
            "text/plain": [
              "Date/Time            object\n",
              "Temp_C              float64\n",
              "Dew Point Temp_C    float64\n",
              "Rel Hum_%             int64\n",
              "Wind Speed_km/h       int64\n",
              "Visibility_km       float64\n",
              "Press_kPa           float64\n",
              "Weather              object\n",
              "dtype: object"
            ]
          },
          "execution_count": 1669,
          "metadata": {},
          "output_type": "execute_result"
        }
      ],
      "source": [
        "#To display the data types of the all features & label\n",
        "data_dt.dtypes"
      ]
    },
    {
      "cell_type": "code",
      "execution_count": 1670,
      "metadata": {},
      "outputs": [
        {
          "data": {
            "text/html": [
              "<div>\n",
              "<style scoped>\n",
              "    .dataframe tbody tr th:only-of-type {\n",
              "        vertical-align: middle;\n",
              "    }\n",
              "\n",
              "    .dataframe tbody tr th {\n",
              "        vertical-align: top;\n",
              "    }\n",
              "\n",
              "    .dataframe thead th {\n",
              "        text-align: right;\n",
              "    }\n",
              "</style>\n",
              "<table border=\"1\" class=\"dataframe\">\n",
              "  <thead>\n",
              "    <tr style=\"text-align: right;\">\n",
              "      <th></th>\n",
              "      <th>Temp_C</th>\n",
              "      <th>Dew Point Temp_C</th>\n",
              "      <th>Rel Hum_%</th>\n",
              "      <th>Wind Speed_km/h</th>\n",
              "      <th>Visibility_km</th>\n",
              "      <th>Press_kPa</th>\n",
              "    </tr>\n",
              "  </thead>\n",
              "  <tbody>\n",
              "    <tr>\n",
              "      <th>count</th>\n",
              "      <td>8784.000000</td>\n",
              "      <td>8784.000000</td>\n",
              "      <td>8784.000000</td>\n",
              "      <td>8784.000000</td>\n",
              "      <td>8784.000000</td>\n",
              "      <td>8784.000000</td>\n",
              "    </tr>\n",
              "    <tr>\n",
              "      <th>mean</th>\n",
              "      <td>8.798144</td>\n",
              "      <td>2.555294</td>\n",
              "      <td>67.431694</td>\n",
              "      <td>14.945469</td>\n",
              "      <td>27.664447</td>\n",
              "      <td>101.051623</td>\n",
              "    </tr>\n",
              "    <tr>\n",
              "      <th>std</th>\n",
              "      <td>11.687883</td>\n",
              "      <td>10.883072</td>\n",
              "      <td>16.918881</td>\n",
              "      <td>8.688696</td>\n",
              "      <td>12.622688</td>\n",
              "      <td>0.844005</td>\n",
              "    </tr>\n",
              "    <tr>\n",
              "      <th>min</th>\n",
              "      <td>-23.300000</td>\n",
              "      <td>-28.500000</td>\n",
              "      <td>18.000000</td>\n",
              "      <td>0.000000</td>\n",
              "      <td>0.200000</td>\n",
              "      <td>97.520000</td>\n",
              "    </tr>\n",
              "    <tr>\n",
              "      <th>25%</th>\n",
              "      <td>0.100000</td>\n",
              "      <td>-5.900000</td>\n",
              "      <td>56.000000</td>\n",
              "      <td>9.000000</td>\n",
              "      <td>24.100000</td>\n",
              "      <td>100.560000</td>\n",
              "    </tr>\n",
              "    <tr>\n",
              "      <th>50%</th>\n",
              "      <td>9.300000</td>\n",
              "      <td>3.300000</td>\n",
              "      <td>68.000000</td>\n",
              "      <td>13.000000</td>\n",
              "      <td>25.000000</td>\n",
              "      <td>101.070000</td>\n",
              "    </tr>\n",
              "    <tr>\n",
              "      <th>75%</th>\n",
              "      <td>18.800000</td>\n",
              "      <td>11.800000</td>\n",
              "      <td>81.000000</td>\n",
              "      <td>20.000000</td>\n",
              "      <td>25.000000</td>\n",
              "      <td>101.590000</td>\n",
              "    </tr>\n",
              "    <tr>\n",
              "      <th>max</th>\n",
              "      <td>33.000000</td>\n",
              "      <td>24.400000</td>\n",
              "      <td>100.000000</td>\n",
              "      <td>83.000000</td>\n",
              "      <td>48.300000</td>\n",
              "      <td>103.650000</td>\n",
              "    </tr>\n",
              "  </tbody>\n",
              "</table>\n",
              "</div>"
            ],
            "text/plain": [
              "            Temp_C  Dew Point Temp_C    Rel Hum_%  Wind Speed_km/h  \\\n",
              "count  8784.000000       8784.000000  8784.000000      8784.000000   \n",
              "mean      8.798144          2.555294    67.431694        14.945469   \n",
              "std      11.687883         10.883072    16.918881         8.688696   \n",
              "min     -23.300000        -28.500000    18.000000         0.000000   \n",
              "25%       0.100000         -5.900000    56.000000         9.000000   \n",
              "50%       9.300000          3.300000    68.000000        13.000000   \n",
              "75%      18.800000         11.800000    81.000000        20.000000   \n",
              "max      33.000000         24.400000   100.000000        83.000000   \n",
              "\n",
              "       Visibility_km    Press_kPa  \n",
              "count    8784.000000  8784.000000  \n",
              "mean       27.664447   101.051623  \n",
              "std        12.622688     0.844005  \n",
              "min         0.200000    97.520000  \n",
              "25%        24.100000   100.560000  \n",
              "50%        25.000000   101.070000  \n",
              "75%        25.000000   101.590000  \n",
              "max        48.300000   103.650000  "
            ]
          },
          "execution_count": 1670,
          "metadata": {},
          "output_type": "execute_result"
        }
      ],
      "source": [
        "#Describe the datasets\n",
        "data_dt.describe()"
      ]
    },
    {
      "cell_type": "markdown",
      "metadata": {
        "id": "ffK5D6VSwHVG"
      },
      "source": [
        "### Preprocessing For Decision Tree Algorithm"
      ]
    },
    {
      "cell_type": "markdown",
      "metadata": {},
      "source": [
        "##### Feature Selection"
      ]
    },
    {
      "cell_type": "code",
      "execution_count": 1671,
      "metadata": {},
      "outputs": [],
      "source": [
        "# Drop the column Date/Time\n",
        "data_dt.drop(columns=['Date/Time'],axis=1,inplace=True)"
      ]
    },
    {
      "cell_type": "markdown",
      "metadata": {},
      "source": [
        "##### Label Encoding"
      ]
    },
    {
      "cell_type": "code",
      "execution_count": 1672,
      "metadata": {},
      "outputs": [],
      "source": [
        "# Label Encoding\n",
        "# Creating an instance of the LabelEncoder class\n",
        "le=LabelEncoder()\n",
        "\n",
        "# Applying the label encoding to the \"Weather\" column in the DataFrame\n",
        "# This replaces the categorical values with corresponding numerical labels\n",
        "data_dt[\"Weather\"]=le.fit_transform(data_dt[\"Weather\"])"
      ]
    },
    {
      "cell_type": "code",
      "execution_count": 1673,
      "metadata": {},
      "outputs": [
        {
          "data": {
            "image/png": "[encoded data removed]",
            "text/plain": [
              "<Figure size 1600x1000 with 2 Axes>"
            ]
          },
          "metadata": {},
          "output_type": "display_data"
        }
      ],
      "source": [
        "#correlation between variables\n",
        "#heat map\n",
        "fig,ax=plt.subplots(1,1,figsize=(16,10))\n",
        "sns.heatmap(data_dt.corr(),annot=True,linewidths=1)\n",
        "plt.show()"
      ]
    },
    {
      "cell_type": "code",
      "execution_count": 1674,
      "metadata": {},
      "outputs": [
        {
          "data": {
            "text/html": [
              "<div>\n",
              "<style scoped>\n",
              "    .dataframe tbody tr th:only-of-type {\n",
              "        vertical-align: middle;\n",
              "    }\n",
              "\n",
              "    .dataframe tbody tr th {\n",
              "        vertical-align: top;\n",
              "    }\n",
              "\n",
              "    .dataframe thead th {\n",
              "        text-align: right;\n",
              "    }\n",
              "</style>\n",
              "<table border=\"1\" class=\"dataframe\">\n",
              "  <thead>\n",
              "    <tr style=\"text-align: right;\">\n",
              "      <th></th>\n",
              "      <th>Temp_C</th>\n",
              "      <th>Dew Point Temp_C</th>\n",
              "      <th>Rel Hum_%</th>\n",
              "      <th>Wind Speed_km/h</th>\n",
              "      <th>Visibility_km</th>\n",
              "      <th>Press_kPa</th>\n",
              "    </tr>\n",
              "  </thead>\n",
              "  <tbody>\n",
              "    <tr>\n",
              "      <th>0</th>\n",
              "      <td>-1.8</td>\n",
              "      <td>-3.9</td>\n",
              "      <td>86</td>\n",
              "      <td>4</td>\n",
              "      <td>8.0</td>\n",
              "      <td>101.24</td>\n",
              "    </tr>\n",
              "    <tr>\n",
              "      <th>1</th>\n",
              "      <td>-1.8</td>\n",
              "      <td>-3.7</td>\n",
              "      <td>87</td>\n",
              "      <td>4</td>\n",
              "      <td>8.0</td>\n",
              "      <td>101.24</td>\n",
              "    </tr>\n",
              "    <tr>\n",
              "      <th>2</th>\n",
              "      <td>-1.8</td>\n",
              "      <td>-3.4</td>\n",
              "      <td>89</td>\n",
              "      <td>7</td>\n",
              "      <td>4.0</td>\n",
              "      <td>101.26</td>\n",
              "    </tr>\n",
              "    <tr>\n",
              "      <th>3</th>\n",
              "      <td>-1.5</td>\n",
              "      <td>-3.2</td>\n",
              "      <td>88</td>\n",
              "      <td>6</td>\n",
              "      <td>4.0</td>\n",
              "      <td>101.27</td>\n",
              "    </tr>\n",
              "    <tr>\n",
              "      <th>4</th>\n",
              "      <td>-1.5</td>\n",
              "      <td>-3.3</td>\n",
              "      <td>88</td>\n",
              "      <td>7</td>\n",
              "      <td>4.8</td>\n",
              "      <td>101.23</td>\n",
              "    </tr>\n",
              "    <tr>\n",
              "      <th>...</th>\n",
              "      <td>...</td>\n",
              "      <td>...</td>\n",
              "      <td>...</td>\n",
              "      <td>...</td>\n",
              "      <td>...</td>\n",
              "      <td>...</td>\n",
              "    </tr>\n",
              "    <tr>\n",
              "      <th>8779</th>\n",
              "      <td>0.1</td>\n",
              "      <td>-2.7</td>\n",
              "      <td>81</td>\n",
              "      <td>30</td>\n",
              "      <td>9.7</td>\n",
              "      <td>100.13</td>\n",
              "    </tr>\n",
              "    <tr>\n",
              "      <th>8780</th>\n",
              "      <td>0.2</td>\n",
              "      <td>-2.4</td>\n",
              "      <td>83</td>\n",
              "      <td>24</td>\n",
              "      <td>9.7</td>\n",
              "      <td>100.03</td>\n",
              "    </tr>\n",
              "    <tr>\n",
              "      <th>8781</th>\n",
              "      <td>-0.5</td>\n",
              "      <td>-1.5</td>\n",
              "      <td>93</td>\n",
              "      <td>28</td>\n",
              "      <td>4.8</td>\n",
              "      <td>99.95</td>\n",
              "    </tr>\n",
              "    <tr>\n",
              "      <th>8782</th>\n",
              "      <td>-0.2</td>\n",
              "      <td>-1.8</td>\n",
              "      <td>89</td>\n",
              "      <td>28</td>\n",
              "      <td>9.7</td>\n",
              "      <td>99.91</td>\n",
              "    </tr>\n",
              "    <tr>\n",
              "      <th>8783</th>\n",
              "      <td>0.0</td>\n",
              "      <td>-2.1</td>\n",
              "      <td>86</td>\n",
              "      <td>30</td>\n",
              "      <td>11.3</td>\n",
              "      <td>99.89</td>\n",
              "    </tr>\n",
              "  </tbody>\n",
              "</table>\n",
              "<p>8784 rows × 6 columns</p>\n",
              "</div>"
            ],
            "text/plain": [
              "      Temp_C  Dew Point Temp_C  Rel Hum_%  Wind Speed_km/h  Visibility_km  \\\n",
              "0       -1.8              -3.9         86                4            8.0   \n",
              "1       -1.8              -3.7         87                4            8.0   \n",
              "2       -1.8              -3.4         89                7            4.0   \n",
              "3       -1.5              -3.2         88                6            4.0   \n",
              "4       -1.5              -3.3         88                7            4.8   \n",
              "...      ...               ...        ...              ...            ...   \n",
              "8779     0.1              -2.7         81               30            9.7   \n",
              "8780     0.2              -2.4         83               24            9.7   \n",
              "8781    -0.5              -1.5         93               28            4.8   \n",
              "8782    -0.2              -1.8         89               28            9.7   \n",
              "8783     0.0              -2.1         86               30           11.3   \n",
              "\n",
              "      Press_kPa  \n",
              "0        101.24  \n",
              "1        101.24  \n",
              "2        101.26  \n",
              "3        101.27  \n",
              "4        101.23  \n",
              "...         ...  \n",
              "8779     100.13  \n",
              "8780     100.03  \n",
              "8781      99.95  \n",
              "8782      99.91  \n",
              "8783      99.89  \n",
              "\n",
              "[8784 rows x 6 columns]"
            ]
          },
          "execution_count": 1674,
          "metadata": {},
          "output_type": "execute_result"
        }
      ],
      "source": [
        "# Extracting all rows and all columns except the last one from the data set and assigning it to 'x'\n",
        "x=data_dt.iloc[:,:-1]\n",
        "x"
      ]
    },
    {
      "cell_type": "code",
      "execution_count": 1675,
      "metadata": {},
      "outputs": [
        {
          "data": {
            "text/plain": [
              "0        7\n",
              "1        7\n",
              "2        9\n",
              "3        9\n",
              "4        7\n",
              "        ..\n",
              "8779    35\n",
              "8780    35\n",
              "8781    35\n",
              "8782    35\n",
              "8783    35\n",
              "Name: Weather, Length: 8784, dtype: int32"
            ]
          },
          "execution_count": 1675,
          "metadata": {},
          "output_type": "execute_result"
        }
      ],
      "source": [
        "# Extracting the last column from the data set and assigning it to 'y'\n",
        "y=data_dt.iloc[:,-1]\n",
        "y"
      ]
    },
    {
      "cell_type": "markdown",
      "metadata": {},
      "source": [
        "##### Feature Scalling"
      ]
    },
    {
      "cell_type": "code",
      "execution_count": 1676,
      "metadata": {},
      "outputs": [],
      "source": [
        "# Creating an instance of the RandomOverSampler\n",
        "sm=RandomOverSampler()\n",
        "\n",
        "# Resampling the features 'x' and labels 'y' using the RandomOverSampler\n",
        "x,y=sm.fit_resample(x,y)"
      ]
    },
    {
      "cell_type": "code",
      "execution_count": 1677,
      "metadata": {},
      "outputs": [
        {
          "data": {
            "text/plain": [
              "array([[0.38188277, 0.46502836, 0.82926829, 0.04819277, 0.16216216,\n",
              "        0.60685155],\n",
              "       [0.38188277, 0.46880907, 0.84146341, 0.04819277, 0.16216216,\n",
              "        0.60685155],\n",
              "       [0.38188277, 0.47448015, 0.86585366, 0.08433735, 0.07900208,\n",
              "        0.61011419],\n",
              "       ...,\n",
              "       [0.77975133, 0.89035917, 0.85365854, 0.22891566, 0.0956341 ,\n",
              "        0.41761827],\n",
              "       [0.77975133, 0.89035917, 0.85365854, 0.22891566, 0.0956341 ,\n",
              "        0.41761827],\n",
              "       [0.77975133, 0.89035917, 0.85365854, 0.22891566, 0.0956341 ,\n",
              "        0.41761827]])"
            ]
          },
          "execution_count": 1677,
          "metadata": {},
          "output_type": "execute_result"
        }
      ],
      "source": [
        "# Creating an instance of MinMaxScaler\n",
        "ms=MinMaxScaler()\n",
        "\n",
        "# Scaling the features in 'x' using the MinMaxScaler\n",
        "Xsc=ms.fit_transform(x)\n",
        "\n",
        "# Displaying the scaled features\n",
        "Xsc"
      ]
    },
    {
      "cell_type": "markdown",
      "metadata": {},
      "source": [
        "### Training and Testing sets"
      ]
    },
    {
      "cell_type": "code",
      "execution_count": 1678,
      "metadata": {},
      "outputs": [],
      "source": [
        "# Splitting the dataset into training and testing sets\n",
        "X_train,X_test,y_train,y_test=train_test_split(Xsc,y,test_size=0.3,random_state=4)"
      ]
    },
    {
      "cell_type": "code",
      "execution_count": 1679,
      "metadata": {
        "colab": {
          "base_uri": "https://localhost:8080/",
          "height": 366
        },
        "id": "aKVfB6odv_sZ",
        "outputId": "b1ca0444-f002-4f75-c5f8-3f8bf2fe4d6a"
      },
      "outputs": [
        {
          "name": "stdout",
          "output_type": "stream",
          "text": [
            "Cross-Validation Scores: [0.8954416  0.88717949 0.89586895 0.89297246 0.88822412]\n",
            "Mean CV Score: 0.891937321937322\n",
            "Predicted Labels: [49 14  2 ... 10 18 17]\n"
          ]
        }
      ],
      "source": [
        "# Creating a DecisionTreeClassifier instance with specified parameters\n",
        "dt=DecisionTreeClassifier(criterion='entropy',random_state=2,max_depth=10)\n",
        "\n",
        "# Performing cross-validation\n",
        "cv_scores = cross_val_score(dt, Xsc, y, cv=5) \n",
        "\n",
        "# Displaying cross-validation scores\n",
        "print(\"Cross-Validation Scores:\", cv_scores)\n",
        "print(\"Mean CV Score:\", cv_scores.mean())\n",
        "\n",
        "# Training the decision tree model on the training set\n",
        "dt.fit(X_train,y_train)\n",
        "\n",
        "# Making predictions on the test set\n",
        "y_pred3=dt.predict(X_test)\n",
        "\n",
        "# Displaying the predicted labels\n",
        "print(\"Predicted Labels:\", y_pred3)"
      ]
    },
    {
      "cell_type": "code",
      "execution_count": 1680,
      "metadata": {
        "id": "ZBgQD3M-wAGb"
      },
      "outputs": [
        {
          "name": "stdout",
          "output_type": "stream",
          "text": [
            "              precision    recall  f1-score   support\n",
            "\n",
            "           0       0.42      0.64      0.50       611\n",
            "           1       0.43      0.17      0.24       606\n",
            "           2       0.58      0.97      0.73       608\n",
            "           3       0.65      0.76      0.70       642\n",
            "           4       1.00      1.00      1.00       662\n",
            "           5       1.00      1.00      1.00       621\n",
            "           6       1.00      1.00      1.00       599\n",
            "           7       0.88      0.59      0.70       668\n",
            "           8       0.79      1.00      0.89       603\n",
            "           9       0.92      1.00      0.96       614\n",
            "          10       1.00      1.00      1.00       604\n",
            "          11       0.85      1.00      0.92       615\n",
            "          12       1.00      1.00      1.00       618\n",
            "          13       0.94      0.80      0.86       644\n",
            "          14       0.93      1.00      0.97       639\n",
            "          15       1.00      1.00      1.00       615\n",
            "          16       1.00      1.00      1.00       625\n",
            "          17       1.00      1.00      1.00       626\n",
            "          18       0.97      1.00      0.99       628\n",
            "          19       0.39      0.28      0.33       641\n",
            "          20       1.00      1.00      1.00       676\n",
            "          21       1.00      1.00      1.00       639\n",
            "          22       1.00      1.00      1.00       636\n",
            "          23       0.40      0.12      0.18       645\n",
            "          24       0.78      0.38      0.51       650\n",
            "          25       0.43      0.71      0.53       610\n",
            "          26       1.00      1.00      1.00       628\n",
            "          27       1.00      1.00      1.00       662\n",
            "          28       0.81      0.82      0.82       669\n",
            "          29       1.00      1.00      1.00       664\n",
            "          30       1.00      1.00      1.00       650\n",
            "          31       0.99      1.00      0.99       627\n",
            "          32       1.00      1.00      1.00       655\n",
            "          33       1.00      1.00      1.00       631\n",
            "          34       1.00      1.00      1.00       632\n",
            "          35       0.84      0.58      0.69       662\n",
            "          36       1.00      1.00      1.00       662\n",
            "          37       0.76      0.85      0.80       658\n",
            "          38       1.00      1.00      1.00       646\n",
            "          39       1.00      1.00      1.00       649\n",
            "          40       0.91      1.00      0.96       616\n",
            "          41       1.00      1.00      1.00       623\n",
            "          42       1.00      1.00      1.00       615\n",
            "          43       0.99      1.00      1.00       611\n",
            "          44       1.00      1.00      1.00       614\n",
            "          45       1.00      1.00      1.00       597\n",
            "          46       0.97      1.00      0.98       613\n",
            "          47       0.89      1.00      0.94       641\n",
            "          48       1.00      1.00      1.00       600\n",
            "          49       1.00      1.00      1.00       620\n",
            "\n",
            "    accuracy                           0.89     31590\n",
            "   macro avg       0.89      0.89      0.88     31590\n",
            "weighted avg       0.89      0.89      0.88     31590\n",
            "\n",
            "Train accuracy: 0.897693664360331\n"
          ]
        }
      ],
      "source": [
        "# Generating and printing the classification report for the model's predictions on the test set\n",
        "print(classification_report(y_test,y_pred3))\n",
        "train_accuracy = dt.score(X_train, y_train)\n",
        "\n",
        "# Print the train accuracy\n",
        "print(\"Train accuracy:\", train_accuracy)"
      ]
    },
    {
      "cell_type": "markdown",
      "metadata": {},
      "source": [
        "## Logistic Regression"
      ]
    },
    {
      "cell_type": "markdown",
      "metadata": {},
      "source": [
        "#### Data Analyzing"
      ]
    },
    {
      "cell_type": "code",
      "execution_count": 1681,
      "metadata": {
        "colab": {
          "base_uri": "https://localhost:8080/"
        },
        "id": "WSp9JisdMBMI",
        "outputId": "db25fa77-4741-4528-801b-caffd32c598e"
      },
      "outputs": [
        {
          "data": {
            "text/plain": [
              "Weather\n",
              "Mainly Clear                               2106\n",
              "Mostly Cloudy                              2069\n",
              "Cloudy                                     1728\n",
              "Clear                                      1326\n",
              "Snow                                        390\n",
              "Rain                                        306\n",
              "Rain Showers                                188\n",
              "Fog                                         150\n",
              "Rain,Fog                                    116\n",
              "Drizzle,Fog                                  80\n",
              "Snow Showers                                 60\n",
              "Drizzle                                      41\n",
              "Snow,Fog                                     37\n",
              "Snow,Blowing Snow                            19\n",
              "Rain,Snow                                    18\n",
              "Thunderstorms,Rain Showers                   16\n",
              "Haze                                         16\n",
              "Drizzle,Snow,Fog                             15\n",
              "Freezing Rain                                14\n",
              "Freezing Drizzle,Snow                        11\n",
              "Freezing Drizzle                              7\n",
              "Snow,Ice Pellets                              6\n",
              "Freezing Drizzle,Fog                          6\n",
              "Snow,Haze                                     5\n",
              "Freezing Fog                                  4\n",
              "Snow Showers,Fog                              4\n",
              "Moderate Snow                                 4\n",
              "Rain,Snow,Ice Pellets                         4\n",
              "Freezing Rain,Fog                             4\n",
              "Freezing Drizzle,Haze                         3\n",
              "Rain,Haze                                     3\n",
              "Thunderstorms,Rain                            3\n",
              "Thunderstorms,Rain Showers,Fog                3\n",
              "Freezing Rain,Haze                            2\n",
              "Drizzle,Snow                                  2\n",
              "Rain Showers,Snow Showers                     2\n",
              "Thunderstorms                                 2\n",
              "Moderate Snow,Blowing Snow                    2\n",
              "Rain Showers,Fog                              1\n",
              "Thunderstorms,Moderate Rain Showers,Fog       1\n",
              "Snow Pellets                                  1\n",
              "Rain,Snow,Fog                                 1\n",
              "Moderate Rain,Fog                             1\n",
              "Freezing Rain,Ice Pellets,Fog                 1\n",
              "Drizzle,Ice Pellets,Fog                       1\n",
              "Thunderstorms,Rain,Fog                        1\n",
              "Rain,Ice Pellets                              1\n",
              "Rain,Snow Grains                              1\n",
              "Thunderstorms,Heavy Rain Showers              1\n",
              "Freezing Rain,Snow Grains                     1\n",
              "Name: count, dtype: int64"
            ]
          },
          "execution_count": 1681,
          "metadata": {},
          "output_type": "execute_result"
        }
      ],
      "source": [
        "#Counting the occurrences of each unique value in the 'Weather' column\n",
        "data.Weather.value_counts()"
      ]
    },
    {
      "cell_type": "code",
      "execution_count": 1682,
      "metadata": {
        "colab": {
          "base_uri": "https://localhost:8080/"
        },
        "id": "dVV5RUNuNibB",
        "outputId": "fedf6162-c0d3-4f39-f2e2-37f28a4d8b29"
      },
      "outputs": [
        {
          "data": {
            "text/plain": [
              "50"
            ]
          },
          "execution_count": 1682,
          "metadata": {},
          "output_type": "execute_result"
        }
      ],
      "source": [
        "#Return number of unique elements in weather column\n",
        "filtered_data=data\n",
        "filtered_data.Weather.nunique()"
      ]
    },
    {
      "cell_type": "markdown",
      "metadata": {},
      "source": [
        "## Preprocessing for Logistic Regression"
      ]
    },
    {
      "cell_type": "markdown",
      "metadata": {
        "id": "9gPLX2AGUn1X"
      },
      "source": [
        "##### Converting the Weather Categories into Standard Categories"
      ]
    },
    {
      "cell_type": "code",
      "execution_count": 1683,
      "metadata": {
        "id": "7EcqhPkSUyBA"
      },
      "outputs": [],
      "source": [
        "# Importing the chain function from the itertools module\n",
        "from itertools import chain  \n"
      ]
    },
    {
      "cell_type": "code",
      "execution_count": 1684,
      "metadata": {
        "id": "r4s3D3xwnM_z"
      },
      "outputs": [],
      "source": [
        "# Defining a function to create a flat list from a comma-separated string\n",
        "def Create_list(x):\n",
        "    list_of_lists=[w.split() for w in x.split(',')] # Splitting each comma-separated value into a list of words\n",
        "    flat_list=list(chain(*list_of_lists)) # Flattening the list of lists into a single list\n",
        "    return flat_list # Returning the resulting flat list\n",
        "\n",
        "\n",
        "# Defining a function to determine a simplified weather description based on input conditions\n",
        "def Get_Weather(list1):\n",
        "    if 'Fog' in list1 and 'Rain' in list1:\n",
        "        return 'RAIN+FOG'\n",
        "    elif 'Snow' in list1 and 'Rain' in list1:\n",
        "        return 'SNOW+RAIN'\n",
        "    elif 'Snow' in list1:\n",
        "        return 'SNOW'\n",
        "    elif 'Rain' in list1:\n",
        "        return 'RAIN'\n",
        "    elif 'Fog' in list1:\n",
        "        return 'FOG'\n",
        "    elif 'Clear' in list1:\n",
        "        return 'CLEAR'\n",
        "    elif 'Cloudy' in list1:\n",
        "        return 'CLOUDY'\n",
        "    else:\n",
        "        return 'RAIN'"
      ]
    },
    {
      "cell_type": "code",
      "execution_count": 1685,
      "metadata": {
        "id": "tAzhAqemnznj"
      },
      "outputs": [],
      "source": [
        "# Input string\n",
        "x='Thunderstorms,Moderate Rain Showers,Fog'"
      ]
    },
    {
      "cell_type": "code",
      "execution_count": 1686,
      "metadata": {
        "colab": {
          "base_uri": "https://localhost:8080/"
        },
        "id": "nUBBmFDIoMlN",
        "outputId": "13e6a96c-1839-4854-a599-8eb53abe8c6e"
      },
      "outputs": [
        {
          "data": {
            "text/plain": [
              "['Thunderstorms', 'Moderate', 'Rain', 'Showers', 'Fog']"
            ]
          },
          "execution_count": 1686,
          "metadata": {},
          "output_type": "execute_result"
        }
      ],
      "source": [
        "# Using Create_list to convert the string to a list\n",
        "Create_list(x)"
      ]
    },
    {
      "cell_type": "code",
      "execution_count": 1687,
      "metadata": {
        "colab": {
          "base_uri": "https://localhost:8080/",
          "height": 36
        },
        "id": "PCW3yh_8oO6e",
        "outputId": "959a4ea0-d22d-4032-92f8-c10e98552c65"
      },
      "outputs": [
        {
          "data": {
            "text/plain": [
              "'RAIN+FOG'"
            ]
          },
          "execution_count": 1687,
          "metadata": {},
          "output_type": "execute_result"
        }
      ],
      "source": [
        "# Using Get_Weather to get the simplified weather description\n",
        "Get_Weather(Create_list(x))"
      ]
    },
    {
      "cell_type": "code",
      "execution_count": 1688,
      "metadata": {
        "id": "lqJImzPRoQ-Q"
      },
      "outputs": [],
      "source": [
        "# Applying the Get_Weather function to each element in the 'Weather' column and creating a new column 'Std_Weather'\n",
        "filtered_data['Std_Weather']=filtered_data['Weather'].apply(lambda x:Get_Weather(Create_list(x)))"
      ]
    },
    {
      "cell_type": "code",
      "execution_count": 1689,
      "metadata": {
        "colab": {
          "base_uri": "https://localhost:8080/",
          "height": 347
        },
        "id": "zxIjj0ORoTPi",
        "outputId": "994ae57d-5e1d-49ba-fc80-5abd4287af4b"
      },
      "outputs": [
        {
          "data": {
            "text/html": [
              "<div>\n",
              "<style scoped>\n",
              "    .dataframe tbody tr th:only-of-type {\n",
              "        vertical-align: middle;\n",
              "    }\n",
              "\n",
              "    .dataframe tbody tr th {\n",
              "        vertical-align: top;\n",
              "    }\n",
              "\n",
              "    .dataframe thead th {\n",
              "        text-align: right;\n",
              "    }\n",
              "</style>\n",
              "<table border=\"1\" class=\"dataframe\">\n",
              "  <thead>\n",
              "    <tr style=\"text-align: right;\">\n",
              "      <th></th>\n",
              "      <th>Date/Time</th>\n",
              "      <th>Temp_C</th>\n",
              "      <th>Dew Point Temp_C</th>\n",
              "      <th>Rel Hum_%</th>\n",
              "      <th>Wind Speed_km/h</th>\n",
              "      <th>Visibility_km</th>\n",
              "      <th>Press_kPa</th>\n",
              "      <th>Weather</th>\n",
              "      <th>Std_Weather</th>\n",
              "    </tr>\n",
              "  </thead>\n",
              "  <tbody>\n",
              "    <tr>\n",
              "      <th>0</th>\n",
              "      <td>1/1/2012 0:00</td>\n",
              "      <td>-1.8</td>\n",
              "      <td>-3.9</td>\n",
              "      <td>86</td>\n",
              "      <td>4</td>\n",
              "      <td>8.0</td>\n",
              "      <td>101.24</td>\n",
              "      <td>Fog</td>\n",
              "      <td>FOG</td>\n",
              "    </tr>\n",
              "    <tr>\n",
              "      <th>1</th>\n",
              "      <td>1/1/2012 1:00</td>\n",
              "      <td>-1.8</td>\n",
              "      <td>-3.7</td>\n",
              "      <td>87</td>\n",
              "      <td>4</td>\n",
              "      <td>8.0</td>\n",
              "      <td>101.24</td>\n",
              "      <td>Fog</td>\n",
              "      <td>FOG</td>\n",
              "    </tr>\n",
              "    <tr>\n",
              "      <th>2</th>\n",
              "      <td>1/1/2012 2:00</td>\n",
              "      <td>-1.8</td>\n",
              "      <td>-3.4</td>\n",
              "      <td>89</td>\n",
              "      <td>7</td>\n",
              "      <td>4.0</td>\n",
              "      <td>101.26</td>\n",
              "      <td>Freezing Drizzle,Fog</td>\n",
              "      <td>FOG</td>\n",
              "    </tr>\n",
              "    <tr>\n",
              "      <th>3</th>\n",
              "      <td>1/1/2012 3:00</td>\n",
              "      <td>-1.5</td>\n",
              "      <td>-3.2</td>\n",
              "      <td>88</td>\n",
              "      <td>6</td>\n",
              "      <td>4.0</td>\n",
              "      <td>101.27</td>\n",
              "      <td>Freezing Drizzle,Fog</td>\n",
              "      <td>FOG</td>\n",
              "    </tr>\n",
              "    <tr>\n",
              "      <th>4</th>\n",
              "      <td>1/1/2012 4:00</td>\n",
              "      <td>-1.5</td>\n",
              "      <td>-3.3</td>\n",
              "      <td>88</td>\n",
              "      <td>7</td>\n",
              "      <td>4.8</td>\n",
              "      <td>101.23</td>\n",
              "      <td>Fog</td>\n",
              "      <td>FOG</td>\n",
              "    </tr>\n",
              "  </tbody>\n",
              "</table>\n",
              "</div>"
            ],
            "text/plain": [
              "       Date/Time  Temp_C  Dew Point Temp_C  Rel Hum_%  Wind Speed_km/h  \\\n",
              "0  1/1/2012 0:00    -1.8              -3.9         86                4   \n",
              "1  1/1/2012 1:00    -1.8              -3.7         87                4   \n",
              "2  1/1/2012 2:00    -1.8              -3.4         89                7   \n",
              "3  1/1/2012 3:00    -1.5              -3.2         88                6   \n",
              "4  1/1/2012 4:00    -1.5              -3.3         88                7   \n",
              "\n",
              "   Visibility_km  Press_kPa               Weather Std_Weather  \n",
              "0            8.0     101.24                   Fog         FOG  \n",
              "1            8.0     101.24                   Fog         FOG  \n",
              "2            4.0     101.26  Freezing Drizzle,Fog         FOG  \n",
              "3            4.0     101.27  Freezing Drizzle,Fog         FOG  \n",
              "4            4.8     101.23                   Fog         FOG  "
            ]
          },
          "execution_count": 1689,
          "metadata": {},
          "output_type": "execute_result"
        }
      ],
      "source": [
        "# Displaying the first few rows of the filtered_data DataFrame\n",
        "filtered_data.head()"
      ]
    },
    {
      "cell_type": "code",
      "execution_count": 1690,
      "metadata": {
        "colab": {
          "base_uri": "https://localhost:8080/"
        },
        "id": "zhix2-Vroa5A",
        "outputId": "fcb89552-8b30-44c5-f6bf-d5edee1deed9"
      },
      "outputs": [
        {
          "data": {
            "text/plain": [
              "Std_Weather\n",
              "CLOUDY       3797\n",
              "CLEAR        3432\n",
              "RAIN          603\n",
              "SNOW          556\n",
              "FOG           241\n",
              "RAIN+FOG      129\n",
              "SNOW+RAIN      26\n",
              "Name: count, dtype: int64"
            ]
          },
          "execution_count": 1690,
          "metadata": {},
          "output_type": "execute_result"
        }
      ],
      "source": [
        "# Displaying the count of each unique value in the 'Std_Weather' column\n",
        "filtered_data.Std_Weather.value_counts()"
      ]
    },
    {
      "cell_type": "markdown",
      "metadata": {
        "id": "9q8G87tjoj4w"
      },
      "source": [
        "#### Sample selection and Data balancing"
      ]
    },
    {
      "cell_type": "code",
      "execution_count": 1691,
      "metadata": {
        "id": "lQ6l2Ue6ofhH"
      },
      "outputs": [
        {
          "data": {
            "text/html": [
              "<div>\n",
              "<style scoped>\n",
              "    .dataframe tbody tr th:only-of-type {\n",
              "        vertical-align: middle;\n",
              "    }\n",
              "\n",
              "    .dataframe tbody tr th {\n",
              "        vertical-align: top;\n",
              "    }\n",
              "\n",
              "    .dataframe thead th {\n",
              "        text-align: right;\n",
              "    }\n",
              "</style>\n",
              "<table border=\"1\" class=\"dataframe\">\n",
              "  <thead>\n",
              "    <tr style=\"text-align: right;\">\n",
              "      <th></th>\n",
              "      <th>Date/Time</th>\n",
              "      <th>Temp_C</th>\n",
              "      <th>Dew Point Temp_C</th>\n",
              "      <th>Rel Hum_%</th>\n",
              "      <th>Wind Speed_km/h</th>\n",
              "      <th>Visibility_km</th>\n",
              "      <th>Press_kPa</th>\n",
              "      <th>Weather</th>\n",
              "      <th>Std_Weather</th>\n",
              "    </tr>\n",
              "  </thead>\n",
              "  <tbody>\n",
              "    <tr>\n",
              "      <th>41</th>\n",
              "      <td>1/2/2012 17:00</td>\n",
              "      <td>-2.1</td>\n",
              "      <td>-9.5</td>\n",
              "      <td>57</td>\n",
              "      <td>22</td>\n",
              "      <td>25.0</td>\n",
              "      <td>99.66</td>\n",
              "      <td>Snow Showers</td>\n",
              "      <td>SNOW</td>\n",
              "    </tr>\n",
              "    <tr>\n",
              "      <th>44</th>\n",
              "      <td>1/2/2012 20:00</td>\n",
              "      <td>-5.6</td>\n",
              "      <td>-13.4</td>\n",
              "      <td>54</td>\n",
              "      <td>24</td>\n",
              "      <td>25.0</td>\n",
              "      <td>100.07</td>\n",
              "      <td>Snow Showers</td>\n",
              "      <td>SNOW</td>\n",
              "    </tr>\n",
              "    <tr>\n",
              "      <th>45</th>\n",
              "      <td>1/2/2012 21:00</td>\n",
              "      <td>-5.8</td>\n",
              "      <td>-12.8</td>\n",
              "      <td>58</td>\n",
              "      <td>26</td>\n",
              "      <td>25.0</td>\n",
              "      <td>100.15</td>\n",
              "      <td>Snow Showers</td>\n",
              "      <td>SNOW</td>\n",
              "    </tr>\n",
              "    <tr>\n",
              "      <th>47</th>\n",
              "      <td>1/2/2012 23:00</td>\n",
              "      <td>-7.4</td>\n",
              "      <td>-14.1</td>\n",
              "      <td>59</td>\n",
              "      <td>17</td>\n",
              "      <td>19.3</td>\n",
              "      <td>100.27</td>\n",
              "      <td>Snow Showers</td>\n",
              "      <td>SNOW</td>\n",
              "    </tr>\n",
              "    <tr>\n",
              "      <th>48</th>\n",
              "      <td>1/3/2012 0:00</td>\n",
              "      <td>-9.0</td>\n",
              "      <td>-16.0</td>\n",
              "      <td>57</td>\n",
              "      <td>28</td>\n",
              "      <td>25.0</td>\n",
              "      <td>100.35</td>\n",
              "      <td>Snow Showers</td>\n",
              "      <td>SNOW</td>\n",
              "    </tr>\n",
              "    <tr>\n",
              "      <th>...</th>\n",
              "      <td>...</td>\n",
              "      <td>...</td>\n",
              "      <td>...</td>\n",
              "      <td>...</td>\n",
              "      <td>...</td>\n",
              "      <td>...</td>\n",
              "      <td>...</td>\n",
              "      <td>...</td>\n",
              "      <td>...</td>\n",
              "    </tr>\n",
              "    <tr>\n",
              "      <th>8779</th>\n",
              "      <td>12/31/2012 19:00</td>\n",
              "      <td>0.1</td>\n",
              "      <td>-2.7</td>\n",
              "      <td>81</td>\n",
              "      <td>30</td>\n",
              "      <td>9.7</td>\n",
              "      <td>100.13</td>\n",
              "      <td>Snow</td>\n",
              "      <td>SNOW</td>\n",
              "    </tr>\n",
              "    <tr>\n",
              "      <th>8780</th>\n",
              "      <td>12/31/2012 20:00</td>\n",
              "      <td>0.2</td>\n",
              "      <td>-2.4</td>\n",
              "      <td>83</td>\n",
              "      <td>24</td>\n",
              "      <td>9.7</td>\n",
              "      <td>100.03</td>\n",
              "      <td>Snow</td>\n",
              "      <td>SNOW</td>\n",
              "    </tr>\n",
              "    <tr>\n",
              "      <th>8781</th>\n",
              "      <td>12/31/2012 21:00</td>\n",
              "      <td>-0.5</td>\n",
              "      <td>-1.5</td>\n",
              "      <td>93</td>\n",
              "      <td>28</td>\n",
              "      <td>4.8</td>\n",
              "      <td>99.95</td>\n",
              "      <td>Snow</td>\n",
              "      <td>SNOW</td>\n",
              "    </tr>\n",
              "    <tr>\n",
              "      <th>8782</th>\n",
              "      <td>12/31/2012 22:00</td>\n",
              "      <td>-0.2</td>\n",
              "      <td>-1.8</td>\n",
              "      <td>89</td>\n",
              "      <td>28</td>\n",
              "      <td>9.7</td>\n",
              "      <td>99.91</td>\n",
              "      <td>Snow</td>\n",
              "      <td>SNOW</td>\n",
              "    </tr>\n",
              "    <tr>\n",
              "      <th>8783</th>\n",
              "      <td>12/31/2012 23:00</td>\n",
              "      <td>0.0</td>\n",
              "      <td>-2.1</td>\n",
              "      <td>86</td>\n",
              "      <td>30</td>\n",
              "      <td>11.3</td>\n",
              "      <td>99.89</td>\n",
              "      <td>Snow</td>\n",
              "      <td>SNOW</td>\n",
              "    </tr>\n",
              "  </tbody>\n",
              "</table>\n",
              "<p>556 rows × 9 columns</p>\n",
              "</div>"
            ],
            "text/plain": [
              "             Date/Time  Temp_C  Dew Point Temp_C  Rel Hum_%  Wind Speed_km/h  \\\n",
              "41      1/2/2012 17:00    -2.1              -9.5         57               22   \n",
              "44      1/2/2012 20:00    -5.6             -13.4         54               24   \n",
              "45      1/2/2012 21:00    -5.8             -12.8         58               26   \n",
              "47      1/2/2012 23:00    -7.4             -14.1         59               17   \n",
              "48       1/3/2012 0:00    -9.0             -16.0         57               28   \n",
              "...                ...     ...               ...        ...              ...   \n",
              "8779  12/31/2012 19:00     0.1              -2.7         81               30   \n",
              "8780  12/31/2012 20:00     0.2              -2.4         83               24   \n",
              "8781  12/31/2012 21:00    -0.5              -1.5         93               28   \n",
              "8782  12/31/2012 22:00    -0.2              -1.8         89               28   \n",
              "8783  12/31/2012 23:00     0.0              -2.1         86               30   \n",
              "\n",
              "      Visibility_km  Press_kPa       Weather Std_Weather  \n",
              "41             25.0      99.66  Snow Showers        SNOW  \n",
              "44             25.0     100.07  Snow Showers        SNOW  \n",
              "45             25.0     100.15  Snow Showers        SNOW  \n",
              "47             19.3     100.27  Snow Showers        SNOW  \n",
              "48             25.0     100.35  Snow Showers        SNOW  \n",
              "...             ...        ...           ...         ...  \n",
              "8779            9.7     100.13          Snow        SNOW  \n",
              "8780            9.7     100.03          Snow        SNOW  \n",
              "8781            4.8      99.95          Snow        SNOW  \n",
              "8782            9.7      99.91          Snow        SNOW  \n",
              "8783           11.3      99.89          Snow        SNOW  \n",
              "\n",
              "[556 rows x 9 columns]"
            ]
          },
          "execution_count": 1691,
          "metadata": {},
          "output_type": "execute_result"
        }
      ],
      "source": [
        "# Creating a DataFrame 'cloudy_df' by sampling 600 rows where 'Std_Weather' is 'Cloudy'\n",
        "cloudy_df=filtered_data[filtered_data['Std_Weather']=='CLOUDY'].sample(600)\n",
        "\n",
        "# Creating a DataFrame 'clear_df' by sampling 600 rows where 'Std_Weather' is 'Clear'\n",
        "clear_df=filtered_data[filtered_data['Std_Weather']=='CLEAR'].sample(600)\n",
        "\n",
        "# Creating a DataFrame 'rain_df' containing all rows where 'Std_Weather' is 'RAIN'\n",
        "rain_df=filtered_data[filtered_data['Std_Weather']=='RAIN']\n",
        "\n",
        "# Creating a DataFrame 'snow_df' containing all rows where 'Std_Weather' is 'SNOW'\n",
        "snow_df=filtered_data[filtered_data['Std_Weather']=='SNOW']\n",
        "\n",
        "# Displaying the 'snow_df' DataFrame\n",
        "snow_df"
      ]
    },
    {
      "cell_type": "markdown",
      "metadata": {
        "id": "-0chQq31o3Br"
      },
      "source": [
        "#### Creating New Weather Dataset"
      ]
    },
    {
      "cell_type": "code",
      "execution_count": 1692,
      "metadata": {
        "colab": {
          "base_uri": "https://localhost:8080/",
          "height": 347
        },
        "id": "inJ0yVd9oxcG",
        "outputId": "bd9ae40d-8831-48e2-e57f-30d29f18ef57"
      },
      "outputs": [
        {
          "data": {
            "text/html": [
              "<div>\n",
              "<style scoped>\n",
              "    .dataframe tbody tr th:only-of-type {\n",
              "        vertical-align: middle;\n",
              "    }\n",
              "\n",
              "    .dataframe tbody tr th {\n",
              "        vertical-align: top;\n",
              "    }\n",
              "\n",
              "    .dataframe thead th {\n",
              "        text-align: right;\n",
              "    }\n",
              "</style>\n",
              "<table border=\"1\" class=\"dataframe\">\n",
              "  <thead>\n",
              "    <tr style=\"text-align: right;\">\n",
              "      <th></th>\n",
              "      <th>Date/Time</th>\n",
              "      <th>Temp_C</th>\n",
              "      <th>Dew Point Temp_C</th>\n",
              "      <th>Rel Hum_%</th>\n",
              "      <th>Wind Speed_km/h</th>\n",
              "      <th>Visibility_km</th>\n",
              "      <th>Press_kPa</th>\n",
              "      <th>Weather</th>\n",
              "      <th>Std_Weather</th>\n",
              "    </tr>\n",
              "  </thead>\n",
              "  <tbody>\n",
              "    <tr>\n",
              "      <th>8581</th>\n",
              "      <td>12/23/2012 13:00</td>\n",
              "      <td>-7.4</td>\n",
              "      <td>-12.4</td>\n",
              "      <td>67</td>\n",
              "      <td>20</td>\n",
              "      <td>24.1</td>\n",
              "      <td>100.37</td>\n",
              "      <td>Mostly Cloudy</td>\n",
              "      <td>CLOUDY</td>\n",
              "    </tr>\n",
              "    <tr>\n",
              "      <th>7618</th>\n",
              "      <td>11/13/2012 10:00</td>\n",
              "      <td>4.7</td>\n",
              "      <td>-1.3</td>\n",
              "      <td>65</td>\n",
              "      <td>37</td>\n",
              "      <td>24.1</td>\n",
              "      <td>102.07</td>\n",
              "      <td>Mostly Cloudy</td>\n",
              "      <td>CLOUDY</td>\n",
              "    </tr>\n",
              "    <tr>\n",
              "      <th>3898</th>\n",
              "      <td>6/11/2012 10:00</td>\n",
              "      <td>24.8</td>\n",
              "      <td>16.3</td>\n",
              "      <td>59</td>\n",
              "      <td>4</td>\n",
              "      <td>24.1</td>\n",
              "      <td>101.58</td>\n",
              "      <td>Mostly Cloudy</td>\n",
              "      <td>CLOUDY</td>\n",
              "    </tr>\n",
              "    <tr>\n",
              "      <th>4443</th>\n",
              "      <td>7/4/2012 3:00</td>\n",
              "      <td>19.3</td>\n",
              "      <td>16.4</td>\n",
              "      <td>83</td>\n",
              "      <td>13</td>\n",
              "      <td>25.0</td>\n",
              "      <td>100.19</td>\n",
              "      <td>Cloudy</td>\n",
              "      <td>CLOUDY</td>\n",
              "    </tr>\n",
              "    <tr>\n",
              "      <th>1262</th>\n",
              "      <td>2/22/2012 14:00</td>\n",
              "      <td>6.1</td>\n",
              "      <td>-1.4</td>\n",
              "      <td>59</td>\n",
              "      <td>17</td>\n",
              "      <td>24.1</td>\n",
              "      <td>99.32</td>\n",
              "      <td>Mostly Cloudy</td>\n",
              "      <td>CLOUDY</td>\n",
              "    </tr>\n",
              "  </tbody>\n",
              "</table>\n",
              "</div>"
            ],
            "text/plain": [
              "             Date/Time  Temp_C  Dew Point Temp_C  Rel Hum_%  Wind Speed_km/h  \\\n",
              "8581  12/23/2012 13:00    -7.4             -12.4         67               20   \n",
              "7618  11/13/2012 10:00     4.7              -1.3         65               37   \n",
              "3898   6/11/2012 10:00    24.8              16.3         59                4   \n",
              "4443     7/4/2012 3:00    19.3              16.4         83               13   \n",
              "1262   2/22/2012 14:00     6.1              -1.4         59               17   \n",
              "\n",
              "      Visibility_km  Press_kPa        Weather Std_Weather  \n",
              "8581           24.1     100.37  Mostly Cloudy      CLOUDY  \n",
              "7618           24.1     102.07  Mostly Cloudy      CLOUDY  \n",
              "3898           24.1     101.58  Mostly Cloudy      CLOUDY  \n",
              "4443           25.0     100.19         Cloudy      CLOUDY  \n",
              "1262           24.1      99.32  Mostly Cloudy      CLOUDY  "
            ]
          },
          "execution_count": 1692,
          "metadata": {},
          "output_type": "execute_result"
        }
      ],
      "source": [
        "# Concatenating the DataFrames vertically along axis 0 to create 'weather_df'\n",
        "weather_df=pd.concat([cloudy_df,clear_df,rain_df,snow_df],axis=0)\n",
        "\n",
        "# Displaying the first few rows of the new 'weather_df' DataFrame\n",
        "weather_df.head()"
      ]
    },
    {
      "cell_type": "code",
      "execution_count": 1693,
      "metadata": {
        "colab": {
          "base_uri": "https://localhost:8080/"
        },
        "id": "duLq-7BDpExy",
        "outputId": "9c259039-2bdf-4fa1-8a17-60f0269d803c"
      },
      "outputs": [
        {
          "data": {
            "text/plain": [
              "(2359, 9)"
            ]
          },
          "execution_count": 1693,
          "metadata": {},
          "output_type": "execute_result"
        }
      ],
      "source": [
        "# Displaying the shape (number of rows and columns) of the new 'weather_df' DataFrame\n",
        "weather_df.shape"
      ]
    },
    {
      "cell_type": "code",
      "execution_count": 1694,
      "metadata": {
        "colab": {
          "base_uri": "https://localhost:8080/"
        },
        "id": "IU49O3dVpHci",
        "outputId": "5c723d92-aec9-4e47-c9a0-d8e14cdb879f"
      },
      "outputs": [
        {
          "data": {
            "text/plain": [
              "Std_Weather\n",
              "RAIN      603\n",
              "CLOUDY    600\n",
              "CLEAR     600\n",
              "SNOW      556\n",
              "Name: count, dtype: int64"
            ]
          },
          "execution_count": 1694,
          "metadata": {},
          "output_type": "execute_result"
        }
      ],
      "source": [
        "# Displaying the count of each unique value in the 'Std_Weather' column of the new 'weather_df' DataFrame\n",
        "weather_df.Std_Weather.value_counts()"
      ]
    },
    {
      "cell_type": "code",
      "execution_count": 1695,
      "metadata": {
        "id": "6LTUr7z4poQl"
      },
      "outputs": [],
      "source": [
        "# Dropping the 'Weather' column from the new 'weather_df' DataFrame\n",
        "weather_df.drop(columns=['Weather','Date/Time'],axis=1,inplace=True)"
      ]
    },
    {
      "cell_type": "code",
      "execution_count": 1696,
      "metadata": {
        "colab": {
          "base_uri": "https://localhost:8080/",
          "height": 261
        },
        "id": "UC-OkgQ-pr7l",
        "outputId": "cd135595-1577-4cd6-f6a4-64b68128b1d9"
      },
      "outputs": [
        {
          "data": {
            "text/html": [
              "<div>\n",
              "<style scoped>\n",
              "    .dataframe tbody tr th:only-of-type {\n",
              "        vertical-align: middle;\n",
              "    }\n",
              "\n",
              "    .dataframe tbody tr th {\n",
              "        vertical-align: top;\n",
              "    }\n",
              "\n",
              "    .dataframe thead th {\n",
              "        text-align: right;\n",
              "    }\n",
              "</style>\n",
              "<table border=\"1\" class=\"dataframe\">\n",
              "  <thead>\n",
              "    <tr style=\"text-align: right;\">\n",
              "      <th></th>\n",
              "      <th>Temp_C</th>\n",
              "      <th>Dew Point Temp_C</th>\n",
              "      <th>Rel Hum_%</th>\n",
              "      <th>Wind Speed_km/h</th>\n",
              "      <th>Visibility_km</th>\n",
              "      <th>Press_kPa</th>\n",
              "      <th>Std_Weather</th>\n",
              "    </tr>\n",
              "  </thead>\n",
              "  <tbody>\n",
              "    <tr>\n",
              "      <th>8581</th>\n",
              "      <td>-7.4</td>\n",
              "      <td>-12.4</td>\n",
              "      <td>67</td>\n",
              "      <td>20</td>\n",
              "      <td>24.1</td>\n",
              "      <td>100.37</td>\n",
              "      <td>CLOUDY</td>\n",
              "    </tr>\n",
              "    <tr>\n",
              "      <th>7618</th>\n",
              "      <td>4.7</td>\n",
              "      <td>-1.3</td>\n",
              "      <td>65</td>\n",
              "      <td>37</td>\n",
              "      <td>24.1</td>\n",
              "      <td>102.07</td>\n",
              "      <td>CLOUDY</td>\n",
              "    </tr>\n",
              "    <tr>\n",
              "      <th>3898</th>\n",
              "      <td>24.8</td>\n",
              "      <td>16.3</td>\n",
              "      <td>59</td>\n",
              "      <td>4</td>\n",
              "      <td>24.1</td>\n",
              "      <td>101.58</td>\n",
              "      <td>CLOUDY</td>\n",
              "    </tr>\n",
              "    <tr>\n",
              "      <th>4443</th>\n",
              "      <td>19.3</td>\n",
              "      <td>16.4</td>\n",
              "      <td>83</td>\n",
              "      <td>13</td>\n",
              "      <td>25.0</td>\n",
              "      <td>100.19</td>\n",
              "      <td>CLOUDY</td>\n",
              "    </tr>\n",
              "    <tr>\n",
              "      <th>1262</th>\n",
              "      <td>6.1</td>\n",
              "      <td>-1.4</td>\n",
              "      <td>59</td>\n",
              "      <td>17</td>\n",
              "      <td>24.1</td>\n",
              "      <td>99.32</td>\n",
              "      <td>CLOUDY</td>\n",
              "    </tr>\n",
              "  </tbody>\n",
              "</table>\n",
              "</div>"
            ],
            "text/plain": [
              "      Temp_C  Dew Point Temp_C  Rel Hum_%  Wind Speed_km/h  Visibility_km  \\\n",
              "8581    -7.4             -12.4         67               20           24.1   \n",
              "7618     4.7              -1.3         65               37           24.1   \n",
              "3898    24.8              16.3         59                4           24.1   \n",
              "4443    19.3              16.4         83               13           25.0   \n",
              "1262     6.1              -1.4         59               17           24.1   \n",
              "\n",
              "      Press_kPa Std_Weather  \n",
              "8581     100.37      CLOUDY  \n",
              "7618     102.07      CLOUDY  \n",
              "3898     101.58      CLOUDY  \n",
              "4443     100.19      CLOUDY  \n",
              "1262      99.32      CLOUDY  "
            ]
          },
          "execution_count": 1696,
          "metadata": {},
          "output_type": "execute_result"
        }
      ],
      "source": [
        "# Check whether the Weather column is deleted or not\n",
        "weather_df.head()"
      ]
    },
    {
      "cell_type": "markdown",
      "metadata": {
        "id": "1cv1Yz7PpxRf"
      },
      "source": [
        "#### Duplicate Records"
      ]
    },
    {
      "cell_type": "code",
      "execution_count": 1697,
      "metadata": {
        "colab": {
          "base_uri": "https://localhost:8080/",
          "height": 84
        },
        "id": "ZVMQL7uPp3jg",
        "outputId": "1823d852-8b9a-42aa-8393-66d4d9b340b4"
      },
      "outputs": [
        {
          "data": {
            "text/html": [
              "<div>\n",
              "<style scoped>\n",
              "    .dataframe tbody tr th:only-of-type {\n",
              "        vertical-align: middle;\n",
              "    }\n",
              "\n",
              "    .dataframe tbody tr th {\n",
              "        vertical-align: top;\n",
              "    }\n",
              "\n",
              "    .dataframe thead th {\n",
              "        text-align: right;\n",
              "    }\n",
              "</style>\n",
              "<table border=\"1\" class=\"dataframe\">\n",
              "  <thead>\n",
              "    <tr style=\"text-align: right;\">\n",
              "      <th></th>\n",
              "      <th>Temp_C</th>\n",
              "      <th>Dew Point Temp_C</th>\n",
              "      <th>Rel Hum_%</th>\n",
              "      <th>Wind Speed_km/h</th>\n",
              "      <th>Visibility_km</th>\n",
              "      <th>Press_kPa</th>\n",
              "      <th>Std_Weather</th>\n",
              "    </tr>\n",
              "  </thead>\n",
              "  <tbody>\n",
              "  </tbody>\n",
              "</table>\n",
              "</div>"
            ],
            "text/plain": [
              "Empty DataFrame\n",
              "Columns: [Temp_C, Dew Point Temp_C, Rel Hum_%, Wind Speed_km/h, Visibility_km, Press_kPa, Std_Weather]\n",
              "Index: []"
            ]
          },
          "execution_count": 1697,
          "metadata": {},
          "output_type": "execute_result"
        }
      ],
      "source": [
        "# Displaying rows in the new 'weather_df' DataFrame that are duplicates\n",
        "weather_df[weather_df.duplicated()]"
      ]
    },
    {
      "cell_type": "markdown",
      "metadata": {
        "id": "5vAXH5ULqN04"
      },
      "source": [
        "#### Null/Missing Values"
      ]
    },
    {
      "cell_type": "code",
      "execution_count": 1698,
      "metadata": {
        "colab": {
          "base_uri": "https://localhost:8080/"
        },
        "id": "QgfGfFUep6ei",
        "outputId": "7d12254b-9e8c-46a6-833a-51dd3881d951"
      },
      "outputs": [
        {
          "data": {
            "text/plain": [
              "Temp_C              0\n",
              "Dew Point Temp_C    0\n",
              "Rel Hum_%           0\n",
              "Wind Speed_km/h     0\n",
              "Visibility_km       0\n",
              "Press_kPa           0\n",
              "Std_Weather         0\n",
              "dtype: int64"
            ]
          },
          "execution_count": 1698,
          "metadata": {},
          "output_type": "execute_result"
        }
      ],
      "source": [
        "# Counting the number of missing values in each column of the new 'weather_df' DataFrame\n",
        "weather_df.isnull().sum()"
      ]
    },
    {
      "cell_type": "code",
      "execution_count": 1699,
      "metadata": {
        "colab": {
          "base_uri": "https://localhost:8080/"
        },
        "id": "dGXiFlBeqVDA",
        "outputId": "ef09a4af-eca1-4689-d671-c678476e3c8a"
      },
      "outputs": [
        {
          "data": {
            "text/plain": [
              "Temp_C              float64\n",
              "Dew Point Temp_C    float64\n",
              "Rel Hum_%             int64\n",
              "Wind Speed_km/h       int64\n",
              "Visibility_km       float64\n",
              "Press_kPa           float64\n",
              "Std_Weather          object\n",
              "dtype: object"
            ]
          },
          "execution_count": 1699,
          "metadata": {},
          "output_type": "execute_result"
        }
      ],
      "source": [
        "# Displaying the data types of each column in the new 'weather_df' DataFrame\n",
        "weather_df.dtypes"
      ]
    },
    {
      "cell_type": "markdown",
      "metadata": {
        "id": "ZGHvvm4oqvYk"
      },
      "source": [
        "#### Correlation among the features"
      ]
    },
    {
      "cell_type": "code",
      "execution_count": 1700,
      "metadata": {
        "id": "2uixhCGcqXH0"
      },
      "outputs": [
        {
          "data": {
            "text/html": [
              "<div>\n",
              "<style scoped>\n",
              "    .dataframe tbody tr th:only-of-type {\n",
              "        vertical-align: middle;\n",
              "    }\n",
              "\n",
              "    .dataframe tbody tr th {\n",
              "        vertical-align: top;\n",
              "    }\n",
              "\n",
              "    .dataframe thead th {\n",
              "        text-align: right;\n",
              "    }\n",
              "</style>\n",
              "<table border=\"1\" class=\"dataframe\">\n",
              "  <thead>\n",
              "    <tr style=\"text-align: right;\">\n",
              "      <th></th>\n",
              "      <th>Temp_C</th>\n",
              "      <th>Dew Point Temp_C</th>\n",
              "      <th>Rel Hum_%</th>\n",
              "      <th>Wind Speed_km/h</th>\n",
              "      <th>Visibility_km</th>\n",
              "      <th>Press_kPa</th>\n",
              "    </tr>\n",
              "  </thead>\n",
              "  <tbody>\n",
              "    <tr>\n",
              "      <th>Temp_C</th>\n",
              "      <td>1.000000</td>\n",
              "      <td>0.941697</td>\n",
              "      <td>-0.223585</td>\n",
              "      <td>-0.150444</td>\n",
              "      <td>0.397287</td>\n",
              "      <td>-0.096167</td>\n",
              "    </tr>\n",
              "    <tr>\n",
              "      <th>Dew Point Temp_C</th>\n",
              "      <td>0.941697</td>\n",
              "      <td>1.000000</td>\n",
              "      <td>0.111345</td>\n",
              "      <td>-0.145876</td>\n",
              "      <td>0.184781</td>\n",
              "      <td>-0.207695</td>\n",
              "    </tr>\n",
              "    <tr>\n",
              "      <th>Rel Hum_%</th>\n",
              "      <td>-0.223585</td>\n",
              "      <td>0.111345</td>\n",
              "      <td>1.000000</td>\n",
              "      <td>0.030165</td>\n",
              "      <td>-0.661089</td>\n",
              "      <td>-0.344172</td>\n",
              "    </tr>\n",
              "    <tr>\n",
              "      <th>Wind Speed_km/h</th>\n",
              "      <td>-0.150444</td>\n",
              "      <td>-0.145876</td>\n",
              "      <td>0.030165</td>\n",
              "      <td>1.000000</td>\n",
              "      <td>-0.138256</td>\n",
              "      <td>-0.372045</td>\n",
              "    </tr>\n",
              "    <tr>\n",
              "      <th>Visibility_km</th>\n",
              "      <td>0.397287</td>\n",
              "      <td>0.184781</td>\n",
              "      <td>-0.661089</td>\n",
              "      <td>-0.138256</td>\n",
              "      <td>1.000000</td>\n",
              "      <td>0.328137</td>\n",
              "    </tr>\n",
              "    <tr>\n",
              "      <th>Press_kPa</th>\n",
              "      <td>-0.096167</td>\n",
              "      <td>-0.207695</td>\n",
              "      <td>-0.344172</td>\n",
              "      <td>-0.372045</td>\n",
              "      <td>0.328137</td>\n",
              "      <td>1.000000</td>\n",
              "    </tr>\n",
              "  </tbody>\n",
              "</table>\n",
              "</div>"
            ],
            "text/plain": [
              "                    Temp_C  Dew Point Temp_C  Rel Hum_%  Wind Speed_km/h  \\\n",
              "Temp_C            1.000000          0.941697  -0.223585        -0.150444   \n",
              "Dew Point Temp_C  0.941697          1.000000   0.111345        -0.145876   \n",
              "Rel Hum_%        -0.223585          0.111345   1.000000         0.030165   \n",
              "Wind Speed_km/h  -0.150444         -0.145876   0.030165         1.000000   \n",
              "Visibility_km     0.397287          0.184781  -0.661089        -0.138256   \n",
              "Press_kPa        -0.096167         -0.207695  -0.344172        -0.372045   \n",
              "\n",
              "                  Visibility_km  Press_kPa  \n",
              "Temp_C                 0.397287  -0.096167  \n",
              "Dew Point Temp_C       0.184781  -0.207695  \n",
              "Rel Hum_%             -0.661089  -0.344172  \n",
              "Wind Speed_km/h       -0.138256  -0.372045  \n",
              "Visibility_km          1.000000   0.328137  \n",
              "Press_kPa              0.328137   1.000000  "
            ]
          },
          "execution_count": 1700,
          "metadata": {},
          "output_type": "execute_result"
        }
      ],
      "source": [
        "# Defining a list of column names to select specific columns from the new 'weather_df' DataFrame\n",
        "cols=['Temp_C','Dew Point Temp_C','Rel Hum_%','Wind Speed_km/h','Visibility_km','Press_kPa']\n",
        "\n",
        "# Calculating the correlation matrix for selected columns in the 'weather_df' DataFrame\n",
        "cor_matrix=weather_df[cols].corr()\n",
        "\n",
        "# Display the correlation matrix for selected columns in the 'weather_df' DataFrame\n",
        "cor_matrix"
      ]
    },
    {
      "cell_type": "code",
      "execution_count": 1701,
      "metadata": {
        "colab": {
          "base_uri": "https://localhost:8080/",
          "height": 566
        },
        "id": "EJ-GmUrArau8",
        "outputId": "68dce599-dbf1-4376-87b1-e909381f927a"
      },
      "outputs": [
        {
          "data": {
            "text/plain": [
              "<Axes: >"
            ]
          },
          "execution_count": 1701,
          "metadata": {},
          "output_type": "execute_result"
        },
        {
          "data": {
            "image/png": "[encoded data removed]",
            "text/plain": [
              "<Figure size 640x480 with 2 Axes>"
            ]
          },
          "metadata": {},
          "output_type": "display_data"
        }
      ],
      "source": [
        "# Creating a heatmap visualization of the correlation matrix with annotations\n",
        "sns.heatmap(cor_matrix,annot=True)"
      ]
    },
    {
      "cell_type": "code",
      "execution_count": 1702,
      "metadata": {},
      "outputs": [
        {
          "name": "stderr",
          "output_type": "stream",
          "text": [
            "c:\\Users\\ADMIN\\anaconda3\\envs\\myenv3.9\\lib\\site-packages\\seaborn\\_oldcore.py:1498: FutureWarning: is_categorical_dtype is deprecated and will be removed in a future version. Use isinstance(dtype, CategoricalDtype) instead\n",
            "  if pd.api.types.is_categorical_dtype(vector):\n",
            "c:\\Users\\ADMIN\\anaconda3\\envs\\myenv3.9\\lib\\site-packages\\seaborn\\_oldcore.py:1498: FutureWarning: is_categorical_dtype is deprecated and will be removed in a future version. Use isinstance(dtype, CategoricalDtype) instead\n",
            "  if pd.api.types.is_categorical_dtype(vector):\n",
            "c:\\Users\\ADMIN\\anaconda3\\envs\\myenv3.9\\lib\\site-packages\\seaborn\\_oldcore.py:1498: FutureWarning: is_categorical_dtype is deprecated and will be removed in a future version. Use isinstance(dtype, CategoricalDtype) instead\n",
            "  if pd.api.types.is_categorical_dtype(vector):\n",
            "c:\\Users\\ADMIN\\anaconda3\\envs\\myenv3.9\\lib\\site-packages\\seaborn\\_oldcore.py:1498: FutureWarning: is_categorical_dtype is deprecated and will be removed in a future version. Use isinstance(dtype, CategoricalDtype) instead\n",
            "  if pd.api.types.is_categorical_dtype(vector):\n",
            "c:\\Users\\ADMIN\\anaconda3\\envs\\myenv3.9\\lib\\site-packages\\seaborn\\_oldcore.py:1498: FutureWarning: is_categorical_dtype is deprecated and will be removed in a future version. Use isinstance(dtype, CategoricalDtype) instead\n",
            "  if pd.api.types.is_categorical_dtype(vector):\n"
          ]
        },
        {
          "data": {
            "image/png": "[encoded data removed]",
            "text/plain": [
              "<Figure size 1000x600 with 1 Axes>"
            ]
          },
          "metadata": {},
          "output_type": "display_data"
        }
      ],
      "source": [
        "import matplotlib.pyplot as plt\n",
        "import seaborn as sns\n",
        "\n",
        "# Assuming 'filtered_data' is a DataFrame containing the mentioned columns\n",
        "\n",
        "# Create a scatter plot\n",
        "plt.figure(figsize=(10, 6))\n",
        "scatter = sns.scatterplot(x='Wind Speed_km/h', y='Visibility_km', hue='Std_Weather', data=weather_df, palette='viridis', s=80)\n",
        "\n",
        "# Set plot labels and title\n",
        "plt.xlabel('Wind Speed (km/h)')\n",
        "plt.ylabel('Visibility (km)')\n",
        "plt.title('Scatter Plot of Weather Data based on Std_Weather')\n",
        "\n",
        "# Add legend\n",
        "scatter.legend(loc='upper right', bbox_to_anchor=(1.25, 1))\n",
        "\n",
        "# Show the plot\n",
        "plt.show()\n"
      ]
    },
    {
      "cell_type": "code",
      "execution_count": 1703,
      "metadata": {},
      "outputs": [
        {
          "name": "stderr",
          "output_type": "stream",
          "text": [
            "c:\\Users\\ADMIN\\anaconda3\\envs\\myenv3.9\\lib\\site-packages\\seaborn\\_oldcore.py:1498: FutureWarning: is_categorical_dtype is deprecated and will be removed in a future version. Use isinstance(dtype, CategoricalDtype) instead\n",
            "  if pd.api.types.is_categorical_dtype(vector):\n",
            "c:\\Users\\ADMIN\\anaconda3\\envs\\myenv3.9\\lib\\site-packages\\seaborn\\_oldcore.py:1498: FutureWarning: is_categorical_dtype is deprecated and will be removed in a future version. Use isinstance(dtype, CategoricalDtype) instead\n",
            "  if pd.api.types.is_categorical_dtype(vector):\n",
            "c:\\Users\\ADMIN\\anaconda3\\envs\\myenv3.9\\lib\\site-packages\\seaborn\\_oldcore.py:1498: FutureWarning: is_categorical_dtype is deprecated and will be removed in a future version. Use isinstance(dtype, CategoricalDtype) instead\n",
            "  if pd.api.types.is_categorical_dtype(vector):\n",
            "c:\\Users\\ADMIN\\anaconda3\\envs\\myenv3.9\\lib\\site-packages\\seaborn\\_oldcore.py:1498: FutureWarning: is_categorical_dtype is deprecated and will be removed in a future version. Use isinstance(dtype, CategoricalDtype) instead\n",
            "  if pd.api.types.is_categorical_dtype(vector):\n",
            "c:\\Users\\ADMIN\\anaconda3\\envs\\myenv3.9\\lib\\site-packages\\seaborn\\_oldcore.py:1498: FutureWarning: is_categorical_dtype is deprecated and will be removed in a future version. Use isinstance(dtype, CategoricalDtype) instead\n",
            "  if pd.api.types.is_categorical_dtype(vector):\n"
          ]
        },
        {
          "data": {
            "image/png": "[encoded data removed]",
            "text/plain": [
              "<Figure size 1000x600 with 1 Axes>"
            ]
          },
          "metadata": {},
          "output_type": "display_data"
        }
      ],
      "source": [
        "\n",
        "# Create a scatter plot\n",
        "plt.figure(figsize=(10, 6))\n",
        "scatter = sns.scatterplot(x='Temp_C', y='Dew Point Temp_C', hue='Std_Weather', data=weather_df, palette='viridis', s=80)\n",
        "\n",
        "# Set plot labels and title\n",
        "plt.xlabel('Temp_C')\n",
        "plt.ylabel('Dew Point Temp_C')\n",
        "plt.title('Scatter Plot of Weather Data based on Std_Weather')\n",
        "\n",
        "# Add legend\n",
        "scatter.legend(loc='upper right', bbox_to_anchor=(1.25, 1))\n",
        "\n",
        "# Show the plot\n",
        "plt.show()"
      ]
    },
    {
      "cell_type": "code",
      "execution_count": 1704,
      "metadata": {
        "colab": {
          "base_uri": "https://localhost:8080/"
        },
        "id": "VxnJWFqFrvrS",
        "outputId": "4a3dabfe-8a21-4d0f-ebd3-b1eacc093129"
      },
      "outputs": [
        {
          "data": {
            "text/plain": [
              "Index(['Temp_C', 'Dew Point Temp_C', 'Rel Hum_%', 'Wind Speed_km/h',\n",
              "       'Visibility_km', 'Press_kPa', 'Std_Weather'],\n",
              "      dtype='object')"
            ]
          },
          "execution_count": 1704,
          "metadata": {},
          "output_type": "execute_result"
        }
      ],
      "source": [
        "# Displaying the column names of the 'weather_df' DataFrame\n",
        "weather_df.columns"
      ]
    },
    {
      "cell_type": "code",
      "execution_count": 1705,
      "metadata": {
        "colab": {
          "base_uri": "https://localhost:8080/",
          "height": 447
        },
        "id": "YKY-_ZywsC2Z",
        "outputId": "b44dc313-af60-41fa-8264-9dcafacb66db"
      },
      "outputs": [
        {
          "data": {
            "text/plain": [
              "<Axes: ylabel='Frequency'>"
            ]
          },
          "execution_count": 1705,
          "metadata": {},
          "output_type": "execute_result"
        },
        {
          "data": {
            "image/png": "[encoded data removed]",
            "text/plain": [
              "<Figure size 640x480 with 1 Axes>"
            ]
          },
          "metadata": {},
          "output_type": "display_data"
        }
      ],
      "source": [
        "# Displaying a histogram of the 'Temp_C' column in the 'weather_df' DataFrame\n",
        "weather_df['Temp_C'].plot(kind='hist')"
      ]
    },
    {
      "cell_type": "code",
      "execution_count": 1706,
      "metadata": {
        "colab": {
          "base_uri": "https://localhost:8080/",
          "height": 447
        },
        "id": "p-4QLE4DsF-U",
        "outputId": "5da3aca9-742a-4386-b3ff-fe6e799eb6e3"
      },
      "outputs": [
        {
          "data": {
            "text/plain": [
              "<Axes: ylabel='Frequency'>"
            ]
          },
          "execution_count": 1706,
          "metadata": {},
          "output_type": "execute_result"
        },
        {
          "data": {
            "image/png": "[encoded data removed]",
            "text/plain": [
              "<Figure size 640x480 with 1 Axes>"
            ]
          },
          "metadata": {},
          "output_type": "display_data"
        }
      ],
      "source": [
        "# Displaying a histogram of the 'Dew Point Temp_C' column in the 'weather_df' DataFrame\n",
        "weather_df['Dew Point Temp_C'].plot(kind='hist')"
      ]
    },
    {
      "cell_type": "code",
      "execution_count": 1707,
      "metadata": {
        "colab": {
          "base_uri": "https://localhost:8080/",
          "height": 447
        },
        "id": "LM7r92jusLMT",
        "outputId": "f7bfc437-c5c1-427d-81d6-99df1196bf7c"
      },
      "outputs": [
        {
          "data": {
            "text/plain": [
              "<Axes: ylabel='Frequency'>"
            ]
          },
          "execution_count": 1707,
          "metadata": {},
          "output_type": "execute_result"
        },
        {
          "data": {
            "image/png": "[encoded data removed]",
            "text/plain": [
              "<Figure size 640x480 with 1 Axes>"
            ]
          },
          "metadata": {},
          "output_type": "display_data"
        }
      ],
      "source": [
        "# Displaying a histogram of the 'Rel Hum_%' column in the 'weather_df' DataFrame\n",
        "weather_df['Rel Hum_%'].plot(kind='hist')"
      ]
    },
    {
      "cell_type": "code",
      "execution_count": 1708,
      "metadata": {
        "colab": {
          "base_uri": "https://localhost:8080/",
          "height": 447
        },
        "id": "lstrHDLYsPgO",
        "outputId": "80a9d480-ad01-4277-ceac-5c068b7b6600"
      },
      "outputs": [
        {
          "data": {
            "text/plain": [
              "<Axes: ylabel='Frequency'>"
            ]
          },
          "execution_count": 1708,
          "metadata": {},
          "output_type": "execute_result"
        },
        {
          "data": {
            "image/png": "[encoded data removed]",
            "text/plain": [
              "<Figure size 640x480 with 1 Axes>"
            ]
          },
          "metadata": {},
          "output_type": "display_data"
        }
      ],
      "source": [
        "# Displaying a histogram of the 'Wind Speed_km/h' column in the 'weather_df' DataFrame\n",
        "weather_df['Wind Speed_km/h'].plot(kind='hist')"
      ]
    },
    {
      "cell_type": "code",
      "execution_count": 1709,
      "metadata": {
        "colab": {
          "base_uri": "https://localhost:8080/",
          "height": 447
        },
        "id": "B_wQHJirsRtZ",
        "outputId": "51c6f266-385a-43b6-8a70-2de7a77a2c07"
      },
      "outputs": [
        {
          "data": {
            "text/plain": [
              "<Axes: ylabel='Frequency'>"
            ]
          },
          "execution_count": 1709,
          "metadata": {},
          "output_type": "execute_result"
        },
        {
          "data": {
            "image/png": "[encoded data removed]",
            "text/plain": [
              "<Figure size 640x480 with 1 Axes>"
            ]
          },
          "metadata": {},
          "output_type": "display_data"
        }
      ],
      "source": [
        "# Displaying a histogram of the 'Visibility_km' column in the 'weather_df' DataFrame\n",
        "weather_df['Visibility_km'].plot(kind='hist')"
      ]
    },
    {
      "cell_type": "code",
      "execution_count": 1710,
      "metadata": {
        "colab": {
          "base_uri": "https://localhost:8080/",
          "height": 447
        },
        "id": "WhNlj6mlsVcV",
        "outputId": "fa571b16-745d-4d41-8435-fc0dfd633722"
      },
      "outputs": [
        {
          "data": {
            "text/plain": [
              "<Axes: ylabel='Frequency'>"
            ]
          },
          "execution_count": 1710,
          "metadata": {},
          "output_type": "execute_result"
        },
        {
          "data": {
            "image/png": "[encoded data removed]",
            "text/plain": [
              "<Figure size 640x480 with 1 Axes>"
            ]
          },
          "metadata": {},
          "output_type": "display_data"
        }
      ],
      "source": [
        "# Displaying a histogram of the 'Press_kPa' column in the 'weather_df' DataFrame\n",
        "weather_df['Press_kPa'].plot(kind='hist')"
      ]
    },
    {
      "cell_type": "markdown",
      "metadata": {},
      "source": [
        "### Outlier Treatment"
      ]
    },
    {
      "cell_type": "markdown",
      "metadata": {},
      "source": [
        "##### Remove outliers from feature Visibility_km"
      ]
    },
    {
      "cell_type": "code",
      "execution_count": 1711,
      "metadata": {
        "id": "UZyJB7ZdLJhV"
      },
      "outputs": [],
      "source": [
        "# Calculating the first quartile (q1), third quartile (q3) and  interquartile range (iqr) for 'Visibility_km' colum\n",
        "q1=weather_df['Visibility_km'].quantile(0.25)\n",
        "q3=weather_df['Visibility_km'].quantile(0.75)\n",
        "iqr=q3-q1\n"
      ]
    },
    {
      "cell_type": "code",
      "execution_count": 1712,
      "metadata": {
        "colab": {
          "base_uri": "https://localhost:8080/"
        },
        "id": "qLAqS-QXMWZv",
        "outputId": "25bde573-7769-4cd5-9e7b-9999cbe7dfba"
      },
      "outputs": [
        {
          "data": {
            "text/plain": [
              "(16.1, 25.0, 8.899999999999999)"
            ]
          },
          "execution_count": 1712,
          "metadata": {},
          "output_type": "execute_result"
        }
      ],
      "source": [
        "# Displaying the values of q1, q3 and iqr\n",
        "q1,q3,iqr"
      ]
    },
    {
      "cell_type": "code",
      "execution_count": 1713,
      "metadata": {
        "colab": {
          "base_uri": "https://localhost:8080/"
        },
        "id": "mkQFsggjMWNH",
        "outputId": "27d6caf7-065e-4354-f8ce-63c1eb3d70fd"
      },
      "outputs": [
        {
          "data": {
            "text/plain": [
              "(2.7500000000000036, 38.349999999999994)"
            ]
          },
          "execution_count": 1713,
          "metadata": {},
          "output_type": "execute_result"
        }
      ],
      "source": [
        "# Calculating and displaying the upper and limit for potential outliers\n",
        "upper_limit=q3+(1.5*iqr)\n",
        "lower_limit=q1-(1.5*iqr)\n",
        "lower_limit,upper_limit\n"
      ]
    },
    {
      "cell_type": "code",
      "execution_count": 1714,
      "metadata": {
        "colab": {
          "base_uri": "https://localhost:8080/",
          "height": 450
        },
        "id": "PB8HOcRtMWFB",
        "outputId": "24fdc59b-a003-4c68-8785-21bb011bb9dd"
      },
      "outputs": [
        {
          "name": "stderr",
          "output_type": "stream",
          "text": [
            "c:\\Users\\ADMIN\\anaconda3\\envs\\myenv3.9\\lib\\site-packages\\seaborn\\_oldcore.py:1498: FutureWarning: is_categorical_dtype is deprecated and will be removed in a future version. Use isinstance(dtype, CategoricalDtype) instead\n",
            "  if pd.api.types.is_categorical_dtype(vector):\n"
          ]
        },
        {
          "data": {
            "image/png": "[encoded data removed]",
            "text/plain": [
              "<Figure size 640x480 with 1 Axes>"
            ]
          },
          "metadata": {},
          "output_type": "display_data"
        }
      ],
      "source": [
        "# Creating a box plot for the 'Visibility_km' column\n",
        "# Checking if 'Visibility_km' is a column in the 'weather_df' DataFrame\n",
        "if 'Visibility_km' in weather_df.columns:\n",
        "    sns.boxplot(x=weather_df['Visibility_km']) \n",
        "else:\n",
        "    print(\"Column 'Visibility_km' not found in the DataFrame.\") "
      ]
    },
    {
      "cell_type": "code",
      "execution_count": 1715,
      "metadata": {
        "colab": {
          "base_uri": "https://localhost:8080/",
          "height": 478
        },
        "id": "h_11kacVMV64",
        "outputId": "e0da8139-eeaa-43f7-d153-039d55510591"
      },
      "outputs": [
        {
          "data": {
            "text/html": [
              "<div>\n",
              "<style scoped>\n",
              "    .dataframe tbody tr th:only-of-type {\n",
              "        vertical-align: middle;\n",
              "    }\n",
              "\n",
              "    .dataframe tbody tr th {\n",
              "        vertical-align: top;\n",
              "    }\n",
              "\n",
              "    .dataframe thead th {\n",
              "        text-align: right;\n",
              "    }\n",
              "</style>\n",
              "<table border=\"1\" class=\"dataframe\">\n",
              "  <thead>\n",
              "    <tr style=\"text-align: right;\">\n",
              "      <th></th>\n",
              "      <th>Temp_C</th>\n",
              "      <th>Dew Point Temp_C</th>\n",
              "      <th>Rel Hum_%</th>\n",
              "      <th>Wind Speed_km/h</th>\n",
              "      <th>Visibility_km</th>\n",
              "      <th>Press_kPa</th>\n",
              "      <th>Std_Weather</th>\n",
              "    </tr>\n",
              "  </thead>\n",
              "  <tbody>\n",
              "    <tr>\n",
              "      <th>6345</th>\n",
              "      <td>16.0</td>\n",
              "      <td>12.4</td>\n",
              "      <td>79</td>\n",
              "      <td>15</td>\n",
              "      <td>48.3</td>\n",
              "      <td>101.21</td>\n",
              "      <td>CLOUDY</td>\n",
              "    </tr>\n",
              "    <tr>\n",
              "      <th>7714</th>\n",
              "      <td>-1.0</td>\n",
              "      <td>-8.9</td>\n",
              "      <td>55</td>\n",
              "      <td>7</td>\n",
              "      <td>48.3</td>\n",
              "      <td>103.52</td>\n",
              "      <td>CLOUDY</td>\n",
              "    </tr>\n",
              "    <tr>\n",
              "      <th>5022</th>\n",
              "      <td>18.1</td>\n",
              "      <td>11.5</td>\n",
              "      <td>65</td>\n",
              "      <td>17</td>\n",
              "      <td>48.3</td>\n",
              "      <td>101.20</td>\n",
              "      <td>CLOUDY</td>\n",
              "    </tr>\n",
              "    <tr>\n",
              "      <th>6593</th>\n",
              "      <td>14.9</td>\n",
              "      <td>11.4</td>\n",
              "      <td>80</td>\n",
              "      <td>17</td>\n",
              "      <td>48.3</td>\n",
              "      <td>100.45</td>\n",
              "      <td>CLOUDY</td>\n",
              "    </tr>\n",
              "    <tr>\n",
              "      <th>1407</th>\n",
              "      <td>-4.2</td>\n",
              "      <td>-11.8</td>\n",
              "      <td>55</td>\n",
              "      <td>19</td>\n",
              "      <td>48.3</td>\n",
              "      <td>102.58</td>\n",
              "      <td>CLOUDY</td>\n",
              "    </tr>\n",
              "    <tr>\n",
              "      <th>...</th>\n",
              "      <td>...</td>\n",
              "      <td>...</td>\n",
              "      <td>...</td>\n",
              "      <td>...</td>\n",
              "      <td>...</td>\n",
              "      <td>...</td>\n",
              "      <td>...</td>\n",
              "    </tr>\n",
              "    <tr>\n",
              "      <th>8728</th>\n",
              "      <td>-8.5</td>\n",
              "      <td>-9.9</td>\n",
              "      <td>90</td>\n",
              "      <td>24</td>\n",
              "      <td>1.2</td>\n",
              "      <td>100.49</td>\n",
              "      <td>SNOW</td>\n",
              "    </tr>\n",
              "    <tr>\n",
              "      <th>8729</th>\n",
              "      <td>-9.0</td>\n",
              "      <td>-10.4</td>\n",
              "      <td>90</td>\n",
              "      <td>19</td>\n",
              "      <td>2.4</td>\n",
              "      <td>100.46</td>\n",
              "      <td>SNOW</td>\n",
              "    </tr>\n",
              "    <tr>\n",
              "      <th>8734</th>\n",
              "      <td>-10.1</td>\n",
              "      <td>-11.6</td>\n",
              "      <td>89</td>\n",
              "      <td>15</td>\n",
              "      <td>2.4</td>\n",
              "      <td>100.20</td>\n",
              "      <td>SNOW</td>\n",
              "    </tr>\n",
              "    <tr>\n",
              "      <th>8737</th>\n",
              "      <td>-9.4</td>\n",
              "      <td>-10.5</td>\n",
              "      <td>92</td>\n",
              "      <td>9</td>\n",
              "      <td>2.4</td>\n",
              "      <td>100.22</td>\n",
              "      <td>SNOW</td>\n",
              "    </tr>\n",
              "    <tr>\n",
              "      <th>8769</th>\n",
              "      <td>-8.1</td>\n",
              "      <td>-9.6</td>\n",
              "      <td>89</td>\n",
              "      <td>4</td>\n",
              "      <td>2.4</td>\n",
              "      <td>101.09</td>\n",
              "      <td>SNOW</td>\n",
              "    </tr>\n",
              "  </tbody>\n",
              "</table>\n",
              "<p>463 rows × 7 columns</p>\n",
              "</div>"
            ],
            "text/plain": [
              "      Temp_C  Dew Point Temp_C  Rel Hum_%  Wind Speed_km/h  Visibility_km  \\\n",
              "6345    16.0              12.4         79               15           48.3   \n",
              "7714    -1.0              -8.9         55                7           48.3   \n",
              "5022    18.1              11.5         65               17           48.3   \n",
              "6593    14.9              11.4         80               17           48.3   \n",
              "1407    -4.2             -11.8         55               19           48.3   \n",
              "...      ...               ...        ...              ...            ...   \n",
              "8728    -8.5              -9.9         90               24            1.2   \n",
              "8729    -9.0             -10.4         90               19            2.4   \n",
              "8734   -10.1             -11.6         89               15            2.4   \n",
              "8737    -9.4             -10.5         92                9            2.4   \n",
              "8769    -8.1              -9.6         89                4            2.4   \n",
              "\n",
              "      Press_kPa Std_Weather  \n",
              "6345     101.21      CLOUDY  \n",
              "7714     103.52      CLOUDY  \n",
              "5022     101.20      CLOUDY  \n",
              "6593     100.45      CLOUDY  \n",
              "1407     102.58      CLOUDY  \n",
              "...         ...         ...  \n",
              "8728     100.49        SNOW  \n",
              "8729     100.46        SNOW  \n",
              "8734     100.20        SNOW  \n",
              "8737     100.22        SNOW  \n",
              "8769     101.09        SNOW  \n",
              "\n",
              "[463 rows x 7 columns]"
            ]
          },
          "execution_count": 1715,
          "metadata": {},
          "output_type": "execute_result"
        }
      ],
      "source": [
        "# Selecting rows where 'Visibility_km' values are potential outliers\n",
        "weather_df.loc[(weather_df['Visibility_km']>upper_limit) |(weather_df['Visibility_km']<lower_limit)]"
      ]
    },
    {
      "cell_type": "code",
      "execution_count": 1716,
      "metadata": {
        "colab": {
          "base_uri": "https://localhost:8080/"
        },
        "id": "RaD4LaFGPY2r",
        "outputId": "38c0e928-6a81-49da-d7bb-102783e37b4c"
      },
      "outputs": [
        {
          "name": "stdout",
          "output_type": "stream",
          "text": [
            "before removing outliers: 2359\n",
            "after removing outliers: 1896\n",
            " outliers: 463\n"
          ]
        }
      ],
      "source": [
        "#Trimming\n",
        "# Creating a new DataFrame by excluding rows with potential outliers in 'Visibility_km'\n",
        "new_weather_df=weather_df.loc[(weather_df['Visibility_km']<upper_limit) &(weather_df['Visibility_km']>lower_limit)]\n",
        "\n",
        "# Printing information about the dataset before and after removing outliers\n",
        "print('before removing outliers:',len(weather_df))\n",
        "print('after removing outliers:',len(new_weather_df))\n",
        "print(' outliers:',len(weather_df)-len(new_weather_df))"
      ]
    },
    {
      "cell_type": "code",
      "execution_count": 1717,
      "metadata": {
        "colab": {
          "base_uri": "https://localhost:8080/",
          "height": 450
        },
        "id": "9Ndxn66GQZl3",
        "outputId": "ce68cd4b-f1ce-48fa-fcb2-26c78d045367"
      },
      "outputs": [
        {
          "name": "stderr",
          "output_type": "stream",
          "text": [
            "c:\\Users\\ADMIN\\anaconda3\\envs\\myenv3.9\\lib\\site-packages\\seaborn\\_oldcore.py:1498: FutureWarning: is_categorical_dtype is deprecated and will be removed in a future version. Use isinstance(dtype, CategoricalDtype) instead\n",
            "  if pd.api.types.is_categorical_dtype(vector):\n"
          ]
        },
        {
          "data": {
            "image/png": "[encoded data removed]",
            "text/plain": [
              "<Figure size 640x480 with 1 Axes>"
            ]
          },
          "metadata": {},
          "output_type": "display_data"
        }
      ],
      "source": [
        "# Creating a box plot for the 'Visibility_km' column after removing outliers\n",
        "if 'Visibility_km' in new_weather_df.columns:\n",
        "    sns.boxplot(x=new_weather_df['Visibility_km'])\n",
        "else:\n",
        "    print(\"Column 'Visibility_km' not found in the DataFrame.\")"
      ]
    },
    {
      "cell_type": "code",
      "execution_count": 1718,
      "metadata": {
        "id": "FFcY-78TQZXr"
      },
      "outputs": [],
      "source": [
        "# Capping\n",
        "\n",
        "# Creating a copy of the original DataFrame\n",
        "new_weather_df=weather_df.copy()\n",
        "\n",
        "# Capping values exceeding the upper limit in 'Visibility_km' with the upper limit\n",
        "new_weather_df.loc[(new_weather_df['Visibility_km']>upper_limit),'Visibility_km']=upper_limit\n",
        "\n",
        "# Flooring values below the lower limit in 'Visibility_km' with the lower limit\n",
        "new_weather_df.loc[(new_weather_df['Visibility_km']<lower_limit),'Visibility_km']=lower_limit\n"
      ]
    },
    {
      "cell_type": "code",
      "execution_count": 1719,
      "metadata": {
        "colab": {
          "base_uri": "https://localhost:8080/",
          "height": 450
        },
        "id": "nAdW25IiQZKg",
        "outputId": "456f3dbd-226b-4950-8e10-34d121962131"
      },
      "outputs": [
        {
          "name": "stderr",
          "output_type": "stream",
          "text": [
            "c:\\Users\\ADMIN\\anaconda3\\envs\\myenv3.9\\lib\\site-packages\\seaborn\\_oldcore.py:1498: FutureWarning: is_categorical_dtype is deprecated and will be removed in a future version. Use isinstance(dtype, CategoricalDtype) instead\n",
            "  if pd.api.types.is_categorical_dtype(vector):\n"
          ]
        },
        {
          "data": {
            "image/png": "[encoded data removed]",
            "text/plain": [
              "<Figure size 640x480 with 1 Axes>"
            ]
          },
          "metadata": {},
          "output_type": "display_data"
        }
      ],
      "source": [
        "# Creating a box plot for the 'Visibility_km' column after the capping\n",
        "if 'Visibility_km' in new_weather_df.columns:\n",
        "    sns.boxplot(x=new_weather_df['Visibility_km'])\n",
        "else:\n",
        "    print(\"Column 'Visibility_km' not found in the DataFrame.\")"
      ]
    },
    {
      "cell_type": "markdown",
      "metadata": {},
      "source": [
        "##### Remove outliers from feature Temp_C"
      ]
    },
    {
      "cell_type": "code",
      "execution_count": 1720,
      "metadata": {
        "id": "RhclmoWEsaad"
      },
      "outputs": [],
      "source": [
        "# Calculating the first quartile (q1), third quartile (q3) and  interquartile range (iqr) for 'Temp_C' colum\n",
        "q1=weather_df['Temp_C'].quantile(0.25)\n",
        "q3=weather_df['Temp_C'].quantile(0.75)\n",
        "iqr=q3-q1"
      ]
    },
    {
      "cell_type": "code",
      "execution_count": 1721,
      "metadata": {
        "colab": {
          "base_uri": "https://localhost:8080/"
        },
        "id": "m0HoG6Y-SzEw",
        "outputId": "f0a303e4-ff18-47a6-821c-f2b7ce636974"
      },
      "outputs": [
        {
          "data": {
            "text/plain": [
              "(-3.2, 16.35, 19.55)"
            ]
          },
          "execution_count": 1721,
          "metadata": {},
          "output_type": "execute_result"
        }
      ],
      "source": [
        "# Displaying the values of q1, q3 and iqr\n",
        "q1,q3,iqr"
      ]
    },
    {
      "cell_type": "code",
      "execution_count": 1722,
      "metadata": {
        "colab": {
          "base_uri": "https://localhost:8080/"
        },
        "id": "3lsOVFS7SzBU",
        "outputId": "9ce1ae5e-5165-4c6f-ac7f-4ae7de632d5a"
      },
      "outputs": [
        {
          "data": {
            "text/plain": [
              "(-32.525000000000006, 45.675000000000004)"
            ]
          },
          "execution_count": 1722,
          "metadata": {},
          "output_type": "execute_result"
        }
      ],
      "source": [
        "# Calculating and displaying the upper and limit for potential outliers\n",
        "upper_limit=q3+(1.5*iqr)\n",
        "lower_limit=q1-(1.5*iqr)\n",
        "lower_limit,upper_limit"
      ]
    },
    {
      "cell_type": "code",
      "execution_count": 1723,
      "metadata": {
        "colab": {
          "base_uri": "https://localhost:8080/",
          "height": 449
        },
        "id": "MmIKFzWYSy-R",
        "outputId": "7a38ee49-b188-4885-851b-f0a88f77b12a"
      },
      "outputs": [
        {
          "name": "stderr",
          "output_type": "stream",
          "text": [
            "c:\\Users\\ADMIN\\anaconda3\\envs\\myenv3.9\\lib\\site-packages\\seaborn\\_oldcore.py:1498: FutureWarning: is_categorical_dtype is deprecated and will be removed in a future version. Use isinstance(dtype, CategoricalDtype) instead\n",
            "  if pd.api.types.is_categorical_dtype(vector):\n"
          ]
        },
        {
          "data": {
            "image/png": "[encoded data removed]",
            "text/plain": [
              "<Figure size 640x480 with 1 Axes>"
            ]
          },
          "metadata": {},
          "output_type": "display_data"
        }
      ],
      "source": [
        "# Creating a box plot for the 'Temp_C' column\n",
        "if 'Temp_C' in weather_df.columns:\n",
        "    sns.boxplot(x=weather_df['Temp_C'])\n",
        "else:\n",
        "    print(\"Column 'Temp_C' not found in the DataFrame.\")"
      ]
    },
    {
      "cell_type": "code",
      "execution_count": 1724,
      "metadata": {
        "colab": {
          "base_uri": "https://localhost:8080/",
          "height": 84
        },
        "id": "39a4PbSqSy7Q",
        "outputId": "0116bc42-f275-404f-964c-e3bd60b2659f"
      },
      "outputs": [
        {
          "data": {
            "text/html": [
              "<div>\n",
              "<style scoped>\n",
              "    .dataframe tbody tr th:only-of-type {\n",
              "        vertical-align: middle;\n",
              "    }\n",
              "\n",
              "    .dataframe tbody tr th {\n",
              "        vertical-align: top;\n",
              "    }\n",
              "\n",
              "    .dataframe thead th {\n",
              "        text-align: right;\n",
              "    }\n",
              "</style>\n",
              "<table border=\"1\" class=\"dataframe\">\n",
              "  <thead>\n",
              "    <tr style=\"text-align: right;\">\n",
              "      <th></th>\n",
              "      <th>Temp_C</th>\n",
              "      <th>Dew Point Temp_C</th>\n",
              "      <th>Rel Hum_%</th>\n",
              "      <th>Wind Speed_km/h</th>\n",
              "      <th>Visibility_km</th>\n",
              "      <th>Press_kPa</th>\n",
              "      <th>Std_Weather</th>\n",
              "    </tr>\n",
              "  </thead>\n",
              "  <tbody>\n",
              "  </tbody>\n",
              "</table>\n",
              "</div>"
            ],
            "text/plain": [
              "Empty DataFrame\n",
              "Columns: [Temp_C, Dew Point Temp_C, Rel Hum_%, Wind Speed_km/h, Visibility_km, Press_kPa, Std_Weather]\n",
              "Index: []"
            ]
          },
          "execution_count": 1724,
          "metadata": {},
          "output_type": "execute_result"
        }
      ],
      "source": [
        "# Selecting rows where 'Temp_C' values are potential outliers\n",
        "weather_df.loc[(weather_df['Temp_C']>upper_limit) |(weather_df['Temp_C']<lower_limit)]"
      ]
    },
    {
      "cell_type": "markdown",
      "metadata": {},
      "source": [
        "##### Remove outliers from feature 'Dew Point Temp_C'"
      ]
    },
    {
      "cell_type": "code",
      "execution_count": 1725,
      "metadata": {
        "id": "V_61T51KSy4F"
      },
      "outputs": [],
      "source": [
        "# Calculating the first quartile (q1), third quartile (q3) and  inter quartile range (iqr) for 'Dew Point Temp_C' colum\n",
        "q1=weather_df['Dew Point Temp_C'].quantile(0.25)\n",
        "q3=weather_df['Dew Point Temp_C'].quantile(0.75)\n",
        "iqr=q3-q1\n"
      ]
    },
    {
      "cell_type": "code",
      "execution_count": 1726,
      "metadata": {
        "colab": {
          "base_uri": "https://localhost:8080/"
        },
        "id": "0zC2Z5pnSy0d",
        "outputId": "b962046b-dcf3-4551-e94b-e70a56a6f6f6"
      },
      "outputs": [
        {
          "data": {
            "text/plain": [
              "(-6.95, 10.8, 17.75)"
            ]
          },
          "execution_count": 1726,
          "metadata": {},
          "output_type": "execute_result"
        }
      ],
      "source": [
        "# Displaying the values of q1, q3 and iqr\n",
        "q1,q3,iqr"
      ]
    },
    {
      "cell_type": "code",
      "execution_count": 1727,
      "metadata": {
        "colab": {
          "base_uri": "https://localhost:8080/"
        },
        "id": "evEGNazjSyxR",
        "outputId": "dd870c70-9e9f-4cdc-8d6a-0824cbe1cb45"
      },
      "outputs": [
        {
          "data": {
            "text/plain": [
              "(-33.575, 37.425)"
            ]
          },
          "execution_count": 1727,
          "metadata": {},
          "output_type": "execute_result"
        }
      ],
      "source": [
        "# Calculating and displaying the upper and limit for potential outliers\n",
        "upper_limit=q3+(1.5*iqr)\n",
        "lower_limit=q1-(1.5*iqr)\n",
        "lower_limit,upper_limit"
      ]
    },
    {
      "cell_type": "code",
      "execution_count": 1728,
      "metadata": {
        "colab": {
          "base_uri": "https://localhost:8080/",
          "height": 450
        },
        "id": "AS5IfNgYSyt5",
        "outputId": "6340cfe1-6821-471b-ddde-dd322293b879"
      },
      "outputs": [
        {
          "name": "stderr",
          "output_type": "stream",
          "text": [
            "c:\\Users\\ADMIN\\anaconda3\\envs\\myenv3.9\\lib\\site-packages\\seaborn\\_oldcore.py:1498: FutureWarning: is_categorical_dtype is deprecated and will be removed in a future version. Use isinstance(dtype, CategoricalDtype) instead\n",
            "  if pd.api.types.is_categorical_dtype(vector):\n"
          ]
        },
        {
          "data": {
            "image/png": "[encoded data removed]",
            "text/plain": [
              "<Figure size 640x480 with 1 Axes>"
            ]
          },
          "metadata": {},
          "output_type": "display_data"
        }
      ],
      "source": [
        "# Creating a box plot for the 'Dew Point Temp_C' column\n",
        "if 'Dew Point Temp_C' in weather_df.columns:\n",
        "    sns.boxplot(x=weather_df['Dew Point Temp_C'])\n",
        "else:\n",
        "    print(\"Column 'Dew Point Temp_C' not found in the DataFrame.\")"
      ]
    },
    {
      "cell_type": "code",
      "execution_count": 1729,
      "metadata": {
        "colab": {
          "base_uri": "https://localhost:8080/",
          "height": 84
        },
        "id": "GJVEoJkGSyp_",
        "outputId": "05e66a1e-18ec-4dc5-8216-65e9e23831bd"
      },
      "outputs": [
        {
          "data": {
            "text/html": [
              "<div>\n",
              "<style scoped>\n",
              "    .dataframe tbody tr th:only-of-type {\n",
              "        vertical-align: middle;\n",
              "    }\n",
              "\n",
              "    .dataframe tbody tr th {\n",
              "        vertical-align: top;\n",
              "    }\n",
              "\n",
              "    .dataframe thead th {\n",
              "        text-align: right;\n",
              "    }\n",
              "</style>\n",
              "<table border=\"1\" class=\"dataframe\">\n",
              "  <thead>\n",
              "    <tr style=\"text-align: right;\">\n",
              "      <th></th>\n",
              "      <th>Temp_C</th>\n",
              "      <th>Dew Point Temp_C</th>\n",
              "      <th>Rel Hum_%</th>\n",
              "      <th>Wind Speed_km/h</th>\n",
              "      <th>Visibility_km</th>\n",
              "      <th>Press_kPa</th>\n",
              "      <th>Std_Weather</th>\n",
              "    </tr>\n",
              "  </thead>\n",
              "  <tbody>\n",
              "  </tbody>\n",
              "</table>\n",
              "</div>"
            ],
            "text/plain": [
              "Empty DataFrame\n",
              "Columns: [Temp_C, Dew Point Temp_C, Rel Hum_%, Wind Speed_km/h, Visibility_km, Press_kPa, Std_Weather]\n",
              "Index: []"
            ]
          },
          "execution_count": 1729,
          "metadata": {},
          "output_type": "execute_result"
        }
      ],
      "source": [
        "# Selecting rows where 'Dew Point Temp_C' values are potential outliers\n",
        "weather_df.loc[(weather_df['Dew Point Temp_C']>upper_limit) |(weather_df['Dew Point Temp_C']<lower_limit)]"
      ]
    },
    {
      "cell_type": "markdown",
      "metadata": {},
      "source": [
        "##### Remove outliers from feature 'Rel Hum_%'"
      ]
    },
    {
      "cell_type": "code",
      "execution_count": 1730,
      "metadata": {
        "id": "cDlNjWYxSygT"
      },
      "outputs": [],
      "source": [
        "# Calculating the first quartile (q1), third quartile (q3) and  inter quartile range (iqr) for 'Rel Hum_%' colum\n",
        "q1=weather_df['Rel Hum_%'].quantile(0.25)\n",
        "q3=weather_df['Rel Hum_%'].quantile(0.75)\n",
        "iqr=q3-q1"
      ]
    },
    {
      "cell_type": "code",
      "execution_count": 1731,
      "metadata": {
        "colab": {
          "base_uri": "https://localhost:8080/"
        },
        "id": "wN_m5sGpTwlg",
        "outputId": "4031ae5d-932c-459e-8a39-229c76cb390a"
      },
      "outputs": [
        {
          "data": {
            "text/plain": [
              "(61.0, 85.0, 24.0)"
            ]
          },
          "execution_count": 1731,
          "metadata": {},
          "output_type": "execute_result"
        }
      ],
      "source": [
        "# Displaying the values of q1, q3 and iqr\n",
        "q1,q3,iqr"
      ]
    },
    {
      "cell_type": "code",
      "execution_count": 1732,
      "metadata": {
        "colab": {
          "base_uri": "https://localhost:8080/"
        },
        "id": "1wCwP4qpTwEJ",
        "outputId": "16db4c73-4120-4d2f-c767-4f39cd5210af"
      },
      "outputs": [
        {
          "data": {
            "text/plain": [
              "(25.0, 121.0)"
            ]
          },
          "execution_count": 1732,
          "metadata": {},
          "output_type": "execute_result"
        }
      ],
      "source": [
        "# Calculating and displaying the upper and limit for potential outliers\n",
        "upper_limit=q3+(1.5*iqr)\n",
        "lower_limit=q1-(1.5*iqr)\n",
        "lower_limit,upper_limit"
      ]
    },
    {
      "cell_type": "code",
      "execution_count": 1733,
      "metadata": {
        "colab": {
          "base_uri": "https://localhost:8080/",
          "height": 450
        },
        "id": "DibQZFguTv5r",
        "outputId": "2ac41660-7e9a-45aa-8f9a-4d51009d1c1d"
      },
      "outputs": [
        {
          "name": "stderr",
          "output_type": "stream",
          "text": [
            "c:\\Users\\ADMIN\\anaconda3\\envs\\myenv3.9\\lib\\site-packages\\seaborn\\_oldcore.py:1498: FutureWarning: is_categorical_dtype is deprecated and will be removed in a future version. Use isinstance(dtype, CategoricalDtype) instead\n",
            "  if pd.api.types.is_categorical_dtype(vector):\n"
          ]
        },
        {
          "data": {
            "image/png": "[encoded data removed]",
            "text/plain": [
              "<Figure size 640x480 with 1 Axes>"
            ]
          },
          "metadata": {},
          "output_type": "display_data"
        }
      ],
      "source": [
        "# Creating a box plot for the 'Rel Hum_%' column\n",
        "if 'Rel Hum_%' in weather_df.columns:\n",
        "    sns.boxplot(x=weather_df['Rel Hum_%'])\n",
        "else:\n",
        "    print(\"Column 'Rel Hum_%' not found in the DataFrame.\")"
      ]
    },
    {
      "cell_type": "code",
      "execution_count": 1734,
      "metadata": {
        "colab": {
          "base_uri": "https://localhost:8080/",
          "height": 511
        },
        "id": "qCuni8v1T8ig",
        "outputId": "5f13998e-4d61-4d84-c021-90975a4aea83"
      },
      "outputs": [
        {
          "data": {
            "text/html": [
              "<div>\n",
              "<style scoped>\n",
              "    .dataframe tbody tr th:only-of-type {\n",
              "        vertical-align: middle;\n",
              "    }\n",
              "\n",
              "    .dataframe tbody tr th {\n",
              "        vertical-align: top;\n",
              "    }\n",
              "\n",
              "    .dataframe thead th {\n",
              "        text-align: right;\n",
              "    }\n",
              "</style>\n",
              "<table border=\"1\" class=\"dataframe\">\n",
              "  <thead>\n",
              "    <tr style=\"text-align: right;\">\n",
              "      <th></th>\n",
              "      <th>Temp_C</th>\n",
              "      <th>Dew Point Temp_C</th>\n",
              "      <th>Rel Hum_%</th>\n",
              "      <th>Wind Speed_km/h</th>\n",
              "      <th>Visibility_km</th>\n",
              "      <th>Press_kPa</th>\n",
              "      <th>Std_Weather</th>\n",
              "    </tr>\n",
              "  </thead>\n",
              "  <tbody>\n",
              "    <tr>\n",
              "      <th>2323</th>\n",
              "      <td>7.3</td>\n",
              "      <td>-11.7</td>\n",
              "      <td>24</td>\n",
              "      <td>13</td>\n",
              "      <td>25.0</td>\n",
              "      <td>101.21</td>\n",
              "      <td>CLOUDY</td>\n",
              "    </tr>\n",
              "    <tr>\n",
              "      <th>2870</th>\n",
              "      <td>8.7</td>\n",
              "      <td>-11.7</td>\n",
              "      <td>22</td>\n",
              "      <td>22</td>\n",
              "      <td>48.3</td>\n",
              "      <td>101.65</td>\n",
              "      <td>CLEAR</td>\n",
              "    </tr>\n",
              "    <tr>\n",
              "      <th>2225</th>\n",
              "      <td>8.0</td>\n",
              "      <td>-12.2</td>\n",
              "      <td>22</td>\n",
              "      <td>30</td>\n",
              "      <td>48.3</td>\n",
              "      <td>100.61</td>\n",
              "      <td>CLEAR</td>\n",
              "    </tr>\n",
              "    <tr>\n",
              "      <th>2485</th>\n",
              "      <td>14.7</td>\n",
              "      <td>-6.1</td>\n",
              "      <td>23</td>\n",
              "      <td>24</td>\n",
              "      <td>48.3</td>\n",
              "      <td>101.48</td>\n",
              "      <td>CLEAR</td>\n",
              "    </tr>\n",
              "    <tr>\n",
              "      <th>2873</th>\n",
              "      <td>9.0</td>\n",
              "      <td>-11.5</td>\n",
              "      <td>22</td>\n",
              "      <td>30</td>\n",
              "      <td>48.3</td>\n",
              "      <td>101.72</td>\n",
              "      <td>CLEAR</td>\n",
              "    </tr>\n",
              "    <tr>\n",
              "      <th>2871</th>\n",
              "      <td>9.0</td>\n",
              "      <td>-12.0</td>\n",
              "      <td>21</td>\n",
              "      <td>32</td>\n",
              "      <td>48.3</td>\n",
              "      <td>101.63</td>\n",
              "      <td>CLEAR</td>\n",
              "    </tr>\n",
              "  </tbody>\n",
              "</table>\n",
              "</div>"
            ],
            "text/plain": [
              "      Temp_C  Dew Point Temp_C  Rel Hum_%  Wind Speed_km/h  Visibility_km  \\\n",
              "2323     7.3             -11.7         24               13           25.0   \n",
              "2870     8.7             -11.7         22               22           48.3   \n",
              "2225     8.0             -12.2         22               30           48.3   \n",
              "2485    14.7              -6.1         23               24           48.3   \n",
              "2873     9.0             -11.5         22               30           48.3   \n",
              "2871     9.0             -12.0         21               32           48.3   \n",
              "\n",
              "      Press_kPa Std_Weather  \n",
              "2323     101.21      CLOUDY  \n",
              "2870     101.65       CLEAR  \n",
              "2225     100.61       CLEAR  \n",
              "2485     101.48       CLEAR  \n",
              "2873     101.72       CLEAR  \n",
              "2871     101.63       CLEAR  "
            ]
          },
          "execution_count": 1734,
          "metadata": {},
          "output_type": "execute_result"
        }
      ],
      "source": [
        "# Selecting rows where 'Rel Hum_%' values are potential outliers\n",
        "weather_df.loc[(weather_df['Rel Hum_%']>upper_limit) |(weather_df['Rel Hum_%']<lower_limit)]"
      ]
    },
    {
      "cell_type": "code",
      "execution_count": 1735,
      "metadata": {
        "colab": {
          "base_uri": "https://localhost:8080/"
        },
        "id": "yuSm6C9fT8af",
        "outputId": "2fc14a71-7663-49f5-e781-c3ef8e80c3a8"
      },
      "outputs": [
        {
          "name": "stdout",
          "output_type": "stream",
          "text": [
            "before removing outliers: 2359\n",
            "after removing outliers: 2353\n",
            " outliers: 6\n"
          ]
        }
      ],
      "source": [
        "#Trimming\n",
        "# Creating a new DataFrame by excluding rows with potential outliers in 'Rel Hum_%'\n",
        "new_weather_df=weather_df.loc[(weather_df['Rel Hum_%']<upper_limit) &(weather_df['Rel Hum_%']>lower_limit)]\n",
        "\n",
        "# Printing information about the dataset before and after removing outliers\n",
        "print('before removing outliers:',len(weather_df))\n",
        "print('after removing outliers:',len(new_weather_df))\n",
        "print(' outliers:',len(weather_df)-len(new_weather_df))\n"
      ]
    },
    {
      "cell_type": "code",
      "execution_count": 1736,
      "metadata": {
        "colab": {
          "base_uri": "https://localhost:8080/",
          "height": 450
        },
        "id": "CBGR_7DlT8Ti",
        "outputId": "61b0cd5d-361a-4b46-b7ce-c91a4e00ad1b"
      },
      "outputs": [
        {
          "name": "stderr",
          "output_type": "stream",
          "text": [
            "c:\\Users\\ADMIN\\anaconda3\\envs\\myenv3.9\\lib\\site-packages\\seaborn\\_oldcore.py:1498: FutureWarning: is_categorical_dtype is deprecated and will be removed in a future version. Use isinstance(dtype, CategoricalDtype) instead\n",
            "  if pd.api.types.is_categorical_dtype(vector):\n"
          ]
        },
        {
          "data": {
            "image/png": "[encoded data removed]",
            "text/plain": [
              "<Figure size 640x480 with 1 Axes>"
            ]
          },
          "metadata": {},
          "output_type": "display_data"
        }
      ],
      "source": [
        "# Creating a box plot for the 'Rel Hum_%' column after removing outliers\n",
        "if 'Rel Hum_%' in new_weather_df.columns:\n",
        "    sns.boxplot(x=new_weather_df['Rel Hum_%'])\n",
        "else:\n",
        "    print(\"Column 'Rel Hum_%' not found in the DataFrame.\")"
      ]
    },
    {
      "cell_type": "code",
      "execution_count": 1737,
      "metadata": {
        "id": "O9-7gF55T8MM"
      },
      "outputs": [],
      "source": [
        "# Capping\n",
        "\n",
        "# Creating a copy of the original DataFrame\n",
        "new_weather_df=weather_df.copy()\n",
        "\n",
        "# Capping values exceeding the upper limit in 'Rel Hum_%' with the upper limit\n",
        "new_weather_df.loc[(new_weather_df['Rel Hum_%']>upper_limit),'Rel Hum_%']=upper_limit\n",
        "\n",
        "# Flooring values below the lower limit in 'Rel Hum_%' with the lower limit\n",
        "new_weather_df.loc[(new_weather_df['Rel Hum_%']<lower_limit),'Rel Hum_%']=lower_limit"
      ]
    },
    {
      "cell_type": "code",
      "execution_count": 1738,
      "metadata": {
        "colab": {
          "base_uri": "https://localhost:8080/",
          "height": 450
        },
        "id": "ojMx89eVUie0",
        "outputId": "ddf7c6fe-e329-4954-fcb4-fa5d65de0706"
      },
      "outputs": [
        {
          "name": "stderr",
          "output_type": "stream",
          "text": [
            "c:\\Users\\ADMIN\\anaconda3\\envs\\myenv3.9\\lib\\site-packages\\seaborn\\_oldcore.py:1498: FutureWarning: is_categorical_dtype is deprecated and will be removed in a future version. Use isinstance(dtype, CategoricalDtype) instead\n",
            "  if pd.api.types.is_categorical_dtype(vector):\n"
          ]
        },
        {
          "data": {
            "image/png": "[encoded data removed]",
            "text/plain": [
              "<Figure size 640x480 with 1 Axes>"
            ]
          },
          "metadata": {},
          "output_type": "display_data"
        }
      ],
      "source": [
        "# Creating a box plot for the 'Rel Hum_%' column after the capping\n",
        "if 'Rel Hum_%' in new_weather_df.columns:\n",
        "    sns.boxplot(x=new_weather_df['Rel Hum_%'])\n",
        "else:\n",
        "    print(\"Column 'Rel Hum_%' not found in the DataFrame.\")"
      ]
    },
    {
      "cell_type": "markdown",
      "metadata": {},
      "source": [
        "##### Remove outliers from feature 'Wind Speed_km/h'"
      ]
    },
    {
      "cell_type": "code",
      "execution_count": 1739,
      "metadata": {
        "id": "I5VFFLGlUtyW"
      },
      "outputs": [],
      "source": [
        "# Calculating the first quartile (q1), third quartile (q3) and  inter quartile range (iqr) for 'Wind Speed_km/h' colum\n",
        "q1=weather_df['Wind Speed_km/h'].quantile(0.25)\n",
        "q3=weather_df['Wind Speed_km/h'].quantile(0.75)\n",
        "iqr=q3-q1"
      ]
    },
    {
      "cell_type": "code",
      "execution_count": 1740,
      "metadata": {
        "colab": {
          "base_uri": "https://localhost:8080/"
        },
        "id": "szbGcZvoU9fU",
        "outputId": "8bdc1e8c-8197-44ba-884e-4e18577fdc88"
      },
      "outputs": [
        {
          "data": {
            "text/plain": [
              "(9.0, 22.0, 13.0)"
            ]
          },
          "execution_count": 1740,
          "metadata": {},
          "output_type": "execute_result"
        }
      ],
      "source": [
        "# Displaying the values of q1, q3 and iqr\n",
        "q1,q3,iqr"
      ]
    },
    {
      "cell_type": "code",
      "execution_count": 1741,
      "metadata": {
        "colab": {
          "base_uri": "https://localhost:8080/"
        },
        "id": "FJLnQn6rU9Xq",
        "outputId": "057b319b-7003-44b9-949b-1ce0a6d705e3"
      },
      "outputs": [
        {
          "data": {
            "text/plain": [
              "(-10.5, 41.5)"
            ]
          },
          "execution_count": 1741,
          "metadata": {},
          "output_type": "execute_result"
        }
      ],
      "source": [
        "# Calculating and displaying the upper and limit for potential outliers\n",
        "upper_limit=q3+(1.5*iqr)\n",
        "lower_limit=q1-(1.5*iqr)\n",
        "lower_limit,upper_limit"
      ]
    },
    {
      "cell_type": "code",
      "execution_count": 1742,
      "metadata": {
        "colab": {
          "base_uri": "https://localhost:8080/",
          "height": 450
        },
        "id": "ML45PmyTU9QA",
        "outputId": "83a7a034-8e4b-4ef3-85d6-2e9573337fa8"
      },
      "outputs": [
        {
          "name": "stderr",
          "output_type": "stream",
          "text": [
            "c:\\Users\\ADMIN\\anaconda3\\envs\\myenv3.9\\lib\\site-packages\\seaborn\\_oldcore.py:1498: FutureWarning: is_categorical_dtype is deprecated and will be removed in a future version. Use isinstance(dtype, CategoricalDtype) instead\n",
            "  if pd.api.types.is_categorical_dtype(vector):\n"
          ]
        },
        {
          "data": {
            "image/png": "[encoded data removed]",
            "text/plain": [
              "<Figure size 640x480 with 1 Axes>"
            ]
          },
          "metadata": {},
          "output_type": "display_data"
        }
      ],
      "source": [
        "# Creating a box plot for the 'Wind Speed_km/h' column\n",
        "if 'Wind Speed_km/h' in weather_df.columns:\n",
        "    sns.boxplot(x=weather_df['Wind Speed_km/h'])\n",
        "else:\n",
        "    print(\"Column 'Wind Speed_km/h' not found in the DataFrame.\")"
      ]
    },
    {
      "cell_type": "code",
      "execution_count": 1743,
      "metadata": {
        "colab": {
          "base_uri": "https://localhost:8080/",
          "height": 856
        },
        "id": "v-hg6ApWU9FW",
        "outputId": "d3041372-791c-4e8d-84c7-3135c7d55313"
      },
      "outputs": [
        {
          "data": {
            "text/html": [
              "<div>\n",
              "<style scoped>\n",
              "    .dataframe tbody tr th:only-of-type {\n",
              "        vertical-align: middle;\n",
              "    }\n",
              "\n",
              "    .dataframe tbody tr th {\n",
              "        vertical-align: top;\n",
              "    }\n",
              "\n",
              "    .dataframe thead th {\n",
              "        text-align: right;\n",
              "    }\n",
              "</style>\n",
              "<table border=\"1\" class=\"dataframe\">\n",
              "  <thead>\n",
              "    <tr style=\"text-align: right;\">\n",
              "      <th></th>\n",
              "      <th>Temp_C</th>\n",
              "      <th>Dew Point Temp_C</th>\n",
              "      <th>Rel Hum_%</th>\n",
              "      <th>Wind Speed_km/h</th>\n",
              "      <th>Visibility_km</th>\n",
              "      <th>Press_kPa</th>\n",
              "      <th>Std_Weather</th>\n",
              "    </tr>\n",
              "  </thead>\n",
              "  <tbody>\n",
              "    <tr>\n",
              "      <th>410</th>\n",
              "      <td>0.5</td>\n",
              "      <td>-4.0</td>\n",
              "      <td>72</td>\n",
              "      <td>70</td>\n",
              "      <td>25.0</td>\n",
              "      <td>98.62</td>\n",
              "      <td>CLOUDY</td>\n",
              "    </tr>\n",
              "    <tr>\n",
              "      <th>5827</th>\n",
              "      <td>25.5</td>\n",
              "      <td>16.3</td>\n",
              "      <td>57</td>\n",
              "      <td>43</td>\n",
              "      <td>25.0</td>\n",
              "      <td>100.49</td>\n",
              "      <td>CLOUDY</td>\n",
              "    </tr>\n",
              "    <tr>\n",
              "      <th>34</th>\n",
              "      <td>1.5</td>\n",
              "      <td>-4.1</td>\n",
              "      <td>66</td>\n",
              "      <td>43</td>\n",
              "      <td>24.1</td>\n",
              "      <td>99.18</td>\n",
              "      <td>CLOUDY</td>\n",
              "    </tr>\n",
              "    <tr>\n",
              "      <th>7269</th>\n",
              "      <td>14.0</td>\n",
              "      <td>9.7</td>\n",
              "      <td>75</td>\n",
              "      <td>48</td>\n",
              "      <td>25.0</td>\n",
              "      <td>99.46</td>\n",
              "      <td>CLOUDY</td>\n",
              "    </tr>\n",
              "    <tr>\n",
              "      <th>7266</th>\n",
              "      <td>14.2</td>\n",
              "      <td>9.2</td>\n",
              "      <td>72</td>\n",
              "      <td>44</td>\n",
              "      <td>25.0</td>\n",
              "      <td>99.83</td>\n",
              "      <td>CLOUDY</td>\n",
              "    </tr>\n",
              "    <tr>\n",
              "      <th>1503</th>\n",
              "      <td>5.3</td>\n",
              "      <td>-5.6</td>\n",
              "      <td>45</td>\n",
              "      <td>57</td>\n",
              "      <td>24.1</td>\n",
              "      <td>98.67</td>\n",
              "      <td>CLOUDY</td>\n",
              "    </tr>\n",
              "    <tr>\n",
              "      <th>2576</th>\n",
              "      <td>10.2</td>\n",
              "      <td>0.6</td>\n",
              "      <td>51</td>\n",
              "      <td>43</td>\n",
              "      <td>48.3</td>\n",
              "      <td>101.42</td>\n",
              "      <td>CLEAR</td>\n",
              "    </tr>\n",
              "    <tr>\n",
              "      <th>417</th>\n",
              "      <td>-11.2</td>\n",
              "      <td>-17.2</td>\n",
              "      <td>61</td>\n",
              "      <td>43</td>\n",
              "      <td>24.1</td>\n",
              "      <td>100.65</td>\n",
              "      <td>CLEAR</td>\n",
              "    </tr>\n",
              "    <tr>\n",
              "      <th>1626</th>\n",
              "      <td>10.5</td>\n",
              "      <td>7.8</td>\n",
              "      <td>83</td>\n",
              "      <td>46</td>\n",
              "      <td>6.4</td>\n",
              "      <td>99.64</td>\n",
              "      <td>RAIN</td>\n",
              "    </tr>\n",
              "    <tr>\n",
              "      <th>2712</th>\n",
              "      <td>1.9</td>\n",
              "      <td>-0.8</td>\n",
              "      <td>82</td>\n",
              "      <td>46</td>\n",
              "      <td>19.3</td>\n",
              "      <td>100.73</td>\n",
              "      <td>RAIN</td>\n",
              "    </tr>\n",
              "    <tr>\n",
              "      <th>2716</th>\n",
              "      <td>2.0</td>\n",
              "      <td>-0.7</td>\n",
              "      <td>82</td>\n",
              "      <td>44</td>\n",
              "      <td>25.0</td>\n",
              "      <td>99.82</td>\n",
              "      <td>RAIN</td>\n",
              "    </tr>\n",
              "    <tr>\n",
              "      <th>2717</th>\n",
              "      <td>1.9</td>\n",
              "      <td>-0.2</td>\n",
              "      <td>86</td>\n",
              "      <td>46</td>\n",
              "      <td>8.0</td>\n",
              "      <td>99.74</td>\n",
              "      <td>RAIN</td>\n",
              "    </tr>\n",
              "    <tr>\n",
              "      <th>2718</th>\n",
              "      <td>2.1</td>\n",
              "      <td>-0.3</td>\n",
              "      <td>84</td>\n",
              "      <td>52</td>\n",
              "      <td>16.1</td>\n",
              "      <td>99.66</td>\n",
              "      <td>RAIN</td>\n",
              "    </tr>\n",
              "    <tr>\n",
              "      <th>2719</th>\n",
              "      <td>2.3</td>\n",
              "      <td>-0.4</td>\n",
              "      <td>82</td>\n",
              "      <td>48</td>\n",
              "      <td>24.1</td>\n",
              "      <td>99.52</td>\n",
              "      <td>RAIN</td>\n",
              "    </tr>\n",
              "    <tr>\n",
              "      <th>2720</th>\n",
              "      <td>2.8</td>\n",
              "      <td>0.3</td>\n",
              "      <td>84</td>\n",
              "      <td>48</td>\n",
              "      <td>19.3</td>\n",
              "      <td>99.40</td>\n",
              "      <td>RAIN</td>\n",
              "    </tr>\n",
              "    <tr>\n",
              "      <th>2721</th>\n",
              "      <td>3.1</td>\n",
              "      <td>0.6</td>\n",
              "      <td>84</td>\n",
              "      <td>44</td>\n",
              "      <td>12.9</td>\n",
              "      <td>99.29</td>\n",
              "      <td>RAIN</td>\n",
              "    </tr>\n",
              "    <tr>\n",
              "      <th>7608</th>\n",
              "      <td>14.8</td>\n",
              "      <td>10.0</td>\n",
              "      <td>73</td>\n",
              "      <td>48</td>\n",
              "      <td>25.0</td>\n",
              "      <td>100.94</td>\n",
              "      <td>RAIN</td>\n",
              "    </tr>\n",
              "    <tr>\n",
              "      <th>8536</th>\n",
              "      <td>1.4</td>\n",
              "      <td>0.2</td>\n",
              "      <td>92</td>\n",
              "      <td>43</td>\n",
              "      <td>9.7</td>\n",
              "      <td>97.93</td>\n",
              "      <td>RAIN</td>\n",
              "    </tr>\n",
              "    <tr>\n",
              "      <th>8537</th>\n",
              "      <td>1.3</td>\n",
              "      <td>0.2</td>\n",
              "      <td>92</td>\n",
              "      <td>46</td>\n",
              "      <td>12.9</td>\n",
              "      <td>97.76</td>\n",
              "      <td>RAIN</td>\n",
              "    </tr>\n",
              "    <tr>\n",
              "      <th>8538</th>\n",
              "      <td>1.4</td>\n",
              "      <td>0.3</td>\n",
              "      <td>92</td>\n",
              "      <td>46</td>\n",
              "      <td>25.0</td>\n",
              "      <td>97.56</td>\n",
              "      <td>RAIN</td>\n",
              "    </tr>\n",
              "    <tr>\n",
              "      <th>412</th>\n",
              "      <td>-6.1</td>\n",
              "      <td>-10.9</td>\n",
              "      <td>69</td>\n",
              "      <td>48</td>\n",
              "      <td>25.0</td>\n",
              "      <td>99.36</td>\n",
              "      <td>SNOW</td>\n",
              "    </tr>\n",
              "    <tr>\n",
              "      <th>413</th>\n",
              "      <td>-7.7</td>\n",
              "      <td>-12.4</td>\n",
              "      <td>69</td>\n",
              "      <td>46</td>\n",
              "      <td>19.3</td>\n",
              "      <td>99.70</td>\n",
              "      <td>SNOW</td>\n",
              "    </tr>\n",
              "    <tr>\n",
              "      <th>1509</th>\n",
              "      <td>2.9</td>\n",
              "      <td>-3.6</td>\n",
              "      <td>62</td>\n",
              "      <td>46</td>\n",
              "      <td>25.0</td>\n",
              "      <td>98.98</td>\n",
              "      <td>SNOW</td>\n",
              "    </tr>\n",
              "    <tr>\n",
              "      <th>1510</th>\n",
              "      <td>2.8</td>\n",
              "      <td>-3.4</td>\n",
              "      <td>64</td>\n",
              "      <td>57</td>\n",
              "      <td>25.0</td>\n",
              "      <td>99.07</td>\n",
              "      <td>SNOW</td>\n",
              "    </tr>\n",
              "    <tr>\n",
              "      <th>8669</th>\n",
              "      <td>-7.5</td>\n",
              "      <td>-9.1</td>\n",
              "      <td>88</td>\n",
              "      <td>43</td>\n",
              "      <td>1.2</td>\n",
              "      <td>100.95</td>\n",
              "      <td>SNOW</td>\n",
              "    </tr>\n",
              "    <tr>\n",
              "      <th>8671</th>\n",
              "      <td>-6.5</td>\n",
              "      <td>-7.6</td>\n",
              "      <td>92</td>\n",
              "      <td>44</td>\n",
              "      <td>1.2</td>\n",
              "      <td>100.73</td>\n",
              "      <td>SNOW</td>\n",
              "    </tr>\n",
              "    <tr>\n",
              "      <th>8677</th>\n",
              "      <td>-5.4</td>\n",
              "      <td>-6.7</td>\n",
              "      <td>91</td>\n",
              "      <td>48</td>\n",
              "      <td>0.6</td>\n",
              "      <td>100.36</td>\n",
              "      <td>SNOW</td>\n",
              "    </tr>\n",
              "    <tr>\n",
              "      <th>8678</th>\n",
              "      <td>-5.2</td>\n",
              "      <td>-6.7</td>\n",
              "      <td>89</td>\n",
              "      <td>46</td>\n",
              "      <td>0.6</td>\n",
              "      <td>100.35</td>\n",
              "      <td>SNOW</td>\n",
              "    </tr>\n",
              "  </tbody>\n",
              "</table>\n",
              "</div>"
            ],
            "text/plain": [
              "      Temp_C  Dew Point Temp_C  Rel Hum_%  Wind Speed_km/h  Visibility_km  \\\n",
              "410      0.5              -4.0         72               70           25.0   \n",
              "5827    25.5              16.3         57               43           25.0   \n",
              "34       1.5              -4.1         66               43           24.1   \n",
              "7269    14.0               9.7         75               48           25.0   \n",
              "7266    14.2               9.2         72               44           25.0   \n",
              "1503     5.3              -5.6         45               57           24.1   \n",
              "2576    10.2               0.6         51               43           48.3   \n",
              "417    -11.2             -17.2         61               43           24.1   \n",
              "1626    10.5               7.8         83               46            6.4   \n",
              "2712     1.9              -0.8         82               46           19.3   \n",
              "2716     2.0              -0.7         82               44           25.0   \n",
              "2717     1.9              -0.2         86               46            8.0   \n",
              "2718     2.1              -0.3         84               52           16.1   \n",
              "2719     2.3              -0.4         82               48           24.1   \n",
              "2720     2.8               0.3         84               48           19.3   \n",
              "2721     3.1               0.6         84               44           12.9   \n",
              "7608    14.8              10.0         73               48           25.0   \n",
              "8536     1.4               0.2         92               43            9.7   \n",
              "8537     1.3               0.2         92               46           12.9   \n",
              "8538     1.4               0.3         92               46           25.0   \n",
              "412     -6.1             -10.9         69               48           25.0   \n",
              "413     -7.7             -12.4         69               46           19.3   \n",
              "1509     2.9              -3.6         62               46           25.0   \n",
              "1510     2.8              -3.4         64               57           25.0   \n",
              "8669    -7.5              -9.1         88               43            1.2   \n",
              "8671    -6.5              -7.6         92               44            1.2   \n",
              "8677    -5.4              -6.7         91               48            0.6   \n",
              "8678    -5.2              -6.7         89               46            0.6   \n",
              "\n",
              "      Press_kPa Std_Weather  \n",
              "410       98.62      CLOUDY  \n",
              "5827     100.49      CLOUDY  \n",
              "34        99.18      CLOUDY  \n",
              "7269      99.46      CLOUDY  \n",
              "7266      99.83      CLOUDY  \n",
              "1503      98.67      CLOUDY  \n",
              "2576     101.42       CLEAR  \n",
              "417      100.65       CLEAR  \n",
              "1626      99.64        RAIN  \n",
              "2712     100.73        RAIN  \n",
              "2716      99.82        RAIN  \n",
              "2717      99.74        RAIN  \n",
              "2718      99.66        RAIN  \n",
              "2719      99.52        RAIN  \n",
              "2720      99.40        RAIN  \n",
              "2721      99.29        RAIN  \n",
              "7608     100.94        RAIN  \n",
              "8536      97.93        RAIN  \n",
              "8537      97.76        RAIN  \n",
              "8538      97.56        RAIN  \n",
              "412       99.36        SNOW  \n",
              "413       99.70        SNOW  \n",
              "1509      98.98        SNOW  \n",
              "1510      99.07        SNOW  \n",
              "8669     100.95        SNOW  \n",
              "8671     100.73        SNOW  \n",
              "8677     100.36        SNOW  \n",
              "8678     100.35        SNOW  "
            ]
          },
          "execution_count": 1743,
          "metadata": {},
          "output_type": "execute_result"
        }
      ],
      "source": [
        "# Selecting rows where 'Wind Speed_km/h' values are potential outliers\n",
        "weather_df.loc[(weather_df['Wind Speed_km/h']>upper_limit) |(weather_df['Wind Speed_km/h']<lower_limit)]"
      ]
    },
    {
      "cell_type": "code",
      "execution_count": 1744,
      "metadata": {
        "colab": {
          "base_uri": "https://localhost:8080/"
        },
        "id": "KP-cao8PU9Bz",
        "outputId": "b3e324f9-db83-4f1d-b23e-eecd2dd4472e"
      },
      "outputs": [
        {
          "name": "stdout",
          "output_type": "stream",
          "text": [
            "before removing outliers: 2359\n",
            "after removing outliers: 2331\n",
            " outliers: 28\n"
          ]
        }
      ],
      "source": [
        "#Trimming\n",
        "\n",
        "# Creating a new DataFrame by excluding rows with potential outliers in 'Wind Speed_km/h'\n",
        "new_weather_df=weather_df.loc[(weather_df['Wind Speed_km/h']<upper_limit) &(weather_df['Wind Speed_km/h']>lower_limit)]\n",
        "\n",
        "# Printing information about the dataset before and after removing outliers\n",
        "print('before removing outliers:',len(weather_df))\n",
        "print('after removing outliers:',len(new_weather_df))\n",
        "print(' outliers:',len(weather_df)-len(new_weather_df))"
      ]
    },
    {
      "cell_type": "code",
      "execution_count": 1745,
      "metadata": {
        "colab": {
          "base_uri": "https://localhost:8080/",
          "height": 450
        },
        "id": "XvszdnzpVTbw",
        "outputId": "0e98fd44-0d2b-4857-d1e3-cf9b3d496390"
      },
      "outputs": [
        {
          "name": "stderr",
          "output_type": "stream",
          "text": [
            "c:\\Users\\ADMIN\\anaconda3\\envs\\myenv3.9\\lib\\site-packages\\seaborn\\_oldcore.py:1498: FutureWarning: is_categorical_dtype is deprecated and will be removed in a future version. Use isinstance(dtype, CategoricalDtype) instead\n",
            "  if pd.api.types.is_categorical_dtype(vector):\n"
          ]
        },
        {
          "data": {
            "image/png": "[encoded data removed]",
            "text/plain": [
              "<Figure size 640x480 with 1 Axes>"
            ]
          },
          "metadata": {},
          "output_type": "display_data"
        }
      ],
      "source": [
        "# Creating a box plot for the 'Wind Speed_km/h' column after removing outliers\n",
        "if 'Wind Speed_km/h' in new_weather_df.columns:\n",
        "    sns.boxplot(x=new_weather_df['Wind Speed_km/h'])\n",
        "else:\n",
        "    print(\"Column 'Wind Speed_km/h' not found in the DataFrame.\")"
      ]
    },
    {
      "cell_type": "code",
      "execution_count": 1746,
      "metadata": {
        "id": "swabdpXkVtij"
      },
      "outputs": [
        {
          "name": "stderr",
          "output_type": "stream",
          "text": [
            "C:\\Users\\ADMIN\\AppData\\Local\\Temp\\ipykernel_18500\\4093856608.py:7: FutureWarning: Setting an item of incompatible dtype is deprecated and will raise in a future error of pandas. Value '41.5' has dtype incompatible with int64, please explicitly cast to a compatible dtype first.\n",
            "  new_weather_df.loc[(new_weather_df['Wind Speed_km/h']>upper_limit),'Wind Speed_km/h']=upper_limit\n"
          ]
        }
      ],
      "source": [
        "# Capping\n",
        "\n",
        "# Creating a copy of the original DataFrame\n",
        "new_weather_df=weather_df.copy()\n",
        "\n",
        "# Capping values exceeding the upper limit in 'Wind Speed_km/h' with the upper limit\n",
        "new_weather_df.loc[(new_weather_df['Wind Speed_km/h']>upper_limit),'Wind Speed_km/h']=upper_limit\n",
        "\n",
        "# Flooring values below the lower limit in 'Wind Speed_km/h' with the lower limit\n",
        "new_weather_df.loc[(new_weather_df['Wind Speed_km/h']<lower_limit),'Wind Speed_km/h']=lower_limit"
      ]
    },
    {
      "cell_type": "code",
      "execution_count": 1747,
      "metadata": {
        "colab": {
          "base_uri": "https://localhost:8080/",
          "height": 450
        },
        "id": "dMfrChO2VtZu",
        "outputId": "cd516375-f47c-4f14-db43-9325fb034254"
      },
      "outputs": [
        {
          "name": "stderr",
          "output_type": "stream",
          "text": [
            "c:\\Users\\ADMIN\\anaconda3\\envs\\myenv3.9\\lib\\site-packages\\seaborn\\_oldcore.py:1498: FutureWarning: is_categorical_dtype is deprecated and will be removed in a future version. Use isinstance(dtype, CategoricalDtype) instead\n",
            "  if pd.api.types.is_categorical_dtype(vector):\n"
          ]
        },
        {
          "data": {
            "image/png": "[encoded data removed]",
            "text/plain": [
              "<Figure size 640x480 with 1 Axes>"
            ]
          },
          "metadata": {},
          "output_type": "display_data"
        }
      ],
      "source": [
        "# Creating a box plot for the 'Wind Speed_km/h' column after the capping\n",
        "if 'Wind Speed_km/h' in new_weather_df.columns:\n",
        "    sns.boxplot(x=new_weather_df['Wind Speed_km/h'])\n",
        "else:\n",
        "    print(\"Column 'Wind Speed_km/h' not found in the DataFrame.\")"
      ]
    },
    {
      "cell_type": "markdown",
      "metadata": {},
      "source": [
        "##### Remove outliers from feature 'Press_kPa'"
      ]
    },
    {
      "cell_type": "code",
      "execution_count": 1748,
      "metadata": {
        "id": "BHVjNbAHV4a2"
      },
      "outputs": [],
      "source": [
        "# Calculating the first quartile (q1), third quartile (q3) and  inter quartile range (iqr) for 'Press_kPa' colum\n",
        "q1=weather_df['Press_kPa'].quantile(0.25)\n",
        "q3=weather_df['Press_kPa'].quantile(0.75)\n",
        "iqr=q3-q1"
      ]
    },
    {
      "cell_type": "code",
      "execution_count": 1749,
      "metadata": {
        "colab": {
          "base_uri": "https://localhost:8080/"
        },
        "id": "453Egx6-V4S2",
        "outputId": "0fc66dec-aed0-48ed-9f3d-6cdf048b2e16"
      },
      "outputs": [
        {
          "data": {
            "text/plain": [
              "(100.29, 101.405, 1.1149999999999949)"
            ]
          },
          "execution_count": 1749,
          "metadata": {},
          "output_type": "execute_result"
        }
      ],
      "source": [
        "# Displaying the values of q1, q3 and iqr\n",
        "q1,q3,iqr"
      ]
    },
    {
      "cell_type": "code",
      "execution_count": 1750,
      "metadata": {
        "colab": {
          "base_uri": "https://localhost:8080/"
        },
        "id": "gKit47f8V4FA",
        "outputId": "f903c368-f9ca-41f0-c4a0-3580dfc2331f"
      },
      "outputs": [
        {
          "data": {
            "text/plain": [
              "(98.6175, 103.07749999999999)"
            ]
          },
          "execution_count": 1750,
          "metadata": {},
          "output_type": "execute_result"
        }
      ],
      "source": [
        "# Calculating and displaying the upper and limit for potential outliers\n",
        "upper_limit=q3+(1.5*iqr)\n",
        "lower_limit=q1-(1.5*iqr)\n",
        "lower_limit,upper_limit"
      ]
    },
    {
      "cell_type": "code",
      "execution_count": 1751,
      "metadata": {
        "colab": {
          "base_uri": "https://localhost:8080/",
          "height": 450
        },
        "id": "rvWE-VzdV39U",
        "outputId": "52a218da-56ae-47e4-e25e-c941fb078284"
      },
      "outputs": [
        {
          "name": "stderr",
          "output_type": "stream",
          "text": [
            "c:\\Users\\ADMIN\\anaconda3\\envs\\myenv3.9\\lib\\site-packages\\seaborn\\_oldcore.py:1498: FutureWarning: is_categorical_dtype is deprecated and will be removed in a future version. Use isinstance(dtype, CategoricalDtype) instead\n",
            "  if pd.api.types.is_categorical_dtype(vector):\n"
          ]
        },
        {
          "data": {
            "image/png": "[encoded data removed]",
            "text/plain": [
              "<Figure size 640x480 with 1 Axes>"
            ]
          },
          "metadata": {},
          "output_type": "display_data"
        }
      ],
      "source": [
        "# Creating a box plot for the 'Press_kPa' column\n",
        "if 'Press_kPa' in weather_df.columns:\n",
        "    sns.boxplot(x=weather_df['Press_kPa'])\n",
        "else:\n",
        "    print(\"Column 'Press_kPa' not found in the DataFrame.\")"
      ]
    },
    {
      "cell_type": "code",
      "execution_count": 1752,
      "metadata": {
        "colab": {
          "base_uri": "https://localhost:8080/",
          "height": 478
        },
        "id": "Wm7g6qZhV30n",
        "outputId": "427ff8e6-5f6e-4daa-8a2f-db872ea7ca43"
      },
      "outputs": [
        {
          "data": {
            "text/html": [
              "<div>\n",
              "<style scoped>\n",
              "    .dataframe tbody tr th:only-of-type {\n",
              "        vertical-align: middle;\n",
              "    }\n",
              "\n",
              "    .dataframe tbody tr th {\n",
              "        vertical-align: top;\n",
              "    }\n",
              "\n",
              "    .dataframe thead th {\n",
              "        text-align: right;\n",
              "    }\n",
              "</style>\n",
              "<table border=\"1\" class=\"dataframe\">\n",
              "  <thead>\n",
              "    <tr style=\"text-align: right;\">\n",
              "      <th></th>\n",
              "      <th>Temp_C</th>\n",
              "      <th>Dew Point Temp_C</th>\n",
              "      <th>Rel Hum_%</th>\n",
              "      <th>Wind Speed_km/h</th>\n",
              "      <th>Visibility_km</th>\n",
              "      <th>Press_kPa</th>\n",
              "      <th>Std_Weather</th>\n",
              "    </tr>\n",
              "  </thead>\n",
              "  <tbody>\n",
              "    <tr>\n",
              "      <th>7714</th>\n",
              "      <td>-1.0</td>\n",
              "      <td>-8.9</td>\n",
              "      <td>55</td>\n",
              "      <td>7</td>\n",
              "      <td>48.3</td>\n",
              "      <td>103.52</td>\n",
              "      <td>CLOUDY</td>\n",
              "    </tr>\n",
              "    <tr>\n",
              "      <th>7735</th>\n",
              "      <td>-6.4</td>\n",
              "      <td>-8.4</td>\n",
              "      <td>86</td>\n",
              "      <td>9</td>\n",
              "      <td>24.1</td>\n",
              "      <td>103.63</td>\n",
              "      <td>CLOUDY</td>\n",
              "    </tr>\n",
              "    <tr>\n",
              "      <th>8034</th>\n",
              "      <td>-9.5</td>\n",
              "      <td>-15.5</td>\n",
              "      <td>62</td>\n",
              "      <td>13</td>\n",
              "      <td>25.0</td>\n",
              "      <td>103.24</td>\n",
              "      <td>CLOUDY</td>\n",
              "    </tr>\n",
              "    <tr>\n",
              "      <th>2736</th>\n",
              "      <td>5.7</td>\n",
              "      <td>4.2</td>\n",
              "      <td>90</td>\n",
              "      <td>13</td>\n",
              "      <td>25.0</td>\n",
              "      <td>98.60</td>\n",
              "      <td>CLOUDY</td>\n",
              "    </tr>\n",
              "    <tr>\n",
              "      <th>7748</th>\n",
              "      <td>-1.8</td>\n",
              "      <td>-6.8</td>\n",
              "      <td>69</td>\n",
              "      <td>6</td>\n",
              "      <td>25.0</td>\n",
              "      <td>103.30</td>\n",
              "      <td>CLOUDY</td>\n",
              "    </tr>\n",
              "    <tr>\n",
              "      <th>...</th>\n",
              "      <td>...</td>\n",
              "      <td>...</td>\n",
              "      <td>...</td>\n",
              "      <td>...</td>\n",
              "      <td>...</td>\n",
              "      <td>...</td>\n",
              "      <td>...</td>\n",
              "    </tr>\n",
              "    <tr>\n",
              "      <th>8549</th>\n",
              "      <td>-0.9</td>\n",
              "      <td>-1.9</td>\n",
              "      <td>93</td>\n",
              "      <td>35</td>\n",
              "      <td>4.8</td>\n",
              "      <td>98.07</td>\n",
              "      <td>SNOW</td>\n",
              "    </tr>\n",
              "    <tr>\n",
              "      <th>8550</th>\n",
              "      <td>-1.6</td>\n",
              "      <td>-3.0</td>\n",
              "      <td>90</td>\n",
              "      <td>41</td>\n",
              "      <td>4.0</td>\n",
              "      <td>98.19</td>\n",
              "      <td>SNOW</td>\n",
              "    </tr>\n",
              "    <tr>\n",
              "      <th>8551</th>\n",
              "      <td>-2.2</td>\n",
              "      <td>-3.7</td>\n",
              "      <td>89</td>\n",
              "      <td>35</td>\n",
              "      <td>4.8</td>\n",
              "      <td>98.32</td>\n",
              "      <td>SNOW</td>\n",
              "    </tr>\n",
              "    <tr>\n",
              "      <th>8552</th>\n",
              "      <td>-2.5</td>\n",
              "      <td>-4.5</td>\n",
              "      <td>86</td>\n",
              "      <td>41</td>\n",
              "      <td>4.0</td>\n",
              "      <td>98.44</td>\n",
              "      <td>SNOW</td>\n",
              "    </tr>\n",
              "    <tr>\n",
              "      <th>8553</th>\n",
              "      <td>-3.0</td>\n",
              "      <td>-5.0</td>\n",
              "      <td>86</td>\n",
              "      <td>35</td>\n",
              "      <td>3.2</td>\n",
              "      <td>98.58</td>\n",
              "      <td>SNOW</td>\n",
              "    </tr>\n",
              "  </tbody>\n",
              "</table>\n",
              "<p>64 rows × 7 columns</p>\n",
              "</div>"
            ],
            "text/plain": [
              "      Temp_C  Dew Point Temp_C  Rel Hum_%  Wind Speed_km/h  Visibility_km  \\\n",
              "7714    -1.0              -8.9         55                7           48.3   \n",
              "7735    -6.4              -8.4         86                9           24.1   \n",
              "8034    -9.5             -15.5         62               13           25.0   \n",
              "2736     5.7               4.2         90               13           25.0   \n",
              "7748    -1.8              -6.8         69                6           25.0   \n",
              "...      ...               ...        ...              ...            ...   \n",
              "8549    -0.9              -1.9         93               35            4.8   \n",
              "8550    -1.6              -3.0         90               41            4.0   \n",
              "8551    -2.2              -3.7         89               35            4.8   \n",
              "8552    -2.5              -4.5         86               41            4.0   \n",
              "8553    -3.0              -5.0         86               35            3.2   \n",
              "\n",
              "      Press_kPa Std_Weather  \n",
              "7714     103.52      CLOUDY  \n",
              "7735     103.63      CLOUDY  \n",
              "8034     103.24      CLOUDY  \n",
              "2736      98.60      CLOUDY  \n",
              "7748     103.30      CLOUDY  \n",
              "...         ...         ...  \n",
              "8549      98.07        SNOW  \n",
              "8550      98.19        SNOW  \n",
              "8551      98.32        SNOW  \n",
              "8552      98.44        SNOW  \n",
              "8553      98.58        SNOW  \n",
              "\n",
              "[64 rows x 7 columns]"
            ]
          },
          "execution_count": 1752,
          "metadata": {},
          "output_type": "execute_result"
        }
      ],
      "source": [
        "# Selecting rows where 'Press_kPa' values are potential outliers\n",
        "weather_df.loc[(weather_df['Press_kPa']>upper_limit) |(weather_df['Press_kPa']<lower_limit)]"
      ]
    },
    {
      "cell_type": "code",
      "execution_count": 1753,
      "metadata": {
        "colab": {
          "base_uri": "https://localhost:8080/"
        },
        "id": "9PL8mJhHWPVE",
        "outputId": "eca655bb-4a9f-421a-feb2-43cbfe874cb8"
      },
      "outputs": [
        {
          "name": "stdout",
          "output_type": "stream",
          "text": [
            "before removing outliers: 2359\n",
            "after removing outliers: 2295\n",
            " outliers: 64\n"
          ]
        }
      ],
      "source": [
        "#Trimming\n",
        "\n",
        "# Creating a new DataFrame by excluding rows with potential outliers in 'Press_kPa'\n",
        "new_weather_df=weather_df.loc[(weather_df['Press_kPa']<upper_limit) &(weather_df['Press_kPa']>lower_limit)]\n",
        "\n",
        "# Printing information about the dataset before and after removing outliers\n",
        "print('before removing outliers:',len(weather_df))\n",
        "print('after removing outliers:',len(new_weather_df))\n",
        "print(' outliers:',len(weather_df)-len(new_weather_df))"
      ]
    },
    {
      "cell_type": "code",
      "execution_count": 1754,
      "metadata": {
        "colab": {
          "base_uri": "https://localhost:8080/",
          "height": 450
        },
        "id": "Ag59yjt7WPMc",
        "outputId": "47084703-2013-4b58-f178-3e8e914b2f45"
      },
      "outputs": [
        {
          "name": "stderr",
          "output_type": "stream",
          "text": [
            "c:\\Users\\ADMIN\\anaconda3\\envs\\myenv3.9\\lib\\site-packages\\seaborn\\_oldcore.py:1498: FutureWarning: is_categorical_dtype is deprecated and will be removed in a future version. Use isinstance(dtype, CategoricalDtype) instead\n",
            "  if pd.api.types.is_categorical_dtype(vector):\n"
          ]
        },
        {
          "data": {
            "image/png": "[encoded data removed]",
            "text/plain": [
              "<Figure size 640x480 with 1 Axes>"
            ]
          },
          "metadata": {},
          "output_type": "display_data"
        }
      ],
      "source": [
        "# Creating a box plot for the 'Press_kPa' column after removing outliers\n",
        "if 'Press_kPa' in new_weather_df.columns:\n",
        "    sns.boxplot(x=new_weather_df['Press_kPa'])\n",
        "else:\n",
        "    print(\"Column 'Press_kPa' not found in the DataFrame.\")"
      ]
    },
    {
      "cell_type": "code",
      "execution_count": 1755,
      "metadata": {
        "id": "CBlpYf3gWO8c"
      },
      "outputs": [],
      "source": [
        "# Capping\n",
        "\n",
        "# Creating a copy of the original DataFrame\n",
        "new_weather_df=weather_df.copy()\n",
        "\n",
        "# Capping values exceeding the upper limit in 'Press_kPa' with the upper limit\n",
        "new_weather_df.loc[(new_weather_df['Press_kPa']>upper_limit),'Press_kPa']=upper_limit\n",
        "\n",
        "# Flooring values below the lower limit in 'Press_kPa' with the lower limit\n",
        "new_weather_df.loc[(new_weather_df['Press_kPa']<lower_limit),'Press_kPa']=lower_limit"
      ]
    },
    {
      "cell_type": "code",
      "execution_count": 1756,
      "metadata": {
        "colab": {
          "base_uri": "https://localhost:8080/",
          "height": 450
        },
        "id": "ONH_F8V-Wa35",
        "outputId": "3bc36901-2d33-42f8-bc66-ae5cb4e56045"
      },
      "outputs": [
        {
          "name": "stderr",
          "output_type": "stream",
          "text": [
            "c:\\Users\\ADMIN\\anaconda3\\envs\\myenv3.9\\lib\\site-packages\\seaborn\\_oldcore.py:1498: FutureWarning: is_categorical_dtype is deprecated and will be removed in a future version. Use isinstance(dtype, CategoricalDtype) instead\n",
            "  if pd.api.types.is_categorical_dtype(vector):\n"
          ]
        },
        {
          "data": {
            "image/png": "[encoded data removed]",
            "text/plain": [
              "<Figure size 640x480 with 1 Axes>"
            ]
          },
          "metadata": {},
          "output_type": "display_data"
        }
      ],
      "source": [
        "# Creating a box plot for the 'Press_kPa' column after the capping\n",
        "if 'Press_kPa' in new_weather_df.columns:\n",
        "    sns.boxplot(x=new_weather_df['Press_kPa'])\n",
        "else:\n",
        "    print(\"Column 'Press_kPa' not found in the DataFrame.\")"
      ]
    },
    {
      "cell_type": "code",
      "execution_count": 1757,
      "metadata": {
        "colab": {
          "base_uri": "https://localhost:8080/",
          "height": 261
        },
        "id": "PADJ45mSscnG",
        "outputId": "ee1b6dcf-142a-438a-887a-9065fd404c57"
      },
      "outputs": [
        {
          "data": {
            "text/html": [
              "<div>\n",
              "<style scoped>\n",
              "    .dataframe tbody tr th:only-of-type {\n",
              "        vertical-align: middle;\n",
              "    }\n",
              "\n",
              "    .dataframe tbody tr th {\n",
              "        vertical-align: top;\n",
              "    }\n",
              "\n",
              "    .dataframe thead th {\n",
              "        text-align: right;\n",
              "    }\n",
              "</style>\n",
              "<table border=\"1\" class=\"dataframe\">\n",
              "  <thead>\n",
              "    <tr style=\"text-align: right;\">\n",
              "      <th></th>\n",
              "      <th>Temp_C</th>\n",
              "      <th>Dew Point Temp_C</th>\n",
              "      <th>Rel Hum_%</th>\n",
              "      <th>Wind Speed_km/h</th>\n",
              "      <th>Visibility_km</th>\n",
              "      <th>Press_kPa</th>\n",
              "      <th>Std_Weather</th>\n",
              "    </tr>\n",
              "  </thead>\n",
              "  <tbody>\n",
              "    <tr>\n",
              "      <th>8581</th>\n",
              "      <td>-7.4</td>\n",
              "      <td>-12.4</td>\n",
              "      <td>67</td>\n",
              "      <td>20</td>\n",
              "      <td>24.1</td>\n",
              "      <td>100.37</td>\n",
              "      <td>CLOUDY</td>\n",
              "    </tr>\n",
              "    <tr>\n",
              "      <th>7618</th>\n",
              "      <td>4.7</td>\n",
              "      <td>-1.3</td>\n",
              "      <td>65</td>\n",
              "      <td>37</td>\n",
              "      <td>24.1</td>\n",
              "      <td>102.07</td>\n",
              "      <td>CLOUDY</td>\n",
              "    </tr>\n",
              "    <tr>\n",
              "      <th>3898</th>\n",
              "      <td>24.8</td>\n",
              "      <td>16.3</td>\n",
              "      <td>59</td>\n",
              "      <td>4</td>\n",
              "      <td>24.1</td>\n",
              "      <td>101.58</td>\n",
              "      <td>CLOUDY</td>\n",
              "    </tr>\n",
              "    <tr>\n",
              "      <th>4443</th>\n",
              "      <td>19.3</td>\n",
              "      <td>16.4</td>\n",
              "      <td>83</td>\n",
              "      <td>13</td>\n",
              "      <td>25.0</td>\n",
              "      <td>100.19</td>\n",
              "      <td>CLOUDY</td>\n",
              "    </tr>\n",
              "    <tr>\n",
              "      <th>1262</th>\n",
              "      <td>6.1</td>\n",
              "      <td>-1.4</td>\n",
              "      <td>59</td>\n",
              "      <td>17</td>\n",
              "      <td>24.1</td>\n",
              "      <td>99.32</td>\n",
              "      <td>CLOUDY</td>\n",
              "    </tr>\n",
              "  </tbody>\n",
              "</table>\n",
              "</div>"
            ],
            "text/plain": [
              "      Temp_C  Dew Point Temp_C  Rel Hum_%  Wind Speed_km/h  Visibility_km  \\\n",
              "8581    -7.4             -12.4         67               20           24.1   \n",
              "7618     4.7              -1.3         65               37           24.1   \n",
              "3898    24.8              16.3         59                4           24.1   \n",
              "4443    19.3              16.4         83               13           25.0   \n",
              "1262     6.1              -1.4         59               17           24.1   \n",
              "\n",
              "      Press_kPa Std_Weather  \n",
              "8581     100.37      CLOUDY  \n",
              "7618     102.07      CLOUDY  \n",
              "3898     101.58      CLOUDY  \n",
              "4443     100.19      CLOUDY  \n",
              "1262      99.32      CLOUDY  "
            ]
          },
          "execution_count": 1757,
          "metadata": {},
          "output_type": "execute_result"
        }
      ],
      "source": [
        "# Displaying the first few rows of the modified 'new_weather_df' DataFrame after removing all outliers\n",
        "new_weather_df.head()"
      ]
    },
    {
      "cell_type": "markdown",
      "metadata": {
        "id": "Ho3MWmZLslo2"
      },
      "source": [
        "### Label Encoding"
      ]
    },
    {
      "cell_type": "markdown",
      "metadata": {
        "id": "fXmIsXqMs2uL"
      },
      "source": [
        "#### Converting target variable into numeric values"
      ]
    },
    {
      "cell_type": "code",
      "execution_count": 1758,
      "metadata": {
        "id": "Uzj5QTt6s-oa"
      },
      "outputs": [
        {
          "data": {
            "text/plain": [
              "array(['CLEAR', 'CLOUDY', 'RAIN', 'SNOW'], dtype=object)"
            ]
          },
          "execution_count": 1758,
          "metadata": {},
          "output_type": "execute_result"
        }
      ],
      "source": [
        "# Importing LabelEncoder from scikit-learn\n",
        "from sklearn.preprocessing import LabelEncoder\n",
        "\n",
        "# Creating a LabelEncoder instance\n",
        "label_Encoder=LabelEncoder()\n",
        "\n",
        "# Encoding the 'Std_Weather' column in the 'new_weather_df' DataFrame\n",
        "new_weather_df['Std_Weather']=label_Encoder.fit_transform(new_weather_df['Std_Weather'])\n",
        "\n",
        "# Obtaining the mapping between original categorical values and numerical labels\n",
        "label_Encoder.classes_"
      ]
    },
    {
      "cell_type": "code",
      "execution_count": 1759,
      "metadata": {
        "colab": {
          "base_uri": "https://localhost:8080/",
          "height": 261
        },
        "id": "PKDQae_4tGU0",
        "outputId": "c0fda8be-35e6-4ce3-8923-af1bf6711e31"
      },
      "outputs": [
        {
          "name": "stderr",
          "output_type": "stream",
          "text": [
            "C:\\Users\\ADMIN\\AppData\\Roaming\\Python\\Python39\\site-packages\\IPython\\core\\displayhook.py:281: UserWarning: Output cache limit (currently 1000 entries) hit.\n",
            "Flushing oldest 200 entries.\n",
            "  warn('Output cache limit (currently {sz} entries) hit.\\n'\n"
          ]
        },
        {
          "data": {
            "text/html": [
              "<div>\n",
              "<style scoped>\n",
              "    .dataframe tbody tr th:only-of-type {\n",
              "        vertical-align: middle;\n",
              "    }\n",
              "\n",
              "    .dataframe tbody tr th {\n",
              "        vertical-align: top;\n",
              "    }\n",
              "\n",
              "    .dataframe thead th {\n",
              "        text-align: right;\n",
              "    }\n",
              "</style>\n",
              "<table border=\"1\" class=\"dataframe\">\n",
              "  <thead>\n",
              "    <tr style=\"text-align: right;\">\n",
              "      <th></th>\n",
              "      <th>Temp_C</th>\n",
              "      <th>Dew Point Temp_C</th>\n",
              "      <th>Rel Hum_%</th>\n",
              "      <th>Wind Speed_km/h</th>\n",
              "      <th>Visibility_km</th>\n",
              "      <th>Press_kPa</th>\n",
              "      <th>Std_Weather</th>\n",
              "    </tr>\n",
              "  </thead>\n",
              "  <tbody>\n",
              "    <tr>\n",
              "      <th>8581</th>\n",
              "      <td>-7.4</td>\n",
              "      <td>-12.4</td>\n",
              "      <td>67</td>\n",
              "      <td>20</td>\n",
              "      <td>24.1</td>\n",
              "      <td>100.37</td>\n",
              "      <td>1</td>\n",
              "    </tr>\n",
              "    <tr>\n",
              "      <th>7618</th>\n",
              "      <td>4.7</td>\n",
              "      <td>-1.3</td>\n",
              "      <td>65</td>\n",
              "      <td>37</td>\n",
              "      <td>24.1</td>\n",
              "      <td>102.07</td>\n",
              "      <td>1</td>\n",
              "    </tr>\n",
              "    <tr>\n",
              "      <th>3898</th>\n",
              "      <td>24.8</td>\n",
              "      <td>16.3</td>\n",
              "      <td>59</td>\n",
              "      <td>4</td>\n",
              "      <td>24.1</td>\n",
              "      <td>101.58</td>\n",
              "      <td>1</td>\n",
              "    </tr>\n",
              "    <tr>\n",
              "      <th>4443</th>\n",
              "      <td>19.3</td>\n",
              "      <td>16.4</td>\n",
              "      <td>83</td>\n",
              "      <td>13</td>\n",
              "      <td>25.0</td>\n",
              "      <td>100.19</td>\n",
              "      <td>1</td>\n",
              "    </tr>\n",
              "    <tr>\n",
              "      <th>1262</th>\n",
              "      <td>6.1</td>\n",
              "      <td>-1.4</td>\n",
              "      <td>59</td>\n",
              "      <td>17</td>\n",
              "      <td>24.1</td>\n",
              "      <td>99.32</td>\n",
              "      <td>1</td>\n",
              "    </tr>\n",
              "  </tbody>\n",
              "</table>\n",
              "</div>"
            ],
            "text/plain": [
              "      Temp_C  Dew Point Temp_C  Rel Hum_%  Wind Speed_km/h  Visibility_km  \\\n",
              "8581    -7.4             -12.4         67               20           24.1   \n",
              "7618     4.7              -1.3         65               37           24.1   \n",
              "3898    24.8              16.3         59                4           24.1   \n",
              "4443    19.3              16.4         83               13           25.0   \n",
              "1262     6.1              -1.4         59               17           24.1   \n",
              "\n",
              "      Press_kPa  Std_Weather  \n",
              "8581     100.37            1  \n",
              "7618     102.07            1  \n",
              "3898     101.58            1  \n",
              "4443     100.19            1  \n",
              "1262      99.32            1  "
            ]
          },
          "execution_count": 1759,
          "metadata": {},
          "output_type": "execute_result"
        }
      ],
      "source": [
        "# Displaying the first few rows of the modified 'new_weather_df' DataFrame after the Encoding\n",
        "new_weather_df.head\t()"
      ]
    },
    {
      "cell_type": "code",
      "execution_count": 1760,
      "metadata": {
        "colab": {
          "base_uri": "https://localhost:8080/"
        },
        "id": "wcQ4Y3yQtH-G",
        "outputId": "d16ee91d-7e36-4b55-f3ed-ef370ea8087c"
      },
      "outputs": [
        {
          "data": {
            "text/plain": [
              "Std_Weather\n",
              "2    603\n",
              "1    600\n",
              "0    600\n",
              "3    556\n",
              "Name: count, dtype: int64"
            ]
          },
          "execution_count": 1760,
          "metadata": {},
          "output_type": "execute_result"
        }
      ],
      "source": [
        "# Displaying the count of each unique value in the 'Std_Weather' column of the 'new_weather_df' DataFrame after the Encoding\n",
        "new_weather_df.Std_Weather.value_counts()"
      ]
    },
    {
      "cell_type": "markdown",
      "metadata": {
        "id": "hYpAK3LltSid"
      },
      "source": [
        "#### X,Y Variables"
      ]
    },
    {
      "cell_type": "code",
      "execution_count": 1761,
      "metadata": {
        "colab": {
          "base_uri": "https://localhost:8080/",
          "height": 441
        },
        "id": "qUFmroBetbJL",
        "outputId": "5784ab41-1712-4665-c126-c9a2e91fe0b8"
      },
      "outputs": [
        {
          "data": {
            "text/html": [
              "<div>\n",
              "<style scoped>\n",
              "    .dataframe tbody tr th:only-of-type {\n",
              "        vertical-align: middle;\n",
              "    }\n",
              "\n",
              "    .dataframe tbody tr th {\n",
              "        vertical-align: top;\n",
              "    }\n",
              "\n",
              "    .dataframe thead th {\n",
              "        text-align: right;\n",
              "    }\n",
              "</style>\n",
              "<table border=\"1\" class=\"dataframe\">\n",
              "  <thead>\n",
              "    <tr style=\"text-align: right;\">\n",
              "      <th></th>\n",
              "      <th>Temp_C</th>\n",
              "      <th>Dew Point Temp_C</th>\n",
              "      <th>Rel Hum_%</th>\n",
              "      <th>Wind Speed_km/h</th>\n",
              "      <th>Visibility_km</th>\n",
              "      <th>Press_kPa</th>\n",
              "    </tr>\n",
              "  </thead>\n",
              "  <tbody>\n",
              "    <tr>\n",
              "      <th>8581</th>\n",
              "      <td>-7.4</td>\n",
              "      <td>-12.4</td>\n",
              "      <td>67</td>\n",
              "      <td>20</td>\n",
              "      <td>24.1</td>\n",
              "      <td>100.37</td>\n",
              "    </tr>\n",
              "    <tr>\n",
              "      <th>7618</th>\n",
              "      <td>4.7</td>\n",
              "      <td>-1.3</td>\n",
              "      <td>65</td>\n",
              "      <td>37</td>\n",
              "      <td>24.1</td>\n",
              "      <td>102.07</td>\n",
              "    </tr>\n",
              "    <tr>\n",
              "      <th>3898</th>\n",
              "      <td>24.8</td>\n",
              "      <td>16.3</td>\n",
              "      <td>59</td>\n",
              "      <td>4</td>\n",
              "      <td>24.1</td>\n",
              "      <td>101.58</td>\n",
              "    </tr>\n",
              "    <tr>\n",
              "      <th>4443</th>\n",
              "      <td>19.3</td>\n",
              "      <td>16.4</td>\n",
              "      <td>83</td>\n",
              "      <td>13</td>\n",
              "      <td>25.0</td>\n",
              "      <td>100.19</td>\n",
              "    </tr>\n",
              "    <tr>\n",
              "      <th>1262</th>\n",
              "      <td>6.1</td>\n",
              "      <td>-1.4</td>\n",
              "      <td>59</td>\n",
              "      <td>17</td>\n",
              "      <td>24.1</td>\n",
              "      <td>99.32</td>\n",
              "    </tr>\n",
              "    <tr>\n",
              "      <th>...</th>\n",
              "      <td>...</td>\n",
              "      <td>...</td>\n",
              "      <td>...</td>\n",
              "      <td>...</td>\n",
              "      <td>...</td>\n",
              "      <td>...</td>\n",
              "    </tr>\n",
              "    <tr>\n",
              "      <th>8779</th>\n",
              "      <td>0.1</td>\n",
              "      <td>-2.7</td>\n",
              "      <td>81</td>\n",
              "      <td>30</td>\n",
              "      <td>9.7</td>\n",
              "      <td>100.13</td>\n",
              "    </tr>\n",
              "    <tr>\n",
              "      <th>8780</th>\n",
              "      <td>0.2</td>\n",
              "      <td>-2.4</td>\n",
              "      <td>83</td>\n",
              "      <td>24</td>\n",
              "      <td>9.7</td>\n",
              "      <td>100.03</td>\n",
              "    </tr>\n",
              "    <tr>\n",
              "      <th>8781</th>\n",
              "      <td>-0.5</td>\n",
              "      <td>-1.5</td>\n",
              "      <td>93</td>\n",
              "      <td>28</td>\n",
              "      <td>4.8</td>\n",
              "      <td>99.95</td>\n",
              "    </tr>\n",
              "    <tr>\n",
              "      <th>8782</th>\n",
              "      <td>-0.2</td>\n",
              "      <td>-1.8</td>\n",
              "      <td>89</td>\n",
              "      <td>28</td>\n",
              "      <td>9.7</td>\n",
              "      <td>99.91</td>\n",
              "    </tr>\n",
              "    <tr>\n",
              "      <th>8783</th>\n",
              "      <td>0.0</td>\n",
              "      <td>-2.1</td>\n",
              "      <td>86</td>\n",
              "      <td>30</td>\n",
              "      <td>11.3</td>\n",
              "      <td>99.89</td>\n",
              "    </tr>\n",
              "  </tbody>\n",
              "</table>\n",
              "<p>2359 rows × 6 columns</p>\n",
              "</div>"
            ],
            "text/plain": [
              "      Temp_C  Dew Point Temp_C  Rel Hum_%  Wind Speed_km/h  Visibility_km  \\\n",
              "8581    -7.4             -12.4         67               20           24.1   \n",
              "7618     4.7              -1.3         65               37           24.1   \n",
              "3898    24.8              16.3         59                4           24.1   \n",
              "4443    19.3              16.4         83               13           25.0   \n",
              "1262     6.1              -1.4         59               17           24.1   \n",
              "...      ...               ...        ...              ...            ...   \n",
              "8779     0.1              -2.7         81               30            9.7   \n",
              "8780     0.2              -2.4         83               24            9.7   \n",
              "8781    -0.5              -1.5         93               28            4.8   \n",
              "8782    -0.2              -1.8         89               28            9.7   \n",
              "8783     0.0              -2.1         86               30           11.3   \n",
              "\n",
              "      Press_kPa  \n",
              "8581     100.37  \n",
              "7618     102.07  \n",
              "3898     101.58  \n",
              "4443     100.19  \n",
              "1262      99.32  \n",
              "...         ...  \n",
              "8779     100.13  \n",
              "8780     100.03  \n",
              "8781      99.95  \n",
              "8782      99.91  \n",
              "8783      99.89  \n",
              "\n",
              "[2359 rows x 6 columns]"
            ]
          },
          "execution_count": 1761,
          "metadata": {},
          "output_type": "execute_result"
        }
      ],
      "source": [
        "# Creating a new DataFrame 'X' by dropping the 'Std_Weather' column\n",
        "X=new_weather_df.drop(['Std_Weather'],axis=1)\n",
        "X"
      ]
    },
    {
      "cell_type": "code",
      "execution_count": 1762,
      "metadata": {
        "colab": {
          "base_uri": "https://localhost:8080/"
        },
        "id": "9K5nm16UtdUd",
        "outputId": "85c40dab-cbbc-43b4-c774-dab9f42ac5ea"
      },
      "outputs": [
        {
          "data": {
            "text/plain": [
              "8581    1\n",
              "7618    1\n",
              "3898    1\n",
              "4443    1\n",
              "1262    1\n",
              "       ..\n",
              "8779    3\n",
              "8780    3\n",
              "8781    3\n",
              "8782    3\n",
              "8783    3\n",
              "Name: Std_Weather, Length: 2359, dtype: int32"
            ]
          },
          "execution_count": 1762,
          "metadata": {},
          "output_type": "execute_result"
        }
      ],
      "source": [
        "# Creating a new Series 'Y' by selecting the 'Std_Weather' column\n",
        "Y=new_weather_df['Std_Weather']\n",
        "Y"
      ]
    },
    {
      "cell_type": "markdown",
      "metadata": {
        "id": "iqL-2A8zth3V"
      },
      "source": [
        "### Feature Scaling"
      ]
    },
    {
      "cell_type": "code",
      "execution_count": 1763,
      "metadata": {
        "id": "pTbvqYQQtsmz"
      },
      "outputs": [
        {
          "data": {
            "text/plain": [
              "array([[-1.23313704, -1.30893533, -0.31297501,  0.34486828,  0.06527008,\n",
              "        -0.49793789],\n",
              "       [-0.17329758, -0.26692452, -0.4373321 ,  2.16943987,  0.06527008,\n",
              "         1.4244129 ],\n",
              "       [ 1.58726219,  1.38527281, -0.81040337, -1.37237557,  0.06527008,\n",
              "         0.87032355],\n",
              "       ...,\n",
              "       [-0.62876577, -0.28569948,  1.30366716,  1.2034902 , -1.44449055,\n",
              "        -0.97287162],\n",
              "       [-0.60248876, -0.31386194,  1.05495298,  1.2034902 , -1.06118345,\n",
              "        -1.0181034 ],\n",
              "       [-0.58497076, -0.34202439,  0.86841735,  1.41814568, -0.93602194,\n",
              "        -1.04071929]])"
            ]
          },
          "execution_count": 1763,
          "metadata": {},
          "output_type": "execute_result"
        }
      ],
      "source": [
        "# Importing StandardScaler from scikit-learn\n",
        "from sklearn.preprocessing import StandardScaler\n",
        "\n",
        "# Creating a StandardScaler instance\n",
        "std_scaler=StandardScaler()\n",
        "\n",
        "# Standardizing the features in the DataFrame 'X'\n",
        "X_std=std_scaler.fit_transform(X)\n",
        "X_std"
      ]
    },
    {
      "cell_type": "markdown",
      "metadata": {
        "id": "VnZgiuIHt2kd"
      },
      "source": [
        "### Splitting Data into training and testing set"
      ]
    },
    {
      "cell_type": "code",
      "execution_count": 1764,
      "metadata": {
        "id": "U1jseCzVt7KC"
      },
      "outputs": [
        {
          "data": {
            "text/plain": [
              "((1651, 6), (708, 6))"
            ]
          },
          "execution_count": 1764,
          "metadata": {},
          "output_type": "execute_result"
        }
      ],
      "source": [
        "# Importing train_test_split from scikit-learn\n",
        "from sklearn.model_selection import train_test_split\n",
        "\n",
        "# Splitting the data into training and testing sets\n",
        "x_train,x_test,y_train,y_test=train_test_split(X_std,Y,test_size=0.3,random_state=3)\n",
        "\n",
        "# Displaying the shapes of the training and testing sets\n",
        "x_train.shape,x_test.shape"
      ]
    },
    {
      "cell_type": "markdown",
      "metadata": {
        "id": "LIQuX2v5u-V9"
      },
      "source": [
        "### Building Logistic Regression Model"
      ]
    },
    {
      "cell_type": "code",
      "execution_count": 1765,
      "metadata": {
        "colab": {
          "base_uri": "https://localhost:8080/"
        },
        "id": "eVlVzPp51-rG",
        "outputId": "841cb0fe-057e-4571-9ef3-25b914768cfd"
      },
      "outputs": [
        {
          "name": "stdout",
          "output_type": "stream",
          "text": [
            "Cross-validated accuracies: [0.61445783 0.63030303 0.60606061 0.63030303 0.61212121 0.58181818\n",
            " 0.61212121 0.6        0.68484848 0.7030303 ]\n"
          ]
        }
      ],
      "source": [
        "# Importing cross_val_score and LogisticRegression from scikit-learn\n",
        "from sklearn.model_selection import cross_val_score\n",
        "from sklearn.linear_model import LogisticRegression\n",
        "\n",
        "# Creating an instance of Logistic Regression\n",
        "logreg = LogisticRegression()\n",
        "\n",
        "# Performing cross-validation and obtaining the accuracies\n",
        "accuracies = cross_val_score(estimator=logreg, X=x_train, y=y_train, cv=10)\n",
        "print(\"Cross-validated accuracies:\", accuracies)\n",
        "\n"
      ]
    },
    {
      "cell_type": "code",
      "execution_count": 1766,
      "metadata": {},
      "outputs": [
        {
          "name": "stdout",
          "output_type": "stream",
          "text": [
            "Average accuracy: 0.6275063891931361\n",
            "Average std: 0.035993370864193644\n",
            "Train accuracy: 0.6293155663234403\n",
            "Test accuracy: 0.6186440677966102\n"
          ]
        }
      ],
      "source": [
        "# Calculate and print the average accuracy and standard deviation\n",
        "print(\"Average accuracy:\", np.mean(accuracies))\n",
        "print(\"Average std:\", np.std(accuracies))\n",
        "\n",
        "# Fit the logistic regression model on the training data\n",
        "logreg.fit(x_train, y_train)\n",
        "\n",
        "# Print the train accuracy\n",
        "train_accuracy = logreg.score(x_train, y_train)\n",
        "print(\"Train accuracy:\",train_accuracy)\n",
        "\n",
        "# Print the test accuracy\n",
        "test_accuracy = logreg.score(x_test, y_test)\n",
        "print(\"Test accuracy:\", test_accuracy)\n"
      ]
    }
  ],
  "metadata": {
    "colab": {
      "provenance": []
    },
    "kernelspec": {
      "display_name": "Python 3",
      "name": "python3"
    },
    "language_info": {
      "codemirror_mode": {
        "name": "ipython",
        "version": 3
      },
      "file_extension": ".py",
      "mimetype": "text/x-python",
      "name": "python",
      "nbconvert_exporter": "python",
      "pygments_lexer": "ipython3",
      "version": "3.9.18"
    }
  },
  "nbformat": 4,
  "nbformat_minor": 0
}
